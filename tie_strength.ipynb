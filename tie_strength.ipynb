{
 "cells": [
  {
   "cell_type": "markdown",
   "metadata": {
    "cell_id": "00000-55bb7199-1da6-4764-ae93-1e981b9598ae",
    "deepnote_cell_type": "markdown",
    "id": "Vbb2O7zm2et-",
    "output_cleared": false
   },
   "source": [
    "# Facebook Data Analysis"
   ]
  },
  {
   "cell_type": "markdown",
   "metadata": {
    "cell_id": "00001-c5c29ea2-7df9-4c49-8762-9d3b0bbf7b0f",
    "deepnote_cell_type": "markdown",
    "id": "jCTRmAMZGvG8",
    "output_cleared": false
   },
   "source": [
    "#### Read facebook dataset\n",
    "\n",
    "*P.S. Make sure the facebook file you uploaded is in json*\n"
   ]
  },
  {
   "cell_type": "code",
   "execution_count": 1,
   "metadata": {
    "cell_id": "00002-83103e7d-b6f1-4e93-8428-6d77b64fe7b9",
    "deepnote_cell_type": "code",
    "deepnote_to_be_reexecuted": false,
    "execution_millis": 13,
    "execution_start": 1609665780832,
    "output_cleared": false,
    "source_hash": "b0d4a21c"
   },
   "outputs": [],
   "source": [
    "# Uncomment the code below to unzip your file\n",
    "\n",
    "# if your zipfile ends with `tar` uncomment the code below\n",
    "# !tar -xvf {path_to_facebook_zip}\n",
    "\n",
    "# if your zipfile ends with `zip` uncomment the code below\n",
    "# !unzip {path_to_facebook_zip}\n",
    "\n",
    "import os # to iterate through the directory\n",
    "\n",
    "# directory path to your file\n",
    "startpath = os.path.join(os.getcwd(),'facebook-sampledataset') # change the folder name here"
   ]
  },
  {
   "cell_type": "markdown",
   "metadata": {
    "cell_id": "00003-8e332eb0-ca2e-4c0f-91af-34981c554468",
    "deepnote_cell_type": "markdown",
    "output_cleared": false,
    "tags": []
   },
   "source": [
    "## Import Libraries"
   ]
  },
  {
   "cell_type": "code",
   "execution_count": 2,
   "metadata": {
    "cell_id": "00004-ee1d0a6d-2e4a-4a4b-a398-0b31fd318b74",
    "deepnote_cell_type": "code",
    "deepnote_to_be_reexecuted": false,
    "execution_millis": 53235,
    "execution_start": 1609665780849,
    "output_cleared": false,
    "source_hash": "62515e10",
    "tags": []
   },
   "outputs": [],
   "source": [
    "# Uncomment the lines below to install all required libraries\n",
    "#!pip install -r requirements.txt"
   ]
  },
  {
   "cell_type": "code",
   "execution_count": 3,
   "metadata": {
    "cell_id": "00005-6db29ef9-60ca-4585-8f11-023c4f4ca374",
    "deepnote_cell_type": "code",
    "deepnote_to_be_reexecuted": false,
    "execution_millis": 1645,
    "execution_start": 1609665780859,
    "id": "TZq_AxCI18Jz",
    "output_cleared": false,
    "source_hash": "add5cfb6"
   },
   "outputs": [],
   "source": [
    "import json # to read the json files\n",
    "import pandas as pd # for data handling\n",
    "import numpy as np\n",
    "from pandas.io.json import json_normalize\n",
    "import re\n",
    "from empath import Empath\n",
    "from datetime import datetime\n",
    "import matplotlib.pyplot as plt\n",
    "import seaborn as sns\n",
    "from vaderSentiment.vaderSentiment import SentimentIntensityAnalyzer\n",
    "import math\n"
   ]
  },
  {
   "cell_type": "markdown",
   "metadata": {
    "cell_id": "00008-3042cfce-3156-4f42-9f3b-93f5daff1034",
    "deepnote_cell_type": "markdown",
    "id": "dlFpPpZ92hMq",
    "output_cleared": false
   },
   "source": [
    "## Getting all Metrics\n",
    "*run all the cell below*\n",
    "### Days since being friends"
   ]
  },
  {
   "cell_type": "code",
   "execution_count": 4,
   "metadata": {
    "cell_id": "00009-14bd1b71-cf2b-4418-b7f1-be801efbaf53",
    "deepnote_cell_type": "code",
    "deepnote_to_be_reexecuted": false,
    "execution_millis": 9,
    "execution_start": 1609665782516,
    "source_hash": "7169edf4",
    "tags": []
   },
   "outputs": [],
   "source": [
    "def parse_obj(obj):\n",
    "    for key in obj:\n",
    "        if isinstance(obj[key], str):\n",
    "            obj[key] = obj[key].encode('latin_1').decode('utf-8')\n",
    "        elif isinstance(obj[key], list):\n",
    "            obj[key] = list(map(lambda x: x if type(x) != str else x.encode('latin_1').decode('utf-8'), obj[key]))\n",
    "        pass\n",
    "    return obj"
   ]
  },
  {
   "cell_type": "code",
   "execution_count": 5,
   "metadata": {
    "cell_id": "00010-418a26ac-dc67-4298-a360-e1b5e0a0065a",
    "deepnote_cell_type": "code",
    "deepnote_to_be_reexecuted": false,
    "execution_millis": 321,
    "execution_start": 1609665782529,
    "output_cleared": false,
    "source_hash": "248b71cd"
   },
   "outputs": [],
   "source": [
    "# takes the friends.json file and returns a dataframe\n",
    "def create_friends_dataframe(friends_json_file):\n",
    "    \n",
    "    fp = open(friends_json_file,)\n",
    "    friends_json = json.load(fp,object_hook=parse_obj)\n",
    "    friends_list = friends_json['friends']\n",
    "    print (len(friends_list))\n",
    "    df = pd.DataFrame(friends_list,columns=['name','timestamp'])\n",
    "    df['timestamp']= df['timestamp'].apply(lambda ts: datetime.utcfromtimestamp(ts))\n",
    "    dt_now = datetime.utcnow()\n",
    "    df['days since being friends'] = df['timestamp'].apply(lambda ts: dt_now-ts)\n",
    "    \n",
    "    return df\n",
    "\n",
    "df = create_friends_dataframe(os.path.join(startpath,'friends','friends.json'))\n",
    "df\n"
   ]
  },
  {
   "cell_type": "code",
   "execution_count": 6,
   "metadata": {
    "cell_id": "00011-8d64d736-69bc-43b6-9d74-76d52b61e78f",
    "deepnote_cell_type": "code",
    "deepnote_to_be_reexecuted": false,
    "execution_millis": 26,
    "execution_start": 1609665782868,
    "source_hash": "e0aeacc7",
    "tags": []
   },
   "outputs": [],
   "source": [
    "df = df.drop_duplicates(subset=['name'],keep=False)"
   ]
  },
  {
   "cell_type": "markdown",
   "metadata": {
    "cell_id": "00011-7918be4c-38b0-4011-95a3-c3f1e0701897",
    "deepnote_cell_type": "markdown",
    "output_cleared": false
   },
   "source": [
    "### Number of comments from each friend"
   ]
  },
  {
   "cell_type": "code",
   "execution_count": 7,
   "metadata": {
    "cell_id": "00012-7301c9f4-5f4a-481c-abcc-23a3d8732e68",
    "deepnote_cell_type": "code",
    "deepnote_to_be_reexecuted": false,
    "execution_millis": 2783,
    "execution_start": 1609665782905,
    "output_cleared": false,
    "source_hash": "d6bea2cc"
   },
   "outputs": [],
   "source": [
    "def get_comment_frequency(comments_json_file, df):\n",
    "    fp1 = open(comments_json_file,)\n",
    "    comments_json = json.load(fp1,object_hook=parse_obj)\n",
    "    comments = comments_json['comments']\n",
    "    df['comment frequency'] = 0\n",
    "    try:\n",
    "        author = comments[0]['data'][0]['comment']['author'] # name of the person in concern. (eg: Harini)\n",
    "        pattern_str =\"%s [a-zA-Z]* [a-zA-Z]* ([a-zA-Z \\.]*)'s [a-zA-Z]*\" % author\n",
    "    except:\n",
    "        print(\"Error: Couldn't get author name!\")\n",
    "        return\n",
    "    \n",
    "    for comm in comments:\n",
    "        title = comm['title']\n",
    "        match = re.search(pattern_str,title)\n",
    "        # print(match.group(0),\"-->\", match.group(1)) # Prints comment title --> friend name extracted\n",
    "        if match == None:\n",
    "        #  Match error\n",
    "          continue\n",
    "        friend = match.group(1)\n",
    "        ind = df.loc[df.name == friend].index\n",
    "        if len(ind) == 0:\n",
    "            # not in friend list\n",
    "            #  (eg: 'Harini replied to a comment', 'Harini replied to her own comment' are ignored.)\n",
    "            continue\n",
    "        elif len(ind) > 1:\n",
    "            # more than one friend share the same extracted name\n",
    "            continue\n",
    "        else:\n",
    "            row_num = ind[0]\n",
    "            df.at[row_num,'comment frequency'] += 1\n",
    "          \n",
    "get_comment_frequency(os.path.join(startpath,'comments','comments.json'),df)\n",
    "    "
   ]
  },
  {
   "cell_type": "markdown",
   "metadata": {
    "cell_id": "00014-9fcc1dbe-d001-4ea6-9cea-a34938ad5a4d",
    "deepnote_cell_type": "markdown",
    "output_cleared": false,
    "tags": []
   },
   "source": [
    "### Post frequency & Intimacy Level\n",
    "\n",
    "#### Cleaning Posts Dataset"
   ]
  },
  {
   "cell_type": "code",
   "execution_count": 8,
   "metadata": {
    "cell_id": "00015-a3039eed-ae82-4e8e-9e3c-e0127bbd5698",
    "deepnote_cell_type": "code",
    "deepnote_to_be_reexecuted": false,
    "execution_millis": 15,
    "execution_start": 1609665785704,
    "id": "9fqon3EnOBHb",
    "output_cleared": false,
    "source_hash": "a8d6c25b"
   },
   "outputs": [],
   "source": [
    "# data cleaning function\n",
    "\n",
    "def cleaning(path):\n",
    "    ''' given the json post file path as a string, \n",
    "    return a clean dataframe time timestamps, title, posts, & tags'''\n",
    "\n",
    "    # normalize nested json file\n",
    "    post_data = open(path)\n",
    "    posts = json.load(post_data,object_hook=parse_obj)\n",
    "    posts_df = pd.json_normalize(posts)\n",
    "\n",
    "    # Extract the post to a new column called \"post\"\n",
    "    posts_in_data = (\n",
    "        posts_df[\"data\"]\n",
    "        .apply(pd.Series)[0]\n",
    "        .apply(pd.Series)['post']\n",
    "    )\n",
    "    posts_df['post'] = posts_in_data\n",
    "\n",
    "    # drop empty posts\n",
    "    posts_df = posts_df.dropna(subset = ['post'])\n",
    "\n",
    "    # Extract the tags to a new column \n",
    "    tags_in_data = posts_df['tags'].apply(pd.Series)\n",
    "    posts_df['tags'] = tags_in_data.apply(\n",
    "        lambda x: ','.join(x.dropna().astype(str)),\n",
    "        axis=1\n",
    "    )\n",
    "\n",
    "    # only take the column that we need\n",
    "    field = ['timestamp', 'title', 'post', 'tags']\n",
    "    posts_df = posts_df[field]\n",
    "\n",
    "    return posts_df"
   ]
  },
  {
   "cell_type": "markdown",
   "metadata": {
    "cell_id": "00016-00f0e60e-6eba-4042-b5ae-d0b2b9319fe1",
    "deepnote_cell_type": "markdown",
    "output_cleared": false,
    "tags": []
   },
   "source": [
    "#### Combined Posts Metrics to Dataframe"
   ]
  },
  {
   "cell_type": "code",
   "execution_count": 9,
   "metadata": {
    "cell_id": "00017-398832f4-d788-4283-941e-247e6f028364",
    "deepnote_cell_type": "code",
    "deepnote_to_be_reexecuted": false,
    "execution_millis": 10178,
    "execution_start": 1609665785745,
    "output_cleared": false,
    "source_hash": "222c698d",
    "tags": []
   },
   "outputs": [],
   "source": [
    "# Combined function\n",
    "\n",
    "def get_post_metrics(df, post_file):\n",
    "\n",
    "    #define empath\n",
    "    lexicon = Empath()\n",
    "    # this is the eleven categories which we will use\n",
    "    eleven_categories = ['family', 'friends', 'home', 'sexual', 'swears', \n",
    "    'work', 'leisure', 'money', 'body', 'religion', 'health']\n",
    "\n",
    "    # clean the post data\n",
    "    post_df = cleaning(post_file) # need the cleaning function from above!\n",
    "\n",
    "    # find post frequency for each friend\n",
    "    df['post frequency'] = 0\n",
    "    df['empath'] = 0\n",
    "    for friend in df.name:\n",
    "        ind = df.loc[df.name == friend].index[0]\n",
    "        title = post_df[post_df['title'].str.contains(friend, na = False)]\n",
    "        tags = post_df[post_df['tags'].str.contains(friend, na = False)]\n",
    "        friend_post = pd.concat([title, tags])\n",
    "        df.at[ind, 'post frequency'] = len(friend_post.index)\n",
    "\n",
    "            # if there is a post, find empath analysis\n",
    "        if df.loc[ind, 'post frequency'] != 0:\n",
    "            # sum the empath analysis for each post on eleven categories\n",
    "            friend_post['empath'] = friend_post['post'].apply(lambda x: \n",
    "            sum(lexicon.analyze(x, categories = eleven_categories).values()))\n",
    "            # find the average of the empath score for each post\n",
    "            df.at[ind, 'empath'] = np.mean(friend_post['empath'])\n",
    "    return df\n",
    "df = get_post_metrics(df, os.path.join(startpath,'posts','your_posts_1.json'))\n"
   ]
  },
  {
   "cell_type": "markdown",
   "metadata": {
    "cell_id": "00018-ff43ff42-cff7-4282-88bb-b93c6fe8b8af",
    "deepnote_cell_type": "markdown",
    "output_cleared": false,
    "tags": []
   },
   "source": [
    "### Messages Frequency & Date of Last (& First) message"
   ]
  },
  {
   "cell_type": "code",
   "execution_count": 10,
   "metadata": {
    "cell_id": "00019-0e5aefce-fc31-4c8d-9aef-99cef73081cf",
    "deepnote_cell_type": "code",
    "deepnote_to_be_reexecuted": false,
    "execution_millis": 444,
    "execution_start": 1609665795927,
    "output_cleared": false,
    "source_hash": "fdaae66",
    "tags": []
   },
   "outputs": [
    {
     "name": "stderr",
     "output_type": "stream",
     "text": [
      "/shared-libs/python3.7/py-core/lib/python3.7/site-packages/ipykernel_launcher.py:4: SettingWithCopyWarning: \n",
      "A value is trying to be set on a copy of a slice from a DataFrame.\n",
      "Try using .loc[row_indexer,col_indexer] = value instead\n",
      "\n",
      "See the caveats in the documentation: https://pandas.pydata.org/pandas-docs/stable/user_guide/indexing.html#returning-a-view-versus-a-copy\n",
      "  after removing the cwd from sys.path.\n",
      "/opt/venv/lib/python3.7/site-packages/pandas/core/indexing.py:845: SettingWithCopyWarning: \n",
      "A value is trying to be set on a copy of a slice from a DataFrame.\n",
      "Try using .loc[row_indexer,col_indexer] = value instead\n",
      "\n",
      "See the caveats in the documentation: https://pandas.pydata.org/pandas-docs/stable/user_guide/indexing.html#returning-a-view-versus-a-copy\n",
      "  self.obj[key] = _infer_fill_value(value)\n",
      "/opt/venv/lib/python3.7/site-packages/pandas/core/indexing.py:966: SettingWithCopyWarning: \n",
      "A value is trying to be set on a copy of a slice from a DataFrame.\n",
      "Try using .loc[row_indexer,col_indexer] = value instead\n",
      "\n",
      "See the caveats in the documentation: https://pandas.pydata.org/pandas-docs/stable/user_guide/indexing.html#returning-a-view-versus-a-copy\n",
      "  self.obj[item] = s\n"
     ]
    }
   ],
   "source": [
    "def get_message_frequency(inbox_path):\n",
    "    chats = os.listdir(inbox_path)\n",
    "    \n",
    "    df['number of messages'] = 0\n",
    "    \n",
    "    for chat in chats: \n",
    "        messages = 0\n",
    "        try:\n",
    "            message_file = open(os.path.join(inbox_path,chat,'message_1.json'))\n",
    "            data = json.load(message_file,object_hook=parse_obj)\n",
    "            i = 1\n",
    "\n",
    "            if (len(data['participants']) == 2):\n",
    "                messages = messages + len(data['messages'])\n",
    "                i = i + 1\t\n",
    "\n",
    "                # doesn't check who sent the last message \n",
    "                last_timestamp = ((data['messages'])[0])['timestamp_ms'] / 1000\n",
    "                last_message = datetime.fromtimestamp(last_timestamp)\n",
    "\n",
    "                while (os.path.exists(os.path.join(inbox_path,chat,f'message_{i}.json'))):\n",
    "                    message_file = open(os.path.join(inbox_path,chat,f'message_{i}.json'))\n",
    "                    data = json.load(message_file,object_hook=parse_obj)\n",
    "                    messages = messages + len(data['messages'])\n",
    "                    i = i + 1\n",
    "\n",
    "                friend_name = ((data['participants'])[0])['name']\n",
    "                first_message_index = len(data['messages']) - 1\n",
    "                first_timestamp = ((data['messages'])[first_message_index])['timestamp_ms'] / 1000\n",
    "                first_message = datetime.fromtimestamp(first_timestamp)\n",
    "\n",
    "                ind = df.loc[df.name == friend_name].index\n",
    "                if len(ind) == 0:\n",
    "                    # not in friend list\n",
    "                    continue\n",
    "                elif len(ind) > 1:\n",
    "                    # more than one friend share the same extracted name\n",
    "                    continue\n",
    "                else:\n",
    "                    row_num = ind[0]\n",
    "                    df.at[row_num,'number of messages'] = messages\n",
    "                    df.at[row_num,'date of last message'] = last_message\n",
    "                    df.at[row_num,'date of first message'] = first_message\n",
    "                    df.at[row_num,'chat hash'] = chat\n",
    "        except:\n",
    "            continue\n",
    "            \n",
    "get_message_frequency(os.path.join(startpath,'messages','inbox'))"
   ]
  },
  {
   "cell_type": "markdown",
   "metadata": {
    "cell_id": "00020-e4cbff2c-540e-43bc-b1f1-855a57130d53",
    "deepnote_cell_type": "markdown",
    "output_cleared": false,
    "tags": []
   },
   "source": [
    "### Messages Vader Analysis"
   ]
  },
  {
   "cell_type": "code",
   "execution_count": 11,
   "metadata": {
    "cell_id": "00021-b74e071b-0cef-416e-be76-7916fd786256",
    "deepnote_cell_type": "code",
    "deepnote_to_be_reexecuted": false,
    "execution_millis": 4844,
    "execution_start": 1609665796384,
    "output_cleared": false,
    "source_hash": "1adf84be",
    "tags": []
   },
   "outputs": [],
   "source": [
    "analyser = SentimentIntensityAnalyzer()\n",
    "\n",
    "def sentiment_analyzer_scores(sentence):\n",
    "    score = analyser.polarity_scores(sentence)\n",
    "    return score\n",
    "\n",
    "def get_chat_vader(inbox_path,friend_analyze):\n",
    "    ind = df.loc[df.name == friend_analyze].index\n",
    "    if len(ind) == 0:\n",
    "        print ('not in friend list')\n",
    "    elif len(ind) > 1:\n",
    "        print ('more than one friend share the same extracted name')\n",
    "        # print(\"ERROR!\",title, friend, len(ind), df.iloc(ind[0]), df.iloc(ind[1]))\n",
    "    row_num = ind[0]\n",
    "    hash = df.at[row_num,'chat hash'] \n",
    "    if not (isinstance(hash, float) and  math.isnan(hash)):\n",
    "        chat_path = open(os.path.join(inbox_path,hash,'message_1.json'))\n",
    "        chat_data = json.load(chat_path)\n",
    "        chat_to_analyze = []\n",
    "        for message in chat_data['messages']:\n",
    "            if 'content' in message:\n",
    "                chat_to_analyze.append(sentiment_analyzer_scores(message['content'])['pos'])\n",
    "        lst = chat_to_analyze[:50]\n",
    "        if lst != None:\n",
    "            return np.average(chat_to_analyze[:50])\n",
    "        else:\n",
    "            return 0\n",
    "\n",
    "    else:\n",
    "        return 0\n",
    "\n",
    "def get_vader_positivity(df, inbox_path):\n",
    "\n",
    "    df['vader positivity'] = None\n",
    "    for friend in df.name:\n",
    "        ind = df.loc[df.name == friend].index[0]\n",
    "        df.at[ind, 'vader positivity'] = get_chat_vader(inbox_path,friend)\n",
    "            \n",
    "    return df\n",
    "df = get_vader_positivity(df, os.path.join(startpath,'messages','inbox'))\n"
   ]
  },
  {
   "cell_type": "markdown",
   "metadata": {
    "cell_id": "00022-d62051fd-b654-477c-bd5f-2a9129dd1fe3",
    "deepnote_cell_type": "markdown",
    "output_cleared": false,
    "tags": []
   },
   "source": [
    "### All Metrics Combined"
   ]
  },
  {
   "cell_type": "code",
   "execution_count": 12,
   "metadata": {
    "cell_id": "00023-5f20e237-660f-4c0e-b6d9-df1a68c8c789",
    "deepnote_cell_type": "code",
    "deepnote_to_be_reexecuted": false,
    "execution_millis": 10,
    "execution_start": 1609665801254,
    "output_cleared": false,
    "source_hash": "80aad002",
    "tags": []
   },
   "outputs": [
    {
     "name": "stderr",
     "output_type": "stream",
     "text": [
      "/shared-libs/python3.7/py-core/lib/python3.7/site-packages/ipykernel_launcher.py:2: SettingWithCopyWarning: \n",
      "A value is trying to be set on a copy of a slice from a DataFrame.\n",
      "Try using .loc[row_indexer,col_indexer] = value instead\n",
      "\n",
      "See the caveats in the documentation: https://pandas.pydata.org/pandas-docs/stable/user_guide/indexing.html#returning-a-view-versus-a-copy\n",
      "  \n",
      "/shared-libs/python3.7/py-core/lib/python3.7/site-packages/ipykernel_launcher.py:4: SettingWithCopyWarning: \n",
      "A value is trying to be set on a copy of a slice from a DataFrame.\n",
      "Try using .loc[row_indexer,col_indexer] = value instead\n",
      "\n",
      "See the caveats in the documentation: https://pandas.pydata.org/pandas-docs/stable/user_guide/indexing.html#returning-a-view-versus-a-copy\n",
      "  after removing the cwd from sys.path.\n",
      "/shared-libs/python3.7/py-core/lib/python3.7/site-packages/ipykernel_launcher.py:5: SettingWithCopyWarning: \n",
      "A value is trying to be set on a copy of a slice from a DataFrame.\n",
      "Try using .loc[row_indexer,col_indexer] = value instead\n",
      "\n",
      "See the caveats in the documentation: https://pandas.pydata.org/pandas-docs/stable/user_guide/indexing.html#returning-a-view-versus-a-copy\n",
      "  \"\"\"\n",
      "/shared-libs/python3.7/py-core/lib/python3.7/site-packages/ipykernel_launcher.py:6: SettingWithCopyWarning: \n",
      "A value is trying to be set on a copy of a slice from a DataFrame.\n",
      "Try using .loc[row_indexer,col_indexer] = value instead\n",
      "\n",
      "See the caveats in the documentation: https://pandas.pydata.org/pandas-docs/stable/user_guide/indexing.html#returning-a-view-versus-a-copy\n",
      "  \n"
     ]
    }
   ],
   "source": [
    "# clean datetime metrics\n",
    "df['days since being friends'] = df['days since being friends'].astype('timedelta64[h]') / 24\n",
    "dt_now = datetime.utcnow()\n",
    "df['days since last communication'] = df['date of last message'].apply(lambda ts: dt_now-ts)\n",
    "df['days since last communication'] = df['days since last communication'].astype('timedelta64[h]') / 24\n",
    "df['days since last communication'] = df['days since last communication'].fillna(df['days since being friends'])"
   ]
  },
  {
   "cell_type": "code",
   "execution_count": 13,
   "metadata": {
    "cell_id": "00024-45a1b2b5-5a72-4cff-9505-65a9d1602b0c",
    "deepnote_cell_type": "code",
    "deepnote_to_be_reexecuted": false,
    "execution_millis": 114,
    "execution_start": 1609665801272,
    "output_cleared": false,
    "source_hash": "4a23d09d",
    "tags": []
   },
   "outputs": [
    {
     "data": {
      "application/vnd.deepnote.dataframe.v2+json": {
       "column_count": 9,
       "columns": [
        {
         "dtype": "object",
         "name": "name",
         "stats": {
          "categories": [
           {
            "count": 1,
            "name": "JCNNILCU.SFYHU.AILCHC"
           },
           {
            "count": 1,
            "name": "Alex K. Chen"
           },
           {
            "count": 1463,
            "name": "1463 others"
           }
          ],
          "nan_count": 0,
          "unique_count": 1465
         }
        },
        {
         "dtype": "float64",
         "name": "days since being friends",
         "stats": {
          "histogram": [
           {
            "bin_end": 748.7875,
            "bin_start": 300.375,
            "count": 122
           },
           {
            "bin_end": 1197.2,
            "bin_start": 748.7875,
            "count": 190
           },
           {
            "bin_end": 1645.6125000000002,
            "bin_start": 1197.2,
            "count": 345
           },
           {
            "bin_end": 2094.025,
            "bin_start": 1645.6125000000002,
            "count": 184
           },
           {
            "bin_end": 2542.4375,
            "bin_start": 2094.025,
            "count": 55
           },
           {
            "bin_end": 2990.8500000000004,
            "bin_start": 2542.4375,
            "count": 87
           },
           {
            "bin_end": 3439.2625000000003,
            "bin_start": 2990.8500000000004,
            "count": 102
           },
           {
            "bin_end": 3887.675,
            "bin_start": 3439.2625000000003,
            "count": 149
           },
           {
            "bin_end": 4336.0875,
            "bin_start": 3887.675,
            "count": 196
           },
           {
            "bin_end": 4784.5,
            "bin_start": 4336.0875,
            "count": 35
           }
          ],
          "max": 4784.5,
          "min": 300.375,
          "nan_count": 0,
          "unique_count": 1063
         }
        },
        {
         "dtype": "int64",
         "name": "comment frequency",
         "stats": {
          "histogram": [
           {
            "bin_end": 9.5,
            "bin_start": 0,
            "count": 1443
           },
           {
            "bin_end": 19,
            "bin_start": 9.5,
            "count": 12
           },
           {
            "bin_end": 28.5,
            "bin_start": 19,
            "count": 5
           },
           {
            "bin_end": 38,
            "bin_start": 28.5,
            "count": 2
           },
           {
            "bin_end": 47.5,
            "bin_start": 38,
            "count": 1
           },
           {
            "bin_end": 57,
            "bin_start": 47.5,
            "count": 0
           },
           {
            "bin_end": 66.5,
            "bin_start": 57,
            "count": 1
           },
           {
            "bin_end": 76,
            "bin_start": 66.5,
            "count": 0
           },
           {
            "bin_end": 85.5,
            "bin_start": 76,
            "count": 0
           },
           {
            "bin_end": 95,
            "bin_start": 85.5,
            "count": 1
           }
          ],
          "max": 95,
          "min": 0,
          "nan_count": 0,
          "unique_count": 24
         }
        },
        {
         "dtype": "int64",
         "name": "post frequency",
         "stats": {
          "histogram": [
           {
            "bin_end": 0.1,
            "bin_start": 0,
            "count": 1464
           },
           {
            "bin_end": 0.2,
            "bin_start": 0.1,
            "count": 0
           },
           {
            "bin_end": 0.30000000000000004,
            "bin_start": 0.2,
            "count": 0
           },
           {
            "bin_end": 0.4,
            "bin_start": 0.30000000000000004,
            "count": 0
           },
           {
            "bin_end": 0.5,
            "bin_start": 0.4,
            "count": 0
           },
           {
            "bin_end": 0.6000000000000001,
            "bin_start": 0.5,
            "count": 0
           },
           {
            "bin_end": 0.7000000000000001,
            "bin_start": 0.6000000000000001,
            "count": 0
           },
           {
            "bin_end": 0.8,
            "bin_start": 0.7000000000000001,
            "count": 0
           },
           {
            "bin_end": 0.9,
            "bin_start": 0.8,
            "count": 0
           },
           {
            "bin_end": 1,
            "bin_start": 0.9,
            "count": 1
           }
          ],
          "max": 1,
          "min": 0,
          "nan_count": 0,
          "unique_count": 2
         }
        },
        {
         "dtype": "int64",
         "name": "empath",
         "stats": {
          "histogram": [
           {
            "bin_end": -0.4,
            "bin_start": -0.5,
            "count": 0
           },
           {
            "bin_end": -0.3,
            "bin_start": -0.4,
            "count": 0
           },
           {
            "bin_end": -0.19999999999999996,
            "bin_start": -0.3,
            "count": 0
           },
           {
            "bin_end": -0.09999999999999998,
            "bin_start": -0.19999999999999996,
            "count": 0
           },
           {
            "bin_end": 0,
            "bin_start": -0.09999999999999998,
            "count": 0
           },
           {
            "bin_end": 0.10000000000000009,
            "bin_start": 0,
            "count": 1465
           },
           {
            "bin_end": 0.20000000000000007,
            "bin_start": 0.10000000000000009,
            "count": 0
           },
           {
            "bin_end": 0.30000000000000004,
            "bin_start": 0.20000000000000007,
            "count": 0
           },
           {
            "bin_end": 0.4,
            "bin_start": 0.30000000000000004,
            "count": 0
           },
           {
            "bin_end": 0.5,
            "bin_start": 0.4,
            "count": 0
           }
          ],
          "max": 0,
          "min": 0,
          "nan_count": 0,
          "unique_count": 1
         }
        },
        {
         "dtype": "int64",
         "name": "number of messages",
         "stats": {
          "histogram": [
           {
            "bin_end": 79.7,
            "bin_start": 0,
            "count": 1460
           },
           {
            "bin_end": 159.4,
            "bin_start": 79.7,
            "count": 2
           },
           {
            "bin_end": 239.10000000000002,
            "bin_start": 159.4,
            "count": 0
           },
           {
            "bin_end": 318.8,
            "bin_start": 239.10000000000002,
            "count": 0
           },
           {
            "bin_end": 398.5,
            "bin_start": 318.8,
            "count": 0
           },
           {
            "bin_end": 478.20000000000005,
            "bin_start": 398.5,
            "count": 0
           },
           {
            "bin_end": 557.9,
            "bin_start": 478.20000000000005,
            "count": 0
           },
           {
            "bin_end": 637.6,
            "bin_start": 557.9,
            "count": 2
           },
           {
            "bin_end": 717.3000000000001,
            "bin_start": 637.6,
            "count": 0
           },
           {
            "bin_end": 797,
            "bin_start": 717.3000000000001,
            "count": 1
           }
          ],
          "max": 797,
          "min": 0,
          "nan_count": 0,
          "unique_count": 13
         }
        },
        {
         "dtype": "object",
         "name": "chat hash",
         "stats": {
          "categories": [
           {
            "count": 1,
            "name": "FCLxtGFi0Q"
           },
           {
            "count": 13,
            "name": "13 others"
           },
           {
            "count": 1451,
            "name": "Missing"
           }
          ],
          "nan_count": 1451,
          "unique_count": 14
         }
        },
        {
         "dtype": "object",
         "name": "vader positivity",
         "stats": {
          "categories": [
           {
            "count": 1451,
            "name": "0.0"
           },
           {
            "count": 1,
            "name": "0.18654"
           },
           {
            "count": 13,
            "name": "13 others"
           }
          ],
          "nan_count": 0,
          "unique_count": 15
         }
        },
        {
         "dtype": "float64",
         "name": "days since last communication",
         "stats": {
          "histogram": [
           {
            "bin_end": 748.7875,
            "bin_start": 300.375,
            "count": 126
           },
           {
            "bin_end": 1197.2,
            "bin_start": 748.7875,
            "count": 190
           },
           {
            "bin_end": 1645.6125000000002,
            "bin_start": 1197.2,
            "count": 344
           },
           {
            "bin_end": 2094.025,
            "bin_start": 1645.6125000000002,
            "count": 182
           },
           {
            "bin_end": 2542.4375,
            "bin_start": 2094.025,
            "count": 57
           },
           {
            "bin_end": 2990.8500000000004,
            "bin_start": 2542.4375,
            "count": 88
           },
           {
            "bin_end": 3439.2625000000003,
            "bin_start": 2990.8500000000004,
            "count": 100
           },
           {
            "bin_end": 3887.675,
            "bin_start": 3439.2625000000003,
            "count": 148
           },
           {
            "bin_end": 4336.0875,
            "bin_start": 3887.675,
            "count": 195
           },
           {
            "bin_end": 4784.5,
            "bin_start": 4336.0875,
            "count": 35
           }
          ],
          "max": 4784.5,
          "min": 300.375,
          "nan_count": 0,
          "unique_count": 1067
         }
        },
        {
         "dtype": "int64",
         "name": "_deepnote_index_column"
        }
       ],
       "row_count": 1465,
       "rows_bottom": [
        {
         "_deepnote_index_column": 541,
         "chat hash": "nan",
         "comment frequency": 0,
         "days since being friends": 1536,
         "days since last communication": 1536,
         "empath": 0,
         "name": "XIHHS.QLIQNBYL",
         "number of messages": 0,
         "post frequency": 0,
         "vader positivity": 0
        },
        {
         "_deepnote_index_column": 540,
         "chat hash": "nan",
         "comment frequency": 5,
         "days since being friends": 1535.5416666666667,
         "days since last communication": 1535.5416666666667,
         "empath": 0,
         "name": "TYLAOM.KCFFM",
         "number of messages": 0,
         "post frequency": 0,
         "vader positivity": 0
        },
        {
         "_deepnote_index_column": 539,
         "chat hash": "nan",
         "comment frequency": 0,
         "days since being friends": 1534,
         "days since last communication": 1534,
         "empath": 0,
         "name": "HIG.GNLCHAYL",
         "number of messages": 0,
         "post frequency": 0,
         "vader positivity": 0
        },
        {
         "_deepnote_index_column": 538,
         "chat hash": "nan",
         "comment frequency": 3,
         "days since being friends": 1533.9583333333333,
         "days since last communication": 1533.9583333333333,
         "empath": 0,
         "name": "OLWBCY.AYYEYF",
         "number of messages": 0,
         "post frequency": 0,
         "vader positivity": 0
        },
        {
         "_deepnote_index_column": 537,
         "chat hash": "nan",
         "comment frequency": 0,
         "days since being friends": 1533.9583333333333,
         "days since last communication": 1533.9583333333333,
         "empath": 0,
         "name": "BIUB.DYLYT",
         "number of messages": 0,
         "post frequency": 0,
         "vader positivity": 0
        },
        {
         "_deepnote_index_column": 536,
         "chat hash": "nan",
         "comment frequency": 15,
         "days since being friends": 1533.9583333333333,
         "days since last communication": 1533.9583333333333,
         "empath": 0,
         "name": "XIY.FSUH",
         "number of messages": 0,
         "post frequency": 0,
         "vader positivity": 0
        },
        {
         "_deepnote_index_column": 535,
         "chat hash": "nan",
         "comment frequency": 4,
         "days since being friends": 1533.875,
         "days since last communication": 1533.875,
         "empath": 0,
         "name": "OFYRUHXYL.DIMN",
         "number of messages": 0,
         "post frequency": 0,
         "vader positivity": 0
        },
        {
         "_deepnote_index_column": 534,
         "chat hash": "nan",
         "comment frequency": 0,
         "days since being friends": 1533.75,
         "days since last communication": 1533.75,
         "empath": 0,
         "name": "QBLCM.WXCUFO;WEUNI",
         "number of messages": 0,
         "post frequency": 0,
         "vader positivity": 0
        },
        {
         "_deepnote_index_column": 533,
         "chat hash": "nan",
         "comment frequency": 0,
         "days since being friends": 1532.9583333333333,
         "days since last communication": 1532.9583333333333,
         "empath": 0,
         "name": "ODUSUHN.YUNIWB",
         "number of messages": 0,
         "post frequency": 0,
         "vader positivity": 0
        },
        {
         "_deepnote_index_column": 532,
         "chat hash": "nan",
         "comment frequency": 0,
         "days since being friends": 1532.8333333333333,
         "days since last communication": 1532.8333333333333,
         "empath": 0,
         "name": "GBOHMOEY.AUNMOSUGU",
         "number of messages": 0,
         "post frequency": 0,
         "vader positivity": 0
        },
        {
         "_deepnote_index_column": 508,
         "chat hash": "nan",
         "comment frequency": 0,
         "days since being friends": 1525,
         "days since last communication": 1525,
         "empath": 0,
         "name": "XUGYM.ULUBUG",
         "number of messages": 0,
         "post frequency": 0,
         "vader positivity": 0
        },
        {
         "_deepnote_index_column": 507,
         "chat hash": "nan",
         "comment frequency": 0,
         "days since being friends": 1524.625,
         "days since last communication": 1524.625,
         "empath": 0,
         "name": "RPO>>WAPO>>U?HCYF.VYAGUH",
         "number of messages": 0,
         "post frequency": 0,
         "vader positivity": 0
        },
        {
         "_deepnote_index_column": 506,
         "chat hash": "nan",
         "comment frequency": 0,
         "days since being friends": 1523.875,
         "days since last communication": 1523.875,
         "empath": 0,
         "name": "PO>>WBPO>>VXOVIPO>>WCPO>>U?.DYLHCPO>>WCPO>>U?",
         "number of messages": 0,
         "post frequency": 0,
         "vader positivity": 0
        },
        {
         "_deepnote_index_column": 505,
         "chat hash": "nan",
         "comment frequency": 1,
         "days since being friends": 1523.7916666666667,
         "days since last communication": 1523.7916666666667,
         "empath": 0,
         "name": "HTPYNUH.AIYP",
         "number of messages": 0,
         "post frequency": 0,
         "vader positivity": 0
        },
        {
         "_deepnote_index_column": 482,
         "chat hash": "nan",
         "comment frequency": 0,
         "days since being friends": 1505.7916666666667,
         "days since last communication": 1505.7916666666667,
         "empath": 0,
         "name": "ZCUG.PULLYNN",
         "number of messages": 0,
         "post frequency": 0,
         "vader positivity": 0
        },
        {
         "_deepnote_index_column": 481,
         "chat hash": "nan",
         "comment frequency": 0,
         "days since being friends": 1504.3333333333333,
         "days since last communication": 1504.3333333333333,
         "empath": 0,
         "name": "OHAOM.FYYX",
         "number of messages": 0,
         "post frequency": 0,
         "vader positivity": 0
        },
        {
         "_deepnote_index_column": 480,
         "chat hash": "nan",
         "comment frequency": 0,
         "days since being friends": 1503.4583333333333,
         "days since last communication": 1503.4583333333333,
         "empath": 0,
         "name": "AULECSUH.OHNIHSOE",
         "number of messages": 0,
         "post frequency": 0,
         "vader positivity": 0
        },
        {
         "_deepnote_index_column": 479,
         "chat hash": "nan",
         "comment frequency": 0,
         "days since being friends": 1502.2916666666667,
         "days since last communication": 1502.2916666666667,
         "empath": 0,
         "name": "DUNLCWE.AWDBYLMIH",
         "number of messages": 0,
         "post frequency": 0,
         "vader positivity": 0
        },
        {
         "_deepnote_index_column": 478,
         "chat hash": "nan",
         "comment frequency": 0,
         "days since being friends": 1500.75,
         "days since last communication": 1500.75,
         "empath": 0,
         "name": "QYFYMNCHY.GWBILFYGYL",
         "number of messages": 0,
         "post frequency": 0,
         "vader positivity": 0
        },
        {
         "_deepnote_index_column": 477,
         "chat hash": "nan",
         "comment frequency": 0,
         "days since being friends": 1499.625,
         "days since last communication": 1499.625,
         "empath": 0,
         "name": "HUFCU.AWJBYLMIH",
         "number of messages": 0,
         "post frequency": 0,
         "vader positivity": 0
        },
        {
         "_deepnote_index_column": 476,
         "chat hash": "nan",
         "comment frequency": 0,
         "days since being friends": 1498.7083333333333,
         "days since last communication": 1498.7083333333333,
         "empath": 0,
         "name": "TLUHPO>>WAPO>>UEICM.FIVCH",
         "number of messages": 0,
         "post frequency": 0,
         "vader positivity": 0
        },
        {
         "_deepnote_index_column": 475,
         "chat hash": "nan",
         "comment frequency": 1,
         "days since being friends": 1497.9166666666667,
         "days since last communication": 1497.9166666666667,
         "empath": 0,
         "name": "QBULFCY.GUFCMVOLS",
         "number of messages": 0,
         "post frequency": 0,
         "vader positivity": 0
        },
        {
         "_deepnote_index_column": 474,
         "chat hash": "nan",
         "comment frequency": 0,
         "days since being friends": 1497.3333333333333,
         "days since last communication": 1497.3333333333333,
         "empath": 0,
         "name": "XUWE.DULEYL",
         "number of messages": 0,
         "post frequency": 0,
         "vader positivity": 0
        },
        {
         "_deepnote_index_column": 473,
         "chat hash": "nan",
         "comment frequency": 0,
         "days since being friends": 1496.7916666666667,
         "days since last communication": 1496.7916666666667,
         "empath": 0,
         "name": "ACEY.PBUNCU",
         "number of messages": 0,
         "post frequency": 0,
         "vader positivity": 0
        },
        {
         "_deepnote_index_column": 472,
         "chat hash": "nan",
         "comment frequency": 0,
         "days since being friends": 1494.875,
         "days since last communication": 1494.875,
         "empath": 0,
         "name": "FBIXLC.GYHHCNN",
         "number of messages": 0,
         "post frequency": 0,
         "vader positivity": 0
        },
        {
         "_deepnote_index_column": 471,
         "chat hash": "nan",
         "comment frequency": 0,
         "days since being friends": 1494.875,
         "days since last communication": 1494.875,
         "empath": 0,
         "name": "ZILU.XOHA",
         "number of messages": 0,
         "post frequency": 0,
         "vader positivity": 0
        },
        {
         "_deepnote_index_column": 470,
         "chat hash": "nan",
         "comment frequency": 0,
         "days since being friends": 1494.5833333333333,
         "days since last communication": 1494.5833333333333,
         "empath": 0,
         "name": "HIGUM.YYHHYXS",
         "number of messages": 0,
         "post frequency": 0,
         "vader positivity": 0
        },
        {
         "_deepnote_index_column": 469,
         "chat hash": "nan",
         "comment frequency": 2,
         "days since being friends": 1493.6666666666667,
         "days since last communication": 1493.6666666666667,
         "empath": 0,
         "name": "DYNYL.PYHMIH",
         "number of messages": 0,
         "post frequency": 0,
         "vader positivity": 0
        },
        {
         "_deepnote_index_column": 468,
         "chat hash": "nan",
         "comment frequency": 0,
         "days since being friends": 1493.625,
         "days since last communication": 1493.625,
         "empath": 0,
         "name": "XUMY.SO",
         "number of messages": 0,
         "post frequency": 0,
         "vader positivity": 0
        },
        {
         "_deepnote_index_column": 467,
         "chat hash": "nan",
         "comment frequency": 0,
         "days since being friends": 1493.1666666666667,
         "days since last communication": 1493.1666666666667,
         "empath": 0,
         "name": "OHNIH.ULIGPO>>WAPO>>VAWTEC",
         "number of messages": 0,
         "post frequency": 0,
         "vader positivity": 0
        },
        {
         "_deepnote_index_column": 466,
         "chat hash": "nan",
         "comment frequency": 0,
         "days since being friends": 1492.75,
         "days since last communication": 1492.75,
         "empath": 0,
         "name": "SPYLYMN.MYIQ",
         "number of messages": 0,
         "post frequency": 0,
         "vader positivity": 0
        },
        {
         "_deepnote_index_column": 465,
         "chat hash": "nan",
         "comment frequency": 16,
         "days since being friends": 1492.75,
         "days since last communication": 1492.75,
         "empath": 0,
         "name": "SMGIHX.ZIB",
         "number of messages": 0,
         "post frequency": 0,
         "vader positivity": 0
        },
        {
         "_deepnote_index_column": 464,
         "chat hash": "nan",
         "comment frequency": 0,
         "days since being friends": 1492.2083333333333,
         "days since last communication": 1492.2083333333333,
         "empath": 0,
         "name": "FUZZY.VIVMIH",
         "number of messages": 0,
         "post frequency": 0,
         "vader positivity": 0
        },
        {
         "_deepnote_index_column": 483,
         "chat hash": "nan",
         "comment frequency": 1,
         "days since being friends": 1506.8333333333333,
         "days since last communication": 1506.8333333333333,
         "empath": 0,
         "name": "ZILYHTI.AUMWCIFC",
         "number of messages": 0,
         "post frequency": 0,
         "vader positivity": 0
        },
        {
         "_deepnote_index_column": 484,
         "chat hash": "nan",
         "comment frequency": 0,
         "days since being friends": 1507.4166666666667,
         "days since last communication": 1507.4166666666667,
         "empath": 0,
         "name": "XUMIH.ZUG",
         "number of messages": 0,
         "post frequency": 0,
         "vader positivity": 0
        },
        {
         "_deepnote_index_column": 485,
         "chat hash": "nan",
         "comment frequency": 0,
         "days since being friends": 1507.8333333333333,
         "days since last communication": 1507.8333333333333,
         "empath": 0,
         "name": "QUNBYLCHY.QILHCMB",
         "number of messages": 0,
         "post frequency": 0,
         "vader positivity": 0
        },
        {
         "_deepnote_index_column": 496,
         "chat hash": "nan",
         "comment frequency": 0,
         "days since being friends": 1519.3333333333333,
         "days since last communication": 1519.3333333333333,
         "empath": 0,
         "name": "XUCGY.RY.ZYTU",
         "number of messages": 0,
         "post frequency": 0,
         "vader positivity": 0
        },
        {
         "_deepnote_index_column": 504,
         "chat hash": "nan",
         "comment frequency": 0,
         "days since being friends": 1523.7916666666667,
         "days since last communication": 1523.7916666666667,
         "empath": 0,
         "name": "XUGYM.AILLCM",
         "number of messages": 0,
         "post frequency": 0,
         "vader positivity": 0
        },
        {
         "_deepnote_index_column": 503,
         "chat hash": "nan",
         "comment frequency": 7,
         "days since being friends": 1523.75,
         "days since last communication": 1523.75,
         "empath": 0,
         "name": "QSLCF.UYCMGUL",
         "number of messages": 0,
         "post frequency": 0,
         "vader positivity": 0
        },
        {
         "_deepnote_index_column": 502,
         "chat hash": "nan",
         "comment frequency": 0,
         "days since being friends": 1523.75,
         "days since last communication": 1523.75,
         "empath": 0,
         "name": "HIGGUMI.ZOCMULC",
         "number of messages": 0,
         "post frequency": 0,
         "vader positivity": 0
        },
        {
         "_deepnote_index_column": 501,
         "chat hash": "nan",
         "comment frequency": 0,
         "days since being friends": 1523.75,
         "days since last communication": 1523.75,
         "empath": 0,
         "name": "SGGU.RCUV",
         "number of messages": 0,
         "post frequency": 0,
         "vader positivity": 0
        },
        {
         "_deepnote_index_column": 500,
         "chat hash": "nan",
         "comment frequency": 0,
         "days since being friends": 1522.5,
         "days since last communication": 1522.5,
         "empath": 0,
         "name": "XOFCOM.GCFVYLHUAYF",
         "number of messages": 0,
         "post frequency": 0,
         "vader positivity": 0
        },
        {
         "_deepnote_index_column": 499,
         "chat hash": "nan",
         "comment frequency": 0,
         "days since being friends": 1521.9583333333333,
         "days since last communication": 1521.9583333333333,
         "empath": 0,
         "name": "PYUNLCR.GQUHMIH.GWINN",
         "number of messages": 0,
         "post frequency": 0,
         "vader positivity": 0
        },
        {
         "_deepnote_index_column": 498,
         "chat hash": "nan",
         "comment frequency": 6,
         "days since being friends": 1520.875,
         "days since last communication": 1520.875,
         "empath": 0,
         "name": "KCFFCUG.UYILAY.YCLE",
         "number of messages": 0,
         "post frequency": 0,
         "vader positivity": 0
        },
        {
         "_deepnote_index_column": 497,
         "chat hash": "nan",
         "comment frequency": 0,
         "days since being friends": 1519.5833333333333,
         "days since last communication": 1519.5833333333333,
         "empath": 0,
         "name": "WMBO.DUNBUE",
         "number of messages": 0,
         "post frequency": 0,
         "vader positivity": 0
        },
        {
         "_deepnote_index_column": 495,
         "chat hash": "nan",
         "comment frequency": 0,
         "days since being friends": 1517.625,
         "days since last communication": 1517.625,
         "empath": 0,
         "name": "PYNB.ZYPS",
         "number of messages": 0,
         "post frequency": 0,
         "vader positivity": 0
        },
        {
         "_deepnote_index_column": 486,
         "chat hash": "nan",
         "comment frequency": 2,
         "days since being friends": 1508.4166666666667,
         "days since last communication": 1508.4166666666667,
         "empath": 0,
         "name": "OFYR.ACBUC",
         "number of messages": 0,
         "post frequency": 0,
         "vader positivity": 0
        },
        {
         "_deepnote_index_column": 494,
         "chat hash": "nan",
         "comment frequency": 0,
         "days since being friends": 1517.375,
         "days since last communication": 1517.375,
         "empath": 0,
         "name": "BIUB.OLLIH",
         "number of messages": 0,
         "post frequency": 0,
         "vader positivity": 0
        },
        {
         "_deepnote_index_column": 493,
         "chat hash": "nan",
         "comment frequency": 1,
         "days since being friends": 1516.3333333333333,
         "days since last communication": 1516.3333333333333,
         "empath": 0,
         "name": "OHXLYU.GIFCM",
         "number of messages": 0,
         "post frequency": 0,
         "vader positivity": 0
        },
        {
         "_deepnote_index_column": 492,
         "chat hash": "nan",
         "comment frequency": 0,
         "days since being friends": 1515.625,
         "days since last communication": 1515.625,
         "empath": 0,
         "name": "FIBUH.QBIOXBOLS",
         "number of messages": 0,
         "post frequency": 0,
         "vader positivity": 0
        },
        {
         "_deepnote_index_column": 491,
         "chat hash": "nan",
         "comment frequency": 0,
         "days since being friends": 1512.25,
         "days since last communication": 1512.25,
         "empath": 0,
         "name": "PILC.PYLHPO>>WAPO>>U?N",
         "number of messages": 0,
         "post frequency": 0,
         "vader positivity": 0
        },
        {
         "_deepnote_index_column": 490,
         "chat hash": "nan",
         "comment frequency": 0,
         "days since being friends": 1511.5416666666667,
         "days since last communication": 1511.5416666666667,
         "empath": 0,
         "name": "OXLCUH.QFULE",
         "number of messages": 0,
         "post frequency": 0,
         "vader positivity": 0
        },
        {
         "_deepnote_index_column": 489,
         "chat hash": "nan",
         "comment frequency": 0,
         "days since being friends": 1511.4166666666667,
         "days since last communication": 1511.4166666666667,
         "empath": 0,
         "name": "AULCY.GWBQULTEIJZ",
         "number of messages": 0,
         "post frequency": 0,
         "vader positivity": 0
        },
        {
         "_deepnote_index_column": 488,
         "chat hash": "nan",
         "comment frequency": 4,
         "days since being friends": 1510.5833333333333,
         "days since last communication": 1510.5833333333333,
         "empath": 0,
         "name": "AULNU.PYLVYF.UUFFYAI",
         "number of messages": 0,
         "post frequency": 0,
         "vader positivity": 0
        },
        {
         "_deepnote_index_column": 487,
         "chat hash": "nan",
         "comment frequency": 0,
         "days since being friends": 1508.4583333333333,
         "days since last communication": 1508.4583333333333,
         "empath": 0,
         "name": "VIFFS.SPUHM",
         "number of messages": 0,
         "post frequency": 0,
         "vader positivity": 0
        },
        {
         "_deepnote_index_column": 1474,
         "chat hash": "nan",
         "comment frequency": 0,
         "days since being friends": 4784.5,
         "days since last communication": 4784.5,
         "empath": 0,
         "name": "UYILAY.HUSFIL",
         "number of messages": 0,
         "post frequency": 0,
         "vader positivity": 0
        }
       ],
       "rows_top": [
        {
         "_deepnote_index_column": 159,
         "chat hash": "FCLxtGFi0Q",
         "comment frequency": 1,
         "days since being friends": 805.5833333333334,
         "days since last communication": 344.5416666666667,
         "empath": 0,
         "name": "JCNNILCU.SFYHU.AILCHC",
         "number of messages": 797,
         "post frequency": 0,
         "vader positivity": 0.18654
        },
        {
         "_deepnote_index_column": 671,
         "chat hash": "1ut-L9BlRA",
         "comment frequency": 3,
         "days since being friends": 1685.5416666666667,
         "days since last communication": 483.625,
         "empath": 0,
         "name": "Alex K. Chen",
         "number of messages": 599,
         "post frequency": 0,
         "vader positivity": 0.22021999999999997
        },
        {
         "_deepnote_index_column": 637,
         "chat hash": "4862ZCQgnQ",
         "comment frequency": 6,
         "days since being friends": 1561.2083333333333,
         "days since last communication": 1017.625,
         "empath": 0,
         "name": "OXUG.QIR",
         "number of messages": 575,
         "post frequency": 0,
         "vader positivity": 0.23542000000000002
        },
        {
         "_deepnote_index_column": 620,
         "chat hash": "-bmxwtjn7w",
         "comment frequency": 0,
         "days since being friends": 1559.6666666666667,
         "days since last communication": 493.9583333333333,
         "empath": 0,
         "name": "OULIH.QBOAAYL",
         "number of messages": 89,
         "post frequency": 0,
         "vader positivity": 0.1691
        },
        {
         "_deepnote_index_column": 306,
         "chat hash": "dF5Ki7446Q",
         "comment frequency": 0,
         "days since being friends": 1189.6666666666667,
         "days since last communication": 413.5416666666667,
         "empath": 0,
         "name": "KCFF.DOLMYL",
         "number of messages": 81,
         "post frequency": 0,
         "vader positivity": 0.27106
        },
        {
         "_deepnote_index_column": 668,
         "chat hash": "et47a95gta",
         "comment frequency": 0,
         "days since being friends": 1656.9583333333333,
         "days since last communication": 1376.4583333333333,
         "empath": 0,
         "name": "KCFF.GFUNYL",
         "number of messages": 30,
         "post frequency": 0,
         "vader positivity": 0.1723
        },
        {
         "_deepnote_index_column": 1101,
         "chat hash": "fty2ybw-3g",
         "comment frequency": 0,
         "days since being friends": 3501.5833333333335,
         "days since last communication": 1099.9166666666667,
         "empath": 0,
         "name": "OFYR.VUMNCHAM",
         "number of messages": 13,
         "post frequency": 0,
         "vader positivity": 0.15630769230769231
        },
        {
         "_deepnote_index_column": 993,
         "chat hash": "kznnjwljra",
         "comment frequency": 0,
         "days since being friends": 3033.4166666666665,
         "days since last communication": 2332.7083333333335,
         "empath": 0,
         "name": "OFYR.VUCAB",
         "number of messages": 12,
         "post frequency": 0,
         "vader positivity": 0.06983333333333334
        },
        {
         "_deepnote_index_column": 1085,
         "chat hash": "DuWK-kmKOQ",
         "comment frequency": 0,
         "days since being friends": 3427.5,
         "days since last communication": 2682.4583333333335,
         "empath": 0,
         "name": "OXUG.AUOHXYL",
         "number of messages": 11,
         "post frequency": 0,
         "vader positivity": 0.30660000000000004
        },
        {
         "_deepnote_index_column": 130,
         "chat hash": "au8dl-7oig",
         "comment frequency": 0,
         "days since being friends": 762.8333333333334,
         "days since last communication": 762.6666666666666,
         "empath": 0,
         "name": "NUE.UBUTC;HILVUNC",
         "number of messages": 3,
         "post frequency": 0,
         "vader positivity": 0.38666666666666666
        },
        {
         "_deepnote_index_column": 1250,
         "chat hash": "d924lywjwq",
         "comment frequency": 0,
         "days since being friends": 3920.5416666666665,
         "days since last communication": 2459.5833333333335,
         "empath": 0,
         "name": "KULLYH.FIOMMYUO",
         "number of messages": 3,
         "post frequency": 0,
         "vader positivity": 0.06933333333333333
        },
        {
         "_deepnote_index_column": 319,
         "chat hash": "fvlfcwewjg",
         "comment frequency": 0,
         "days since being friends": 1211.375,
         "days since last communication": 1211.375,
         "empath": 0,
         "name": "OUSOMB.DUNYF",
         "number of messages": 2,
         "post frequency": 0,
         "vader positivity": 0.157
        },
        {
         "_deepnote_index_column": 1072,
         "chat hash": "0wfyp9oyaq",
         "comment frequency": 0,
         "days since being friends": 3387.75,
         "days since last communication": 3387.75,
         "empath": 0,
         "name": "KCFF.GUPUAY",
         "number of messages": 2,
         "post frequency": 0,
         "vader positivity": 0.1545
        },
        {
         "_deepnote_index_column": 374,
         "chat hash": "qomsrwezzw",
         "comment frequency": 0,
         "days since being friends": 1359.5416666666667,
         "days since last communication": 1359.5416666666667,
         "empath": 0,
         "name": "KCFF.DUAY",
         "number of messages": 1,
         "post frequency": 0,
         "vader positivity": 0.314
        },
        {
         "_deepnote_index_column": 975,
         "chat hash": "nan",
         "comment frequency": 0,
         "days since being friends": 2892.375,
         "days since last communication": 2892.375,
         "empath": 0,
         "name": "CFFCY.ASLNFY",
         "number of messages": 0,
         "post frequency": 0,
         "vader positivity": 0
        },
        {
         "_deepnote_index_column": 973,
         "chat hash": "nan",
         "comment frequency": 0,
         "days since being friends": 2875.7916666666665,
         "days since last communication": 2875.7916666666665,
         "empath": 0,
         "name": "AUR.ULIXYWEC",
         "number of messages": 0,
         "post frequency": 0,
         "vader positivity": 0
        },
        {
         "_deepnote_index_column": 974,
         "chat hash": "nan",
         "comment frequency": 0,
         "days since being friends": 2892.375,
         "days since last communication": 2892.375,
         "empath": 0,
         "name": "CNNI.HUNNIH",
         "number of messages": 0,
         "post frequency": 0,
         "vader positivity": 0
        },
        {
         "_deepnote_index_column": 985,
         "chat hash": "nan",
         "comment frequency": 0,
         "days since being friends": 2972.375,
         "days since last communication": 2972.375,
         "empath": 0,
         "name": "AILAUH.FOMMYFF",
         "number of messages": 0,
         "post frequency": 0,
         "vader positivity": 0
        },
        {
         "_deepnote_index_column": 984,
         "chat hash": "nan",
         "comment frequency": 0,
         "days since being friends": 2969.375,
         "days since last communication": 2969.375,
         "empath": 0,
         "name": "ZCVVS.OLWBYL",
         "number of messages": 0,
         "post frequency": 0,
         "vader positivity": 0
        },
        {
         "_deepnote_index_column": 979,
         "chat hash": "nan",
         "comment frequency": 0,
         "days since being friends": 2940.4166666666665,
         "days since last communication": 2940.4166666666665,
         "empath": 0,
         "name": "ACFFCWYHN.KIIX",
         "number of messages": 0,
         "post frequency": 0,
         "vader positivity": 0
        },
        {
         "_deepnote_index_column": 980,
         "chat hash": "nan",
         "comment frequency": 0,
         "days since being friends": 2940.4166666666665,
         "days since last communication": 2940.4166666666665,
         "empath": 0,
         "name": "SGGU.DULWYFF",
         "number of messages": 0,
         "post frequency": 0,
         "vader positivity": 0
        },
        {
         "_deepnote_index_column": 977,
         "chat hash": "nan",
         "comment frequency": 1,
         "days since being friends": 2927.2083333333335,
         "days since last communication": 2927.2083333333335,
         "empath": 0,
         "name": "QIFY.HOLJCH",
         "number of messages": 0,
         "post frequency": 0,
         "vader positivity": 0
        },
        {
         "_deepnote_index_column": 983,
         "chat hash": "nan",
         "comment frequency": 0,
         "days since being friends": 2962.5416666666665,
         "days since last communication": 2962.5416666666665,
         "empath": 0,
         "name": "UYILAY.YUNCM",
         "number of messages": 0,
         "post frequency": 0,
         "vader positivity": 0
        },
        {
         "_deepnote_index_column": 982,
         "chat hash": "nan",
         "comment frequency": 0,
         "days since being friends": 2962.5416666666665,
         "days since last communication": 2962.5416666666665,
         "empath": 0,
         "name": "FYVYWWU.OFFUVS",
         "number of messages": 0,
         "post frequency": 0,
         "vader positivity": 0
        },
        {
         "_deepnote_index_column": 981,
         "chat hash": "nan",
         "comment frequency": 4,
         "days since being friends": 2951.4583333333335,
         "days since last communication": 2951.4583333333335,
         "empath": 0,
         "name": "XIHUNBUH.FUQFCHMIH",
         "number of messages": 0,
         "post frequency": 0,
         "vader positivity": 0
        },
        {
         "_deepnote_index_column": 986,
         "chat hash": "nan",
         "comment frequency": 0,
         "days since being friends": 2975.6666666666665,
         "days since last communication": 2975.6666666666665,
         "empath": 0,
         "name": "GIJBCY.HIGUFCH",
         "number of messages": 0,
         "post frequency": 0,
         "vader positivity": 0
        },
        {
         "_deepnote_index_column": 978,
         "chat hash": "nan",
         "comment frequency": 0,
         "days since being friends": 2940.4166666666665,
         "days since last communication": 2940.4166666666665,
         "empath": 0,
         "name": "FUKOYF.ZUOLYH",
         "number of messages": 0,
         "post frequency": 0,
         "vader positivity": 0
        },
        {
         "_deepnote_index_column": 976,
         "chat hash": "nan",
         "comment frequency": 0,
         "days since being friends": 2898.5,
         "days since last communication": 2898.5,
         "empath": 0,
         "name": "GWULFYNN.YCHA",
         "number of messages": 0,
         "post frequency": 0,
         "vader positivity": 0
        },
        {
         "_deepnote_index_column": 989,
         "chat hash": "nan",
         "comment frequency": 0,
         "days since being friends": 2996.875,
         "days since last communication": 2996.875,
         "empath": 0,
         "name": "AUWEYHTCY.HUSFIL",
         "number of messages": 0,
         "post frequency": 0,
         "vader positivity": 0
        },
        {
         "_deepnote_index_column": 987,
         "chat hash": "nan",
         "comment frequency": 0,
         "days since being friends": 2985.9166666666665,
         "days since last communication": 2985.9166666666665,
         "empath": 0,
         "name": "ZUOLYH.YYLL",
         "number of messages": 0,
         "post frequency": 0,
         "vader positivity": 0
        },
        {
         "_deepnote_index_column": 988,
         "chat hash": "nan",
         "comment frequency": 0,
         "days since being friends": 2996.875,
         "days since last communication": 2996.875,
         "empath": 0,
         "name": "AULWOM.ACWBUO",
         "number of messages": 0,
         "post frequency": 0,
         "vader positivity": 0
        },
        {
         "_deepnote_index_column": 1008,
         "chat hash": "nan",
         "comment frequency": 1,
         "days since being friends": 3090.4166666666665,
         "days since last communication": 3090.4166666666665,
         "empath": 0,
         "name": "KCFFCUG.HCNNYLCHANIH.AIILY",
         "number of messages": 0,
         "post frequency": 0,
         "vader positivity": 0
        },
        {
         "_deepnote_index_column": 1007,
         "chat hash": "nan",
         "comment frequency": 1,
         "days since being friends": 3086.7083333333335,
         "days since last communication": 3086.7083333333335,
         "empath": 0,
         "name": "YUNBULCHU.XYFFS",
         "number of messages": 0,
         "post frequency": 0,
         "vader positivity": 0
        },
        {
         "_deepnote_index_column": 1006,
         "chat hash": "nan",
         "comment frequency": 0,
         "days since being friends": 3080.5416666666665,
         "days since last communication": 3080.5416666666665,
         "empath": 0,
         "name": "SLCW.DULNIH",
         "number of messages": 0,
         "post frequency": 0,
         "vader positivity": 0
        },
        {
         "_deepnote_index_column": 1005,
         "chat hash": "nan",
         "comment frequency": 0,
         "days since being friends": 3080.4583333333335,
         "days since last communication": 3080.4583333333335,
         "empath": 0,
         "name": "YUNY.PUFXCHA",
         "number of messages": 0,
         "post frequency": 0,
         "vader positivity": 0
        },
        {
         "_deepnote_index_column": 1004,
         "chat hash": "nan",
         "comment frequency": 0,
         "days since being friends": 3080.4166666666665,
         "days since last communication": 3080.4166666666665,
         "empath": 0,
         "name": "QFULY.DIIFY",
         "number of messages": 0,
         "post frequency": 0,
         "vader positivity": 0
        },
        {
         "_deepnote_index_column": 1003,
         "chat hash": "nan",
         "comment frequency": 0,
         "days since being friends": 3079.9166666666665,
         "days since last communication": 3079.9166666666665,
         "empath": 0,
         "name": "FONB.GECXGILY",
         "number of messages": 0,
         "post frequency": 0,
         "vader positivity": 0
        },
        {
         "_deepnote_index_column": 1002,
         "chat hash": "nan",
         "comment frequency": 0,
         "days since being friends": 3077.0416666666665,
         "days since last communication": 3077.0416666666665,
         "empath": 0,
         "name": "FI.GBULJ",
         "number of messages": 0,
         "post frequency": 0,
         "vader positivity": 0
        },
        {
         "_deepnote_index_column": 1001,
         "chat hash": "nan",
         "comment frequency": 0,
         "days since being friends": 3057.9583333333335,
         "days since last communication": 3057.9583333333335,
         "empath": 0,
         "name": "RULCI.TYLLULU",
         "number of messages": 0,
         "post frequency": 0,
         "vader positivity": 0
        },
        {
         "_deepnote_index_column": 1000,
         "chat hash": "nan",
         "comment frequency": 0,
         "days since being friends": 3057.9583333333335,
         "days since last communication": 3057.9583333333335,
         "empath": 0,
         "name": "TYXYLCWI.DIFUHC",
         "number of messages": 0,
         "post frequency": 0,
         "vader positivity": 0
        },
        {
         "_deepnote_index_column": 999,
         "chat hash": "nan",
         "comment frequency": 0,
         "days since being friends": 3057.9583333333335,
         "days since last communication": 3057.9583333333335,
         "empath": 0,
         "name": "OHXLYU.DIFUHC",
         "number of messages": 0,
         "post frequency": 0,
         "vader positivity": 0
        },
        {
         "_deepnote_index_column": 998,
         "chat hash": "nan",
         "comment frequency": 0,
         "days since being friends": 3057.9583333333335,
         "days since last communication": 3057.9583333333335,
         "empath": 0,
         "name": "XUGYM.VUGCFNIH;WLPCHY",
         "number of messages": 0,
         "post frequency": 0,
         "vader positivity": 0
        },
        {
         "_deepnote_index_column": 997,
         "chat hash": "nan",
         "comment frequency": 0,
         "days since being friends": 3056.8333333333335,
         "days since last communication": 3056.8333333333335,
         "empath": 0,
         "name": "SFFCY.UCVMIH",
         "number of messages": 0,
         "post frequency": 0,
         "vader positivity": 0
        },
        {
         "_deepnote_index_column": 996,
         "chat hash": "nan",
         "comment frequency": 1,
         "days since being friends": 3056.8333333333335,
         "days since last communication": 3056.8333333333335,
         "empath": 0,
         "name": "OFUH.XYFFS",
         "number of messages": 0,
         "post frequency": 0,
         "vader positivity": 0
        },
        {
         "_deepnote_index_column": 995,
         "chat hash": "nan",
         "comment frequency": 0,
         "days since being friends": 3056,
         "days since last communication": 3056,
         "empath": 0,
         "name": "PYHYXYNNU.GOMC",
         "number of messages": 0,
         "post frequency": 0,
         "vader positivity": 0
        },
        {
         "_deepnote_index_column": 994,
         "chat hash": "nan",
         "comment frequency": 0,
         "days since being friends": 3050.4583333333335,
         "days since last communication": 3050.4583333333335,
         "empath": 0,
         "name": "TUVCI.TYLLULU",
         "number of messages": 0,
         "post frequency": 0,
         "vader positivity": 0
        },
        {
         "_deepnote_index_column": 992,
         "chat hash": "nan",
         "comment frequency": 1,
         "days since being friends": 3030.7916666666665,
         "days since last communication": 3030.7916666666665,
         "empath": 0,
         "name": "XIUHHY.QFOVY",
         "number of messages": 0,
         "post frequency": 0,
         "vader positivity": 0
        },
        {
         "_deepnote_index_column": 991,
         "chat hash": "nan",
         "comment frequency": 0,
         "days since being friends": 3030.7916666666665,
         "days since last communication": 3030.7916666666665,
         "empath": 0,
         "name": "WAHUWCI.TYLHPO>>WAPO>>U?HXYT.ULUHYFF",
         "number of messages": 0,
         "post frequency": 0,
         "vader positivity": 0
        },
        {
         "_deepnote_index_column": 990,
         "chat hash": "nan",
         "comment frequency": 0,
         "days since being friends": 3016.5416666666665,
         "days since last communication": 3016.5416666666665,
         "empath": 0,
         "name": "OHXS.TIAA",
         "number of messages": 0,
         "post frequency": 0,
         "vader positivity": 0
        },
        {
         "_deepnote_index_column": 971,
         "chat hash": "nan",
         "comment frequency": 0,
         "days since being friends": 2825.875,
         "days since last communication": 2825.875,
         "empath": 0,
         "name": "BCFM.PUFFYMNYL",
         "number of messages": 0,
         "post frequency": 0,
         "vader positivity": 0
        },
        {
         "_deepnote_index_column": 972,
         "chat hash": "nan",
         "comment frequency": 2,
         "days since being friends": 2851.125,
         "days since last communication": 2851.125,
         "empath": 0,
         "name": "KCFF.KUFNYL",
         "number of messages": 0,
         "post frequency": 0,
         "vader positivity": 0
        },
        {
         "_deepnote_index_column": 968,
         "chat hash": "nan",
         "comment frequency": 0,
         "days since being friends": 2822.75,
         "days since last communication": 2822.75,
         "empath": 0,
         "name": "ZYI.AUBIH",
         "number of messages": 0,
         "post frequency": 0,
         "vader positivity": 0
        },
        {
         "_deepnote_index_column": 970,
         "chat hash": "nan",
         "comment frequency": 0,
         "days since being friends": 2825.875,
         "days since last communication": 2825.875,
         "empath": 0,
         "name": "QULCM.QBYYMYGUH",
         "number of messages": 0,
         "post frequency": 0,
         "vader positivity": 0
        },
        {
         "_deepnote_index_column": 946,
         "chat hash": "nan",
         "comment frequency": 0,
         "days since being friends": 2706.25,
         "days since last communication": 2706.25,
         "empath": 0,
         "name": "TLUHWCMWI.AULNCLYHU",
         "number of messages": 0,
         "post frequency": 0,
         "vader positivity": 0
        },
        {
         "_deepnote_index_column": 944,
         "chat hash": "nan",
         "comment frequency": 0,
         "days since being friends": 2706.25,
         "days since last communication": 2706.25,
         "empath": 0,
         "name": "HUNI.RYMWUFTC",
         "number of messages": 0,
         "post frequency": 0,
         "vader positivity": 0
        }
       ]
      },
      "text/html": [
       "<div>\n",
       "<style scoped>\n",
       "    .dataframe tbody tr th:only-of-type {\n",
       "        vertical-align: middle;\n",
       "    }\n",
       "\n",
       "    .dataframe tbody tr th {\n",
       "        vertical-align: top;\n",
       "    }\n",
       "\n",
       "    .dataframe thead th {\n",
       "        text-align: right;\n",
       "    }\n",
       "</style>\n",
       "<table border=\"1\" class=\"dataframe\">\n",
       "  <thead>\n",
       "    <tr style=\"text-align: right;\">\n",
       "      <th></th>\n",
       "      <th>name</th>\n",
       "      <th>days since being friends</th>\n",
       "      <th>comment frequency</th>\n",
       "      <th>post frequency</th>\n",
       "      <th>empath</th>\n",
       "      <th>number of messages</th>\n",
       "      <th>chat hash</th>\n",
       "      <th>vader positivity</th>\n",
       "      <th>days since last communication</th>\n",
       "    </tr>\n",
       "  </thead>\n",
       "  <tbody>\n",
       "    <tr>\n",
       "      <th>159</th>\n",
       "      <td>JCNNILCU.SFYHU.AILCHC</td>\n",
       "      <td>805.583333</td>\n",
       "      <td>1</td>\n",
       "      <td>0</td>\n",
       "      <td>0</td>\n",
       "      <td>797</td>\n",
       "      <td>FCLxtGFi0Q</td>\n",
       "      <td>0.18654</td>\n",
       "      <td>344.541667</td>\n",
       "    </tr>\n",
       "    <tr>\n",
       "      <th>671</th>\n",
       "      <td>Alex K. Chen</td>\n",
       "      <td>1685.541667</td>\n",
       "      <td>3</td>\n",
       "      <td>0</td>\n",
       "      <td>0</td>\n",
       "      <td>599</td>\n",
       "      <td>1ut-L9BlRA</td>\n",
       "      <td>0.22022</td>\n",
       "      <td>483.625000</td>\n",
       "    </tr>\n",
       "    <tr>\n",
       "      <th>637</th>\n",
       "      <td>OXUG.QIR</td>\n",
       "      <td>1561.208333</td>\n",
       "      <td>6</td>\n",
       "      <td>0</td>\n",
       "      <td>0</td>\n",
       "      <td>575</td>\n",
       "      <td>4862ZCQgnQ</td>\n",
       "      <td>0.23542</td>\n",
       "      <td>1017.625000</td>\n",
       "    </tr>\n",
       "    <tr>\n",
       "      <th>620</th>\n",
       "      <td>OULIH.QBOAAYL</td>\n",
       "      <td>1559.666667</td>\n",
       "      <td>0</td>\n",
       "      <td>0</td>\n",
       "      <td>0</td>\n",
       "      <td>89</td>\n",
       "      <td>-bmxwtjn7w</td>\n",
       "      <td>0.1691</td>\n",
       "      <td>493.958333</td>\n",
       "    </tr>\n",
       "    <tr>\n",
       "      <th>306</th>\n",
       "      <td>KCFF.DOLMYL</td>\n",
       "      <td>1189.666667</td>\n",
       "      <td>0</td>\n",
       "      <td>0</td>\n",
       "      <td>0</td>\n",
       "      <td>81</td>\n",
       "      <td>dF5Ki7446Q</td>\n",
       "      <td>0.27106</td>\n",
       "      <td>413.541667</td>\n",
       "    </tr>\n",
       "    <tr>\n",
       "      <th>...</th>\n",
       "      <td>...</td>\n",
       "      <td>...</td>\n",
       "      <td>...</td>\n",
       "      <td>...</td>\n",
       "      <td>...</td>\n",
       "      <td>...</td>\n",
       "      <td>...</td>\n",
       "      <td>...</td>\n",
       "      <td>...</td>\n",
       "    </tr>\n",
       "    <tr>\n",
       "      <th>490</th>\n",
       "      <td>OXLCUH.QFULE</td>\n",
       "      <td>1511.541667</td>\n",
       "      <td>0</td>\n",
       "      <td>0</td>\n",
       "      <td>0</td>\n",
       "      <td>0</td>\n",
       "      <td>NaN</td>\n",
       "      <td>0</td>\n",
       "      <td>1511.541667</td>\n",
       "    </tr>\n",
       "    <tr>\n",
       "      <th>489</th>\n",
       "      <td>AULCY.GWBQULTEIJZ</td>\n",
       "      <td>1511.416667</td>\n",
       "      <td>0</td>\n",
       "      <td>0</td>\n",
       "      <td>0</td>\n",
       "      <td>0</td>\n",
       "      <td>NaN</td>\n",
       "      <td>0</td>\n",
       "      <td>1511.416667</td>\n",
       "    </tr>\n",
       "    <tr>\n",
       "      <th>488</th>\n",
       "      <td>AULNU.PYLVYF.UUFFYAI</td>\n",
       "      <td>1510.583333</td>\n",
       "      <td>4</td>\n",
       "      <td>0</td>\n",
       "      <td>0</td>\n",
       "      <td>0</td>\n",
       "      <td>NaN</td>\n",
       "      <td>0</td>\n",
       "      <td>1510.583333</td>\n",
       "    </tr>\n",
       "    <tr>\n",
       "      <th>487</th>\n",
       "      <td>VIFFS.SPUHM</td>\n",
       "      <td>1508.458333</td>\n",
       "      <td>0</td>\n",
       "      <td>0</td>\n",
       "      <td>0</td>\n",
       "      <td>0</td>\n",
       "      <td>NaN</td>\n",
       "      <td>0</td>\n",
       "      <td>1508.458333</td>\n",
       "    </tr>\n",
       "    <tr>\n",
       "      <th>1474</th>\n",
       "      <td>UYILAY.HUSFIL</td>\n",
       "      <td>4784.500000</td>\n",
       "      <td>0</td>\n",
       "      <td>0</td>\n",
       "      <td>0</td>\n",
       "      <td>0</td>\n",
       "      <td>NaN</td>\n",
       "      <td>0</td>\n",
       "      <td>4784.500000</td>\n",
       "    </tr>\n",
       "  </tbody>\n",
       "</table>\n",
       "<p>1465 rows × 9 columns</p>\n",
       "</div>"
      ],
      "text/plain": [
       "                       name  days since being friends  comment frequency  \\\n",
       "159   JCNNILCU.SFYHU.AILCHC                805.583333                  1   \n",
       "671            Alex K. Chen               1685.541667                  3   \n",
       "637                OXUG.QIR               1561.208333                  6   \n",
       "620           OULIH.QBOAAYL               1559.666667                  0   \n",
       "306             KCFF.DOLMYL               1189.666667                  0   \n",
       "...                     ...                       ...                ...   \n",
       "490            OXLCUH.QFULE               1511.541667                  0   \n",
       "489       AULCY.GWBQULTEIJZ               1511.416667                  0   \n",
       "488    AULNU.PYLVYF.UUFFYAI               1510.583333                  4   \n",
       "487             VIFFS.SPUHM               1508.458333                  0   \n",
       "1474          UYILAY.HUSFIL               4784.500000                  0   \n",
       "\n",
       "      post frequency  empath  number of messages   chat hash vader positivity  \\\n",
       "159                0       0                 797  FCLxtGFi0Q          0.18654   \n",
       "671                0       0                 599  1ut-L9BlRA          0.22022   \n",
       "637                0       0                 575  4862ZCQgnQ          0.23542   \n",
       "620                0       0                  89  -bmxwtjn7w           0.1691   \n",
       "306                0       0                  81  dF5Ki7446Q          0.27106   \n",
       "...              ...     ...                 ...         ...              ...   \n",
       "490                0       0                   0         NaN                0   \n",
       "489                0       0                   0         NaN                0   \n",
       "488                0       0                   0         NaN                0   \n",
       "487                0       0                   0         NaN                0   \n",
       "1474               0       0                   0         NaN                0   \n",
       "\n",
       "      days since last communication  \n",
       "159                      344.541667  \n",
       "671                      483.625000  \n",
       "637                     1017.625000  \n",
       "620                      493.958333  \n",
       "306                      413.541667  \n",
       "...                             ...  \n",
       "490                     1511.541667  \n",
       "489                     1511.416667  \n",
       "488                     1510.583333  \n",
       "487                     1508.458333  \n",
       "1474                    4784.500000  \n",
       "\n",
       "[1465 rows x 9 columns]"
      ]
     },
     "execution_count": 13,
     "metadata": {},
     "output_type": "execute_result"
    }
   ],
   "source": [
    "df = df.drop(['timestamp', 'date of first message', 'date of last message'], axis = 1)\n",
    "df.sort_values(by = ['number of messages'], ascending = False)"
   ]
  },
  {
   "cell_type": "markdown",
   "metadata": {
    "cell_id": "00060-c6758f50-e2b6-496b-86bd-350963eb508c",
    "deepnote_cell_type": "markdown",
    "output_cleared": false,
    "tags": []
   },
   "source": [
    "## Linear Regression\n",
    "\n",
    "\n",
    "Tie strength= -0.76\\*days since last communication + 0.111\\*wall intimacy + 0.135\\*inbox positivity + 0.299\\*Wall words exchanged + 0.299\\*message exchanged + 0.299\\*comments\n",
    "\n",
    "wall intimacy -> \n",
    "inbox positivity -> vader positivity\n",
    "wall words"
   ]
  },
  {
   "cell_type": "code",
   "execution_count": 14,
   "metadata": {
    "cell_id": "00061-814720fd-97b2-4740-8d28-603d37f0df02",
    "deepnote_cell_type": "code",
    "deepnote_to_be_reexecuted": false,
    "execution_millis": 82,
    "execution_start": 1609665801390,
    "output_cleared": false,
    "source_hash": "c085b6ba",
    "tags": []
   },
   "outputs": [
    {
     "data": {
      "application/vnd.deepnote.dataframe.v2+json": {
       "column_count": 9,
       "columns": [
        {
         "dtype": "object",
         "name": "name",
         "stats": {
          "categories": [
           {
            "count": 1,
            "name": "AUR.YYNNYLYL"
           },
           {
            "count": 1,
            "name": "DYNYL.KUFFCWB"
           },
           {
            "count": 3,
            "name": "3 others"
           }
          ],
          "nan_count": 0,
          "unique_count": 5
         }
        },
        {
         "dtype": "float64",
         "name": "days since being friends",
         "stats": {
          "histogram": [
           {
            "bin_end": 301.9375,
            "bin_start": 300.375,
            "count": 1
           },
           {
            "bin_end": 303.5,
            "bin_start": 301.9375,
            "count": 0
           },
           {
            "bin_end": 305.0625,
            "bin_start": 303.5,
            "count": 0
           },
           {
            "bin_end": 306.625,
            "bin_start": 305.0625,
            "count": 0
           },
           {
            "bin_end": 308.1875,
            "bin_start": 306.625,
            "count": 1
           },
           {
            "bin_end": 309.75,
            "bin_start": 308.1875,
            "count": 0
           },
           {
            "bin_end": 311.3125,
            "bin_start": 309.75,
            "count": 0
           },
           {
            "bin_end": 312.875,
            "bin_start": 311.3125,
            "count": 1
           },
           {
            "bin_end": 314.4375,
            "bin_start": 312.875,
            "count": 0
           },
           {
            "bin_end": 316,
            "bin_start": 314.4375,
            "count": 2
           }
          ],
          "max": 316,
          "min": 300.375,
          "nan_count": 0,
          "unique_count": 5
         }
        },
        {
         "dtype": "int64",
         "name": "comment frequency",
         "stats": {
          "histogram": [
           {
            "bin_end": -0.4,
            "bin_start": -0.5,
            "count": 0
           },
           {
            "bin_end": -0.3,
            "bin_start": -0.4,
            "count": 0
           },
           {
            "bin_end": -0.19999999999999996,
            "bin_start": -0.3,
            "count": 0
           },
           {
            "bin_end": -0.09999999999999998,
            "bin_start": -0.19999999999999996,
            "count": 0
           },
           {
            "bin_end": 0,
            "bin_start": -0.09999999999999998,
            "count": 0
           },
           {
            "bin_end": 0.10000000000000009,
            "bin_start": 0,
            "count": 5
           },
           {
            "bin_end": 0.20000000000000007,
            "bin_start": 0.10000000000000009,
            "count": 0
           },
           {
            "bin_end": 0.30000000000000004,
            "bin_start": 0.20000000000000007,
            "count": 0
           },
           {
            "bin_end": 0.4,
            "bin_start": 0.30000000000000004,
            "count": 0
           },
           {
            "bin_end": 0.5,
            "bin_start": 0.4,
            "count": 0
           }
          ],
          "max": 0,
          "min": 0,
          "nan_count": 0,
          "unique_count": 1
         }
        },
        {
         "dtype": "int64",
         "name": "post frequency",
         "stats": {
          "histogram": [
           {
            "bin_end": -0.4,
            "bin_start": -0.5,
            "count": 0
           },
           {
            "bin_end": -0.3,
            "bin_start": -0.4,
            "count": 0
           },
           {
            "bin_end": -0.19999999999999996,
            "bin_start": -0.3,
            "count": 0
           },
           {
            "bin_end": -0.09999999999999998,
            "bin_start": -0.19999999999999996,
            "count": 0
           },
           {
            "bin_end": 0,
            "bin_start": -0.09999999999999998,
            "count": 0
           },
           {
            "bin_end": 0.10000000000000009,
            "bin_start": 0,
            "count": 5
           },
           {
            "bin_end": 0.20000000000000007,
            "bin_start": 0.10000000000000009,
            "count": 0
           },
           {
            "bin_end": 0.30000000000000004,
            "bin_start": 0.20000000000000007,
            "count": 0
           },
           {
            "bin_end": 0.4,
            "bin_start": 0.30000000000000004,
            "count": 0
           },
           {
            "bin_end": 0.5,
            "bin_start": 0.4,
            "count": 0
           }
          ],
          "max": 0,
          "min": 0,
          "nan_count": 0,
          "unique_count": 1
         }
        },
        {
         "dtype": "int64",
         "name": "empath",
         "stats": {
          "histogram": [
           {
            "bin_end": -0.4,
            "bin_start": -0.5,
            "count": 0
           },
           {
            "bin_end": -0.3,
            "bin_start": -0.4,
            "count": 0
           },
           {
            "bin_end": -0.19999999999999996,
            "bin_start": -0.3,
            "count": 0
           },
           {
            "bin_end": -0.09999999999999998,
            "bin_start": -0.19999999999999996,
            "count": 0
           },
           {
            "bin_end": 0,
            "bin_start": -0.09999999999999998,
            "count": 0
           },
           {
            "bin_end": 0.10000000000000009,
            "bin_start": 0,
            "count": 5
           },
           {
            "bin_end": 0.20000000000000007,
            "bin_start": 0.10000000000000009,
            "count": 0
           },
           {
            "bin_end": 0.30000000000000004,
            "bin_start": 0.20000000000000007,
            "count": 0
           },
           {
            "bin_end": 0.4,
            "bin_start": 0.30000000000000004,
            "count": 0
           },
           {
            "bin_end": 0.5,
            "bin_start": 0.4,
            "count": 0
           }
          ],
          "max": 0,
          "min": 0,
          "nan_count": 0,
          "unique_count": 1
         }
        },
        {
         "dtype": "int64",
         "name": "number of messages",
         "stats": {
          "histogram": [
           {
            "bin_end": -0.4,
            "bin_start": -0.5,
            "count": 0
           },
           {
            "bin_end": -0.3,
            "bin_start": -0.4,
            "count": 0
           },
           {
            "bin_end": -0.19999999999999996,
            "bin_start": -0.3,
            "count": 0
           },
           {
            "bin_end": -0.09999999999999998,
            "bin_start": -0.19999999999999996,
            "count": 0
           },
           {
            "bin_end": 0,
            "bin_start": -0.09999999999999998,
            "count": 0
           },
           {
            "bin_end": 0.10000000000000009,
            "bin_start": 0,
            "count": 5
           },
           {
            "bin_end": 0.20000000000000007,
            "bin_start": 0.10000000000000009,
            "count": 0
           },
           {
            "bin_end": 0.30000000000000004,
            "bin_start": 0.20000000000000007,
            "count": 0
           },
           {
            "bin_end": 0.4,
            "bin_start": 0.30000000000000004,
            "count": 0
           },
           {
            "bin_end": 0.5,
            "bin_start": 0.4,
            "count": 0
           }
          ],
          "max": 0,
          "min": 0,
          "nan_count": 0,
          "unique_count": 1
         }
        },
        {
         "dtype": "object",
         "name": "chat hash",
         "stats": {
          "categories": [
           {
            "count": 5,
            "name": "Missing"
           }
          ],
          "nan_count": 5,
          "unique_count": 0
         }
        },
        {
         "dtype": "object",
         "name": "vader positivity",
         "stats": {
          "categories": [
           {
            "count": 5,
            "name": "0"
           }
          ],
          "nan_count": 0,
          "unique_count": 1
         }
        },
        {
         "dtype": "float64",
         "name": "days since last communication",
         "stats": {
          "histogram": [
           {
            "bin_end": 301.9375,
            "bin_start": 300.375,
            "count": 1
           },
           {
            "bin_end": 303.5,
            "bin_start": 301.9375,
            "count": 0
           },
           {
            "bin_end": 305.0625,
            "bin_start": 303.5,
            "count": 0
           },
           {
            "bin_end": 306.625,
            "bin_start": 305.0625,
            "count": 0
           },
           {
            "bin_end": 308.1875,
            "bin_start": 306.625,
            "count": 1
           },
           {
            "bin_end": 309.75,
            "bin_start": 308.1875,
            "count": 0
           },
           {
            "bin_end": 311.3125,
            "bin_start": 309.75,
            "count": 0
           },
           {
            "bin_end": 312.875,
            "bin_start": 311.3125,
            "count": 1
           },
           {
            "bin_end": 314.4375,
            "bin_start": 312.875,
            "count": 0
           },
           {
            "bin_end": 316,
            "bin_start": 314.4375,
            "count": 2
           }
          ],
          "max": 316,
          "min": 300.375,
          "nan_count": 0,
          "unique_count": 5
         }
        },
        {
         "dtype": "int64",
         "name": "_deepnote_index_column"
        }
       ],
       "row_count": 5,
       "rows_bottom": null,
       "rows_top": [
        {
         "_deepnote_index_column": 0,
         "chat hash": "nan",
         "comment frequency": 0,
         "days since being friends": 300.375,
         "days since last communication": 300.375,
         "empath": 0,
         "name": "AUR.YYNNYLYL",
         "number of messages": 0,
         "post frequency": 0,
         "vader positivity": 0
        },
        {
         "_deepnote_index_column": 1,
         "chat hash": "nan",
         "comment frequency": 0,
         "days since being friends": 307.875,
         "days since last communication": 307.875,
         "empath": 0,
         "name": "DYNYL.KUFFCWB",
         "number of messages": 0,
         "post frequency": 0,
         "vader positivity": 0
        },
        {
         "_deepnote_index_column": 2,
         "chat hash": "nan",
         "comment frequency": 0,
         "days since being friends": 311.6666666666667,
         "days since last communication": 311.6666666666667,
         "empath": 0,
         "name": "YSFY.ZUSFUHX",
         "number of messages": 0,
         "post frequency": 0,
         "vader positivity": 0
        },
        {
         "_deepnote_index_column": 3,
         "chat hash": "nan",
         "comment frequency": 0,
         "days since being friends": 314.8333333333333,
         "days since last communication": 314.8333333333333,
         "empath": 0,
         "name": "GUGOYF.KCFECHMIH",
         "number of messages": 0,
         "post frequency": 0,
         "vader positivity": 0
        },
        {
         "_deepnote_index_column": 4,
         "chat hash": "nan",
         "comment frequency": 0,
         "days since being friends": 316,
         "days since last communication": 316,
         "empath": 0,
         "name": "FUXO.OMUHXYC",
         "number of messages": 0,
         "post frequency": 0,
         "vader positivity": 0
        }
       ]
      },
      "text/html": [
       "<div>\n",
       "<style scoped>\n",
       "    .dataframe tbody tr th:only-of-type {\n",
       "        vertical-align: middle;\n",
       "    }\n",
       "\n",
       "    .dataframe tbody tr th {\n",
       "        vertical-align: top;\n",
       "    }\n",
       "\n",
       "    .dataframe thead th {\n",
       "        text-align: right;\n",
       "    }\n",
       "</style>\n",
       "<table border=\"1\" class=\"dataframe\">\n",
       "  <thead>\n",
       "    <tr style=\"text-align: right;\">\n",
       "      <th></th>\n",
       "      <th>name</th>\n",
       "      <th>days since being friends</th>\n",
       "      <th>comment frequency</th>\n",
       "      <th>post frequency</th>\n",
       "      <th>empath</th>\n",
       "      <th>number of messages</th>\n",
       "      <th>chat hash</th>\n",
       "      <th>vader positivity</th>\n",
       "      <th>days since last communication</th>\n",
       "    </tr>\n",
       "  </thead>\n",
       "  <tbody>\n",
       "    <tr>\n",
       "      <th>0</th>\n",
       "      <td>AUR.YYNNYLYL</td>\n",
       "      <td>300.375000</td>\n",
       "      <td>0</td>\n",
       "      <td>0</td>\n",
       "      <td>0</td>\n",
       "      <td>0</td>\n",
       "      <td>NaN</td>\n",
       "      <td>0</td>\n",
       "      <td>300.375000</td>\n",
       "    </tr>\n",
       "    <tr>\n",
       "      <th>1</th>\n",
       "      <td>DYNYL.KUFFCWB</td>\n",
       "      <td>307.875000</td>\n",
       "      <td>0</td>\n",
       "      <td>0</td>\n",
       "      <td>0</td>\n",
       "      <td>0</td>\n",
       "      <td>NaN</td>\n",
       "      <td>0</td>\n",
       "      <td>307.875000</td>\n",
       "    </tr>\n",
       "    <tr>\n",
       "      <th>2</th>\n",
       "      <td>YSFY.ZUSFUHX</td>\n",
       "      <td>311.666667</td>\n",
       "      <td>0</td>\n",
       "      <td>0</td>\n",
       "      <td>0</td>\n",
       "      <td>0</td>\n",
       "      <td>NaN</td>\n",
       "      <td>0</td>\n",
       "      <td>311.666667</td>\n",
       "    </tr>\n",
       "    <tr>\n",
       "      <th>3</th>\n",
       "      <td>GUGOYF.KCFECHMIH</td>\n",
       "      <td>314.833333</td>\n",
       "      <td>0</td>\n",
       "      <td>0</td>\n",
       "      <td>0</td>\n",
       "      <td>0</td>\n",
       "      <td>NaN</td>\n",
       "      <td>0</td>\n",
       "      <td>314.833333</td>\n",
       "    </tr>\n",
       "    <tr>\n",
       "      <th>4</th>\n",
       "      <td>FUXO.OMUHXYC</td>\n",
       "      <td>316.000000</td>\n",
       "      <td>0</td>\n",
       "      <td>0</td>\n",
       "      <td>0</td>\n",
       "      <td>0</td>\n",
       "      <td>NaN</td>\n",
       "      <td>0</td>\n",
       "      <td>316.000000</td>\n",
       "    </tr>\n",
       "  </tbody>\n",
       "</table>\n",
       "</div>"
      ],
      "text/plain": [
       "               name  days since being friends  comment frequency  \\\n",
       "0      AUR.YYNNYLYL                300.375000                  0   \n",
       "1     DYNYL.KUFFCWB                307.875000                  0   \n",
       "2      YSFY.ZUSFUHX                311.666667                  0   \n",
       "3  GUGOYF.KCFECHMIH                314.833333                  0   \n",
       "4      FUXO.OMUHXYC                316.000000                  0   \n",
       "\n",
       "   post frequency  empath  number of messages chat hash vader positivity  \\\n",
       "0               0       0                   0       NaN                0   \n",
       "1               0       0                   0       NaN                0   \n",
       "2               0       0                   0       NaN                0   \n",
       "3               0       0                   0       NaN                0   \n",
       "4               0       0                   0       NaN                0   \n",
       "\n",
       "   days since last communication  \n",
       "0                     300.375000  \n",
       "1                     307.875000  \n",
       "2                     311.666667  \n",
       "3                     314.833333  \n",
       "4                     316.000000  "
      ]
     },
     "execution_count": 14,
     "metadata": {},
     "output_type": "execute_result"
    }
   ],
   "source": [
    "df.head()"
   ]
  },
  {
   "cell_type": "code",
   "execution_count": 15,
   "metadata": {
    "cell_id": "00062-fb4cf031-9908-4844-9638-c52cb77dfc00",
    "deepnote_cell_type": "code",
    "deepnote_to_be_reexecuted": false,
    "execution_millis": 41,
    "execution_start": 1609665801483,
    "output_cleared": false,
    "source_hash": "f6aaa3b5",
    "tags": []
   },
   "outputs": [],
   "source": [
    "def linear_regression(df):\n",
    "    field = ['days since last communication', 'empath', 'vader positivity', 'post frequency', 'number of messages', 'comment frequency']\n",
    "    df_normal =  normalize(df[field])\n",
    "    y = (-0.76) * df_normal['days since last communication'] + 0.111 * df_normal['empath'] + 0.135 * df_normal['vader positivity'] + 0.299 * df_normal['post frequency'] + 0.299 * df_normal['number of messages'] + 0.299 * df_normal['comment frequency']\n",
    "    y_max = max(y)\n",
    "    y_min = min(y)\n",
    "    y_scaled = (y - y_min) / (y_max - y_min)\n",
    "    return y_scaled\n",
    "    \n",
    "# Normalize function\n",
    "def normalize(df):\n",
    "    result = df.copy()\n",
    "    for feature_name in df.columns:\n",
    "        if np.std(df[feature_name]) == 0:\n",
    "            result[feature_name] = 0\n",
    "        else:\n",
    "            result[feature_name] = (df[feature_name] - np.mean(df[feature_name])) / (np.std(df[feature_name]))\n",
    "    return result"
   ]
  },
  {
   "cell_type": "code",
   "execution_count": 16,
   "metadata": {
    "cell_id": "00063-c90c5fad-18f5-427c-b939-c2bc1701416e",
    "deepnote_cell_type": "code",
    "deepnote_to_be_reexecuted": false,
    "execution_millis": 310,
    "execution_start": 1609665801590,
    "output_cleared": false,
    "source_hash": "8ddaaa55",
    "tags": []
   },
   "outputs": [
    {
     "data": {
      "application/vnd.deepnote.dataframe.v2+json": {
       "column_count": 10,
       "columns": [
        {
         "dtype": "object",
         "name": "name",
         "stats": {
          "categories": [
           {
            "count": 1,
            "name": "Will O'Brien"
           },
           {
            "count": 1,
            "name": "JCNNILCU.SFYHU.AILCHC"
           },
           {
            "count": 298,
            "name": "298 others"
           }
          ],
          "nan_count": 0,
          "unique_count": 300
         }
        },
        {
         "dtype": "float64",
         "name": "days since being friends",
         "stats": {
          "histogram": [
           {
            "bin_end": 666.6125,
            "bin_start": 300.375,
            "count": 105
           },
           {
            "bin_end": 1032.85,
            "bin_start": 666.6125,
            "count": 135
           },
           {
            "bin_end": 1399.0875,
            "bin_start": 1032.85,
            "count": 15
           },
           {
            "bin_end": 1765.325,
            "bin_start": 1399.0875,
            "count": 36
           },
           {
            "bin_end": 2131.5625,
            "bin_start": 1765.325,
            "count": 4
           },
           {
            "bin_end": 2497.8,
            "bin_start": 2131.5625,
            "count": 0
           },
           {
            "bin_end": 2864.0375,
            "bin_start": 2497.8,
            "count": 0
           },
           {
            "bin_end": 3230.275,
            "bin_start": 2864.0375,
            "count": 0
           },
           {
            "bin_end": 3596.5125000000003,
            "bin_start": 3230.275,
            "count": 2
           },
           {
            "bin_end": 3962.75,
            "bin_start": 3596.5125000000003,
            "count": 3
           }
          ],
          "max": 3962.75,
          "min": 300.375,
          "nan_count": 0,
          "unique_count": 261
         }
        },
        {
         "dtype": "int64",
         "name": "comment frequency",
         "stats": {
          "histogram": [
           {
            "bin_end": 9.5,
            "bin_start": 0,
            "count": 282
           },
           {
            "bin_end": 19,
            "bin_start": 9.5,
            "count": 8
           },
           {
            "bin_end": 28.5,
            "bin_start": 19,
            "count": 5
           },
           {
            "bin_end": 38,
            "bin_start": 28.5,
            "count": 2
           },
           {
            "bin_end": 47.5,
            "bin_start": 38,
            "count": 1
           },
           {
            "bin_end": 57,
            "bin_start": 47.5,
            "count": 0
           },
           {
            "bin_end": 66.5,
            "bin_start": 57,
            "count": 1
           },
           {
            "bin_end": 76,
            "bin_start": 66.5,
            "count": 0
           },
           {
            "bin_end": 85.5,
            "bin_start": 76,
            "count": 0
           },
           {
            "bin_end": 95,
            "bin_start": 85.5,
            "count": 1
           }
          ],
          "max": 95,
          "min": 0,
          "nan_count": 0,
          "unique_count": 22
         }
        },
        {
         "dtype": "int64",
         "name": "post frequency",
         "stats": {
          "histogram": [
           {
            "bin_end": 0.1,
            "bin_start": 0,
            "count": 299
           },
           {
            "bin_end": 0.2,
            "bin_start": 0.1,
            "count": 0
           },
           {
            "bin_end": 0.30000000000000004,
            "bin_start": 0.2,
            "count": 0
           },
           {
            "bin_end": 0.4,
            "bin_start": 0.30000000000000004,
            "count": 0
           },
           {
            "bin_end": 0.5,
            "bin_start": 0.4,
            "count": 0
           },
           {
            "bin_end": 0.6000000000000001,
            "bin_start": 0.5,
            "count": 0
           },
           {
            "bin_end": 0.7000000000000001,
            "bin_start": 0.6000000000000001,
            "count": 0
           },
           {
            "bin_end": 0.8,
            "bin_start": 0.7000000000000001,
            "count": 0
           },
           {
            "bin_end": 0.9,
            "bin_start": 0.8,
            "count": 0
           },
           {
            "bin_end": 1,
            "bin_start": 0.9,
            "count": 1
           }
          ],
          "max": 1,
          "min": 0,
          "nan_count": 0,
          "unique_count": 2
         }
        },
        {
         "dtype": "int64",
         "name": "empath",
         "stats": {
          "histogram": [
           {
            "bin_end": -0.4,
            "bin_start": -0.5,
            "count": 0
           },
           {
            "bin_end": -0.3,
            "bin_start": -0.4,
            "count": 0
           },
           {
            "bin_end": -0.19999999999999996,
            "bin_start": -0.3,
            "count": 0
           },
           {
            "bin_end": -0.09999999999999998,
            "bin_start": -0.19999999999999996,
            "count": 0
           },
           {
            "bin_end": 0,
            "bin_start": -0.09999999999999998,
            "count": 0
           },
           {
            "bin_end": 0.10000000000000009,
            "bin_start": 0,
            "count": 300
           },
           {
            "bin_end": 0.20000000000000007,
            "bin_start": 0.10000000000000009,
            "count": 0
           },
           {
            "bin_end": 0.30000000000000004,
            "bin_start": 0.20000000000000007,
            "count": 0
           },
           {
            "bin_end": 0.4,
            "bin_start": 0.30000000000000004,
            "count": 0
           },
           {
            "bin_end": 0.5,
            "bin_start": 0.4,
            "count": 0
           }
          ],
          "max": 0,
          "min": 0,
          "nan_count": 0,
          "unique_count": 1
         }
        },
        {
         "dtype": "int64",
         "name": "number of messages",
         "stats": {
          "histogram": [
           {
            "bin_end": 79.7,
            "bin_start": 0,
            "count": 295
           },
           {
            "bin_end": 159.4,
            "bin_start": 79.7,
            "count": 2
           },
           {
            "bin_end": 239.10000000000002,
            "bin_start": 159.4,
            "count": 0
           },
           {
            "bin_end": 318.8,
            "bin_start": 239.10000000000002,
            "count": 0
           },
           {
            "bin_end": 398.5,
            "bin_start": 318.8,
            "count": 0
           },
           {
            "bin_end": 478.20000000000005,
            "bin_start": 398.5,
            "count": 0
           },
           {
            "bin_end": 557.9,
            "bin_start": 478.20000000000005,
            "count": 0
           },
           {
            "bin_end": 637.6,
            "bin_start": 557.9,
            "count": 2
           },
           {
            "bin_end": 717.3000000000001,
            "bin_start": 637.6,
            "count": 0
           },
           {
            "bin_end": 797,
            "bin_start": 717.3000000000001,
            "count": 1
           }
          ],
          "max": 797,
          "min": 0,
          "nan_count": 0,
          "unique_count": 12
         }
        },
        {
         "dtype": "object",
         "name": "chat hash",
         "stats": {
          "categories": [
           {
            "count": 1,
            "name": "FCLxtGFi0Q"
           },
           {
            "count": 10,
            "name": "10 others"
           },
           {
            "count": 289,
            "name": "Missing"
           }
          ],
          "nan_count": 289,
          "unique_count": 11
         }
        },
        {
         "dtype": "object",
         "name": "vader positivity",
         "stats": {
          "categories": [
           {
            "count": 289,
            "name": "0.0"
           },
           {
            "count": 1,
            "name": "0.18654"
           },
           {
            "count": 10,
            "name": "10 others"
           }
          ],
          "nan_count": 0,
          "unique_count": 12
         }
        },
        {
         "dtype": "float64",
         "name": "days since last communication",
         "stats": {
          "histogram": [
           {
            "bin_end": 666.6125,
            "bin_start": 300.375,
            "count": 109
           },
           {
            "bin_end": 1032.85,
            "bin_start": 666.6125,
            "count": 135
           },
           {
            "bin_end": 1399.0875,
            "bin_start": 1032.85,
            "count": 16
           },
           {
            "bin_end": 1765.325,
            "bin_start": 1399.0875,
            "count": 32
           },
           {
            "bin_end": 2131.5625,
            "bin_start": 1765.325,
            "count": 4
           },
           {
            "bin_end": 2497.8,
            "bin_start": 2131.5625,
            "count": 0
           },
           {
            "bin_end": 2864.0375,
            "bin_start": 2497.8,
            "count": 1
           },
           {
            "bin_end": 3230.275,
            "bin_start": 2864.0375,
            "count": 0
           },
           {
            "bin_end": 3596.5125000000003,
            "bin_start": 3230.275,
            "count": 0
           },
           {
            "bin_end": 3962.75,
            "bin_start": 3596.5125000000003,
            "count": 3
           }
          ],
          "max": 3962.75,
          "min": 300.375,
          "nan_count": 0,
          "unique_count": 262
         }
        },
        {
         "dtype": "object",
         "name": "tie strength",
         "stats": {
          "categories": [
           {
            "count": 3,
            "name": "0.21033010088131024"
           },
           {
            "count": 3,
            "name": "0.20375998191938802"
           },
           {
            "count": 294,
            "name": "263 others"
           }
          ],
          "nan_count": 0,
          "unique_count": 265
         }
        },
        {
         "dtype": "int64",
         "name": "_deepnote_index_column"
        }
       ],
       "row_count": 300,
       "rows_bottom": [
        {
         "_deepnote_index_column": 199,
         "chat hash": "nan",
         "comment frequency": 0,
         "days since being friends": 883.625,
         "days since last communication": 883.625,
         "empath": 0,
         "name": "JUHCMBU.ACMNLS",
         "number of messages": 0,
         "post frequency": 0,
         "tie strength": 0.18361227084600673,
         "vader positivity": 0
        },
        {
         "_deepnote_index_column": 201,
         "chat hash": "nan",
         "comment frequency": 0,
         "days since being friends": 888.4166666666666,
         "days since last communication": 888.4166666666666,
         "empath": 0,
         "name": "KCFF.PLUS",
         "number of messages": 0,
         "post frequency": 0,
         "tie strength": 0.18338672944880643,
         "vader positivity": 0
        },
        {
         "_deepnote_index_column": 202,
         "chat hash": "nan",
         "comment frequency": 0,
         "days since being friends": 888.4166666666666,
         "days since last communication": 888.4166666666666,
         "empath": 0,
         "name": "BCW.JUH.KYYFXY",
         "number of messages": 0,
         "post frequency": 0,
         "tie strength": 0.18338672944880643,
         "vader positivity": 0
        },
        {
         "_deepnote_index_column": 203,
         "chat hash": "nan",
         "comment frequency": 0,
         "days since being friends": 888.4166666666666,
         "days since last communication": 888.4166666666666,
         "empath": 0,
         "name": "XYMM.FCFYS",
         "number of messages": 0,
         "post frequency": 0,
         "tie strength": 0.18338672944880643,
         "vader positivity": 0
        },
        {
         "_deepnote_index_column": 205,
         "chat hash": "nan",
         "comment frequency": 0,
         "days since being friends": 896.7916666666666,
         "days since last communication": 896.7916666666666,
         "empath": 0,
         "name": "VULHYYN.YUOL",
         "number of messages": 0,
         "post frequency": 0,
         "tie strength": 0.18299252231109106,
         "vader positivity": 0
        },
        {
         "_deepnote_index_column": 206,
         "chat hash": "nan",
         "comment frequency": 0,
         "days since being friends": 896.8333333333334,
         "days since last communication": 896.8333333333334,
         "empath": 0,
         "name": "PLUXFYS.QIUH",
         "number of messages": 0,
         "post frequency": 0,
         "tie strength": 0.18299056108155018,
         "vader positivity": 0
        },
        {
         "_deepnote_index_column": 207,
         "chat hash": "nan",
         "comment frequency": 0,
         "days since being friends": 896.9583333333334,
         "days since last communication": 896.9583333333334,
         "empath": 0,
         "name": "BCEBCF.YLCMBHU",
         "number of messages": 0,
         "post frequency": 0,
         "tie strength": 0.1829846773929276,
         "vader positivity": 0
        },
        {
         "_deepnote_index_column": 208,
         "chat hash": "nan",
         "comment frequency": 0,
         "days since being friends": 897.5,
         "days since last communication": 897.5,
         "empath": 0,
         "name": "QIHHIL.RUFS",
         "number of messages": 0,
         "post frequency": 0,
         "tie strength": 0.18295918140889625,
         "vader positivity": 0
        },
        {
         "_deepnote_index_column": 210,
         "chat hash": "nan",
         "comment frequency": 0,
         "days since being friends": 897.6666666666666,
         "days since last communication": 897.6666666666666,
         "empath": 0,
         "name": "VUMBCG.UOFYCX",
         "number of messages": 0,
         "post frequency": 0,
         "tie strength": 0.18295133649073275,
         "vader positivity": 0
        },
        {
         "_deepnote_index_column": 209,
         "chat hash": "nan",
         "comment frequency": 0,
         "days since being friends": 897.6666666666666,
         "days since last communication": 897.6666666666666,
         "empath": 0,
         "name": "PYH.VYRN",
         "number of messages": 0,
         "post frequency": 0,
         "tie strength": 0.18295133649073275,
         "vader positivity": 0
        },
        {
         "_deepnote_index_column": 211,
         "chat hash": "nan",
         "comment frequency": 0,
         "days since being friends": 897.75,
         "days since last communication": 897.75,
         "empath": 0,
         "name": "XUS.UIXBUHCU",
         "number of messages": 0,
         "post frequency": 0,
         "tie strength": 0.182947414031651,
         "vader positivity": 0
        },
        {
         "_deepnote_index_column": 462,
         "chat hash": "nan",
         "comment frequency": 5,
         "days since being friends": 1491.5416666666667,
         "days since last communication": 1491.5416666666667,
         "empath": 0,
         "name": "QBULFCY.TULKOBUL",
         "number of messages": 0,
         "post frequency": 0,
         "tie strength": 0.1829366504281191,
         "vader positivity": 0
        },
        {
         "_deepnote_index_column": 212,
         "chat hash": "nan",
         "comment frequency": 0,
         "days since being friends": 898.7916666666666,
         "days since last communication": 898.7916666666666,
         "empath": 0,
         "name": "QBCHYXOG.SWBYNU",
         "number of messages": 0,
         "post frequency": 0,
         "tie strength": 0.18289838329312919,
         "vader positivity": 0
        },
        {
         "_deepnote_index_column": 213,
         "chat hash": "nan",
         "comment frequency": 0,
         "days since being friends": 900.4583333333334,
         "days since last communication": 900.4583333333334,
         "empath": 0,
         "name": "DUUPUH.GUQDUHC",
         "number of messages": 0,
         "post frequency": 0,
         "tie strength": 0.1828199341114943,
         "vader positivity": 0
        },
        {
         "_deepnote_index_column": 214,
         "chat hash": "nan",
         "comment frequency": 0,
         "days since being friends": 907.625,
         "days since last communication": 907.625,
         "empath": 0,
         "name": "GUWBU.PLYLYNIH",
         "number of messages": 0,
         "post frequency": 0,
         "tie strength": 0.18248260263046426,
         "vader positivity": 0
        },
        {
         "_deepnote_index_column": 216,
         "chat hash": "nan",
         "comment frequency": 0,
         "days since being friends": 909.9583333333334,
         "days since last communication": 909.9583333333334,
         "empath": 0,
         "name": "YBIL.SOAYHY",
         "number of messages": 0,
         "post frequency": 0,
         "tie strength": 0.18237277377617542,
         "vader positivity": 0
        },
        {
         "_deepnote_index_column": 217,
         "chat hash": "nan",
         "comment frequency": 0,
         "days since being friends": 910,
         "days since last communication": 910,
         "empath": 0,
         "name": "XUWE.DIQYFF",
         "number of messages": 0,
         "post frequency": 0,
         "tie strength": 0.18237081254663454,
         "vader positivity": 0
        },
        {
         "_deepnote_index_column": 218,
         "chat hash": "nan",
         "comment frequency": 0,
         "days since being friends": 910.375,
         "days since last communication": 910.375,
         "empath": 0,
         "name": "BCAYF.DOHNYL",
         "number of messages": 0,
         "post frequency": 0,
         "tie strength": 0.1823531614807667,
         "vader positivity": 0
        },
        {
         "_deepnote_index_column": 219,
         "chat hash": "nan",
         "comment frequency": 0,
         "days since being friends": 910.625,
         "days since last communication": 910.625,
         "empath": 0,
         "name": "SGGU.KCFFCUGM",
         "number of messages": 0,
         "post frequency": 0,
         "tie strength": 0.18234139410352146,
         "vader positivity": 0
        },
        {
         "_deepnote_index_column": 221,
         "chat hash": "nan",
         "comment frequency": 0,
         "days since being friends": 910.625,
         "days since last communication": 910.625,
         "empath": 0,
         "name": "VUHHUB.ZCVVCY",
         "number of messages": 0,
         "post frequency": 0,
         "tie strength": 0.18234139410352146,
         "vader positivity": 0
        },
        {
         "_deepnote_index_column": 220,
         "chat hash": "nan",
         "comment frequency": 0,
         "days since being friends": 910.625,
         "days since last communication": 910.625,
         "empath": 0,
         "name": "SFFYH.NYBLU.XUFY",
         "number of messages": 0,
         "post frequency": 0,
         "tie strength": 0.18234139410352146,
         "vader positivity": 0
        },
        {
         "_deepnote_index_column": 247,
         "chat hash": "nan",
         "comment frequency": 1,
         "days since being friends": 1031.6666666666667,
         "days since last communication": 1031.6666666666667,
         "empath": 0,
         "name": "UCUWIGI.DIFC",
         "number of messages": 0,
         "post frequency": 0,
         "tie strength": 0.18223176600397528,
         "vader positivity": 0
        },
        {
         "_deepnote_index_column": 222,
         "chat hash": "nan",
         "comment frequency": 0,
         "days since being friends": 917.8333333333334,
         "days since last communication": 917.8333333333334,
         "empath": 0,
         "name": "SFFU.PLSUHN",
         "number of messages": 0,
         "post frequency": 0,
         "tie strength": 0.18200210139295056,
         "vader positivity": 0
        },
        {
         "_deepnote_index_column": 252,
         "chat hash": "nan",
         "comment frequency": 1,
         "days since being friends": 1045.5,
         "days since last communication": 1045.5,
         "empath": 0,
         "name": "AULE.BYFMIH",
         "number of messages": 0,
         "post frequency": 0,
         "tie strength": 0.18158063779640568,
         "vader positivity": 0
        },
        {
         "_deepnote_index_column": 293,
         "chat hash": "nan",
         "comment frequency": 2,
         "days since being friends": 1164.5833333333333,
         "days since last communication": 1164.5833333333333,
         "empath": 0,
         "name": "YIFUXY.OQIVIQUFY",
         "number of messages": 0,
         "post frequency": 0,
         "tie strength": 0.1815631874852805,
         "vader positivity": 0
        },
        {
         "_deepnote_index_column": 294,
         "chat hash": "nan",
         "comment frequency": 2,
         "days since being friends": 1164.625,
         "days since last communication": 1164.625,
         "empath": 0,
         "name": "HLYPIL.YYHHCMB",
         "number of messages": 0,
         "post frequency": 0,
         "tie strength": 0.18156122625573962,
         "vader positivity": 0
        },
        {
         "_deepnote_index_column": 223,
         "chat hash": "nan",
         "comment frequency": 0,
         "days since being friends": 931.2083333333334,
         "days since last communication": 931.2083333333334,
         "empath": 0,
         "name": "XUWE.AYLFCH.DIIFY",
         "number of messages": 0,
         "post frequency": 0,
         "tie strength": 0.18137254671033054,
         "vader positivity": 0
        },
        {
         "_deepnote_index_column": 224,
         "chat hash": "nan",
         "comment frequency": 0,
         "days since being friends": 935.375,
         "days since last communication": 935.375,
         "empath": 0,
         "name": "CLCU.RIFAOCLYPU",
         "number of messages": 0,
         "post frequency": 0,
         "tie strength": 0.1811764237562433,
         "vader positivity": 0
        },
        {
         "_deepnote_index_column": 727,
         "chat hash": "nan",
         "comment frequency": 8,
         "days since being friends": 1886.5833333333333,
         "days since last communication": 1886.5833333333333,
         "empath": 0,
         "name": "KCFF.UUFFIQUS",
         "number of messages": 0,
         "post frequency": 0,
         "tie strength": 0.1811054643011724,
         "vader positivity": 0
        },
        {
         "_deepnote_index_column": 225,
         "chat hash": "nan",
         "comment frequency": 0,
         "days since being friends": 937.5833333333334,
         "days since last communication": 937.5833333333334,
         "empath": 0,
         "name": "XIHUNBUH.TYGC.KCFFCUGMIH;HUSFIL",
         "number of messages": 0,
         "post frequency": 0,
         "tie strength": 0.18107247859057707,
         "vader positivity": 0
        },
        {
         "_deepnote_index_column": 528,
         "chat hash": "nan",
         "comment frequency": 5,
         "days since being friends": 1531.3333333333333,
         "days since last communication": 1531.3333333333333,
         "empath": 0,
         "name": "GUVLCHU.OBGYX",
         "number of messages": 0,
         "post frequency": 0,
         "tie strength": 0.18106367621658606,
         "vader positivity": 0
        },
        {
         "_deepnote_index_column": 226,
         "chat hash": "nan",
         "comment frequency": 0,
         "days since being friends": 939.125,
         "days since last communication": 939.125,
         "empath": 0,
         "name": "FYHOEU.YUXCLEUGUHUNBUH",
         "number of messages": 0,
         "post frequency": 0,
         "tie strength": 0.1809999130975648,
         "vader positivity": 0
        },
        {
         "_deepnote_index_column": 227,
         "chat hash": "nan",
         "comment frequency": 0,
         "days since being friends": 939.125,
         "days since last communication": 939.125,
         "empath": 0,
         "name": "BCEC.GBUB",
         "number of messages": 0,
         "post frequency": 0,
         "tie strength": 0.1809999130975648,
         "vader positivity": 0
        },
        {
         "_deepnote_index_column": 228,
         "chat hash": "nan",
         "comment frequency": 0,
         "days since being friends": 939.125,
         "days since last communication": 939.125,
         "empath": 0,
         "name": "GCGLUH.FUC",
         "number of messages": 0,
         "post frequency": 0,
         "tie strength": 0.1809999130975648,
         "vader positivity": 0
        },
        {
         "_deepnote_index_column": 230,
         "chat hash": "nan",
         "comment frequency": 0,
         "days since being friends": 941.7916666666666,
         "days since last communication": 941.7916666666666,
         "empath": 0,
         "name": "SPU.QBYH",
         "number of messages": 0,
         "post frequency": 0,
         "tie strength": 0.180874394406949,
         "vader positivity": 0
        },
        {
         "_deepnote_index_column": 229,
         "chat hash": "nan",
         "comment frequency": 0,
         "days since being friends": 941.7916666666666,
         "days since last communication": 941.7916666666666,
         "empath": 0,
         "name": "GCFPCU.OHMYFGC",
         "number of messages": 0,
         "post frequency": 0,
         "tie strength": 0.180874394406949,
         "vader positivity": 0
        },
        {
         "_deepnote_index_column": 540,
         "chat hash": "nan",
         "comment frequency": 5,
         "days since being friends": 1535.5416666666667,
         "days since last communication": 1535.5416666666667,
         "empath": 0,
         "name": "TYLAOM.KCFFM",
         "number of messages": 0,
         "post frequency": 0,
         "tie strength": 0.18086559203295793,
         "vader positivity": 0
        },
        {
         "_deepnote_index_column": 231,
         "chat hash": "nan",
         "comment frequency": 0,
         "days since being friends": 947.5833333333334,
         "days since last communication": 947.5833333333334,
         "empath": 0,
         "name": "BCWWIFPO>>WAPO>>V@.DUHCTTULXC",
         "number of messages": 0,
         "post frequency": 0,
         "tie strength": 0.18060178350076772,
         "vader positivity": 0
        },
        {
         "_deepnote_index_column": 232,
         "chat hash": "nan",
         "comment frequency": 0,
         "days since being friends": 947.75,
         "days since last communication": 947.75,
         "empath": 0,
         "name": "OLCUHHU.POLUNNI",
         "number of messages": 0,
         "post frequency": 0,
         "tie strength": 0.18059393858260425,
         "vader positivity": 0
        },
        {
         "_deepnote_index_column": 233,
         "chat hash": "nan",
         "comment frequency": 0,
         "days since being friends": 947.75,
         "days since last communication": 947.75,
         "empath": 0,
         "name": "GIZCU.UUFFI",
         "number of messages": 0,
         "post frequency": 0,
         "tie strength": 0.18059393858260425,
         "vader positivity": 0
        },
        {
         "_deepnote_index_column": 234,
         "chat hash": "nan",
         "comment frequency": 0,
         "days since being friends": 949.375,
         "days since last communication": 949.375,
         "empath": 0,
         "name": "OHHU.JYLXY",
         "number of messages": 0,
         "post frequency": 0,
         "tie strength": 0.18051745063051022,
         "vader positivity": 0
        },
        {
         "_deepnote_index_column": 235,
         "chat hash": "nan",
         "comment frequency": 0,
         "days since being friends": 950.7916666666666,
         "days since last communication": 950.7916666666666,
         "empath": 0,
         "name": "QFULU.AUCFFULX",
         "number of messages": 0,
         "post frequency": 0,
         "tie strength": 0.18045076882612057,
         "vader positivity": 0
        },
        {
         "_deepnote_index_column": 236,
         "chat hash": "nan",
         "comment frequency": 0,
         "days since being friends": 951.5416666666666,
         "days since last communication": 951.5416666666666,
         "empath": 0,
         "name": "QUGCFU.XY.FU.DULLU",
         "number of messages": 0,
         "post frequency": 0,
         "tie strength": 0.18041546669438485,
         "vader positivity": 0
        },
        {
         "_deepnote_index_column": 268,
         "chat hash": "nan",
         "comment frequency": 1,
         "days since being friends": 1078.5416666666667,
         "days since last communication": 1078.5416666666667,
         "empath": 0,
         "name": "TCHVUL.OBYLHY",
         "number of messages": 0,
         "post frequency": 0,
         "tie strength": 0.1800253827704939,
         "vader positivity": 0
        },
        {
         "_deepnote_index_column": 599,
         "chat hash": "nan",
         "comment frequency": 5,
         "days since being friends": 1555.7916666666667,
         "days since last communication": 1555.7916666666667,
         "empath": 0,
         "name": "PYH.RCEY",
         "number of messages": 0,
         "post frequency": 0,
         "tie strength": 0.17991243447609398,
         "vader positivity": 0
        },
        {
         "_deepnote_index_column": 753,
         "chat hash": "nan",
         "comment frequency": 8,
         "days since being friends": 1913.9583333333333,
         "days since last communication": 1913.9583333333333,
         "empath": 0,
         "name": "VLCMNI.JUMCFYP",
         "number of messages": 0,
         "post frequency": 0,
         "tie strength": 0.17981693649281927,
         "vader positivity": 0
        },
        {
         "_deepnote_index_column": 614,
         "chat hash": "nan",
         "comment frequency": 5,
         "days since being friends": 1558.75,
         "days since last communication": 1558.75,
         "empath": 0,
         "name": "AUNYC.PDIFU",
         "number of messages": 0,
         "post frequency": 0,
         "tie strength": 0.17977318717869206,
         "vader positivity": 0
        },
        {
         "_deepnote_index_column": 362,
         "chat hash": "nan",
         "comment frequency": 3,
         "days since being friends": 1323.875,
         "days since last communication": 1323.875,
         "empath": 0,
         "name": "DUOFCHY.FCYM",
         "number of messages": 0,
         "post frequency": 0,
         "tie strength": 0.17965315066721355,
         "vader positivity": 0
        },
        {
         "_deepnote_index_column": 638,
         "chat hash": "nan",
         "comment frequency": 5,
         "days since being friends": 1561.5,
         "days since last communication": 1561.5,
         "empath": 0,
         "name": "AULE.HOLHYL",
         "number of messages": 0,
         "post frequency": 0,
         "tie strength": 0.17964374602899452,
         "vader positivity": 0
        },
        {
         "_deepnote_index_column": 238,
         "chat hash": "nan",
         "comment frequency": 0,
         "days since being friends": 969.5416666666666,
         "days since last communication": 969.5416666666666,
         "empath": 0,
         "name": "BHUGXC.IEUYAVO",
         "number of messages": 0,
         "post frequency": 0,
         "tie strength": 0.17956821553272803,
         "vader positivity": 0
        }
       ],
       "rows_top": [
        {
         "_deepnote_index_column": 741,
         "chat hash": "nan",
         "comment frequency": 0,
         "days since being friends": 1900.0416666666667,
         "days since last communication": 1900.0416666666667,
         "empath": 0,
         "name": "Will O'Brien",
         "number of messages": 0,
         "post frequency": 1,
         "tie strength": 1,
         "vader positivity": 0
        },
        {
         "_deepnote_index_column": 159,
         "chat hash": "FCLxtGFi0Q",
         "comment frequency": 1,
         "days since being friends": 805.5833333333334,
         "days since last communication": 344.5416666666667,
         "empath": 0,
         "name": "JCNNILCU.SFYHU.AILCHC",
         "number of messages": 797,
         "post frequency": 0,
         "tie strength": 0.8976593489342962,
         "vader positivity": 0.18654
        },
        {
         "_deepnote_index_column": 671,
         "chat hash": "1ut-L9BlRA",
         "comment frequency": 3,
         "days since being friends": 1685.5416666666667,
         "days since last communication": 483.625,
         "empath": 0,
         "name": "Alex K. Chen",
         "number of messages": 599,
         "post frequency": 0,
         "tie strength": 0.7701770065960253,
         "vader positivity": 0.22021999999999997
        },
        {
         "_deepnote_index_column": 637,
         "chat hash": "4862ZCQgnQ",
         "comment frequency": 6,
         "days since being friends": 1561.2083333333333,
         "days since last communication": 1017.625,
         "empath": 0,
         "name": "OXUG.QIR",
         "number of messages": 575,
         "post frequency": 0,
         "tie strength": 0.7510138549534597,
         "vader positivity": 0.23542000000000002
        },
        {
         "_deepnote_index_column": 743,
         "chat hash": "nan",
         "comment frequency": 95,
         "days since being friends": 1902.375,
         "days since last communication": 1902.375,
         "empath": 0,
         "name": "OFYR.QLIMM",
         "number of messages": 0,
         "post frequency": 0,
         "tie strength": 0.6664958616570277,
         "vader positivity": 0
        },
        {
         "_deepnote_index_column": 458,
         "chat hash": "nan",
         "comment frequency": 65,
         "days since being friends": 1483.4166666666667,
         "days since last communication": 1483.4166666666667,
         "empath": 0,
         "name": "XIMBOU.GQYYHYS",
         "number of messages": 0,
         "post frequency": 0,
         "tie strength": 0.5185837131898623,
         "vader positivity": 0
        },
        {
         "_deepnote_index_column": 306,
         "chat hash": "dF5Ki7446Q",
         "comment frequency": 0,
         "days since being friends": 1189.6666666666667,
         "days since last communication": 413.5416666666667,
         "empath": 0,
         "name": "KCFF.DOLMYL",
         "number of messages": 81,
         "post frequency": 0,
         "tie strength": 0.39358039801568595,
         "vader positivity": 0.27106
        },
        {
         "_deepnote_index_column": 626,
         "chat hash": "nan",
         "comment frequency": 42,
         "days since being friends": 1560.375,
         "days since last communication": 1560.375,
         "empath": 0,
         "name": "BUNBUHCYF.TLCYX",
         "number of messages": 0,
         "post frequency": 0,
         "tie strength": 0.38644321674404974,
         "vader positivity": 0
        },
        {
         "_deepnote_index_column": 130,
         "chat hash": "au8dl-7oig",
         "comment frequency": 0,
         "days since being friends": 762.8333333333334,
         "days since last communication": 762.6666666666666,
         "empath": 0,
         "name": "NUE.UBUTC;HILVUNC",
         "number of messages": 3,
         "post frequency": 0,
         "tie strength": 0.3731746664810583,
         "vader positivity": 0.38666666666666666
        },
        {
         "_deepnote_index_column": 620,
         "chat hash": "-bmxwtjn7w",
         "comment frequency": 0,
         "days since being friends": 1559.6666666666667,
         "days since last communication": 493.9583333333333,
         "empath": 0,
         "name": "OULIH.QBOAAYL",
         "number of messages": 89,
         "post frequency": 0,
         "tie strength": 0.34787895252906187,
         "vader positivity": 0.1691
        },
        {
         "_deepnote_index_column": 81,
         "chat hash": "nan",
         "comment frequency": 24,
         "days since being friends": 572.7916666666666,
         "days since last communication": 572.7916666666666,
         "empath": 0,
         "name": "XUGYM.KBYFUH",
         "number of messages": 0,
         "post frequency": 0,
         "tie strength": 0.3323488924214234,
         "vader positivity": 0
        },
        {
         "_deepnote_index_column": 374,
         "chat hash": "qomsrwezzw",
         "comment frequency": 0,
         "days since being friends": 1359.5416666666667,
         "days since last communication": 1359.5416666666667,
         "empath": 0,
         "name": "KCFF.DUAY",
         "number of messages": 1,
         "post frequency": 0,
         "tie strength": 0.3094523395484045,
         "vader positivity": 0.314
        },
        {
         "_deepnote_index_column": 658,
         "chat hash": "nan",
         "comment frequency": 27,
         "days since being friends": 1620.0416666666667,
         "days since last communication": 1620.0416666666667,
         "empath": 0,
         "name": "GUG.PULLYNN",
         "number of messages": 0,
         "post frequency": 0,
         "tie strength": 0.29981858029120234,
         "vader positivity": 0
        },
        {
         "_deepnote_index_column": 513,
         "chat hash": "nan",
         "comment frequency": 21,
         "days since being friends": 1525.5416666666667,
         "days since last communication": 1525.5416666666667,
         "empath": 0,
         "name": "YUSIXY.OQIVIQUFY",
         "number of messages": 0,
         "post frequency": 0,
         "tie strength": 0.27074018658977345,
         "vader positivity": 0
        },
        {
         "_deepnote_index_column": 613,
         "chat hash": "nan",
         "comment frequency": 21,
         "days since being friends": 1558.6666666666667,
         "days since last communication": 1558.6666666666667,
         "empath": 0,
         "name": "DODUH.UIL",
         "number of messages": 0,
         "post frequency": 0,
         "tie strength": 0.26918100910477993,
         "vader positivity": 0
        },
        {
         "_deepnote_index_column": 668,
         "chat hash": "et47a95gta",
         "comment frequency": 0,
         "days since being friends": 1656.9583333333333,
         "days since last communication": 1376.4583333333333,
         "empath": 0,
         "name": "KCFF.GFUNYL",
         "number of messages": 30,
         "post frequency": 0,
         "tie strength": 0.26376259760465176,
         "vader positivity": 0.1723
        },
        {
         "_deepnote_index_column": 1101,
         "chat hash": "fty2ybw-3g",
         "comment frequency": 0,
         "days since being friends": 3501.5833333333335,
         "days since last communication": 1099.9166666666667,
         "empath": 0,
         "name": "OFYR.VUMNCHAM",
         "number of messages": 13,
         "post frequency": 0,
         "tie strength": 0.2565660675207118,
         "vader positivity": 0.15630769230769231
        },
        {
         "_deepnote_index_column": 1085,
         "chat hash": "DuWK-kmKOQ",
         "comment frequency": 0,
         "days since being friends": 3427.5,
         "days since last communication": 2682.4583333333335,
         "empath": 0,
         "name": "OXUG.AUOHXYL",
         "number of messages": 11,
         "post frequency": 0,
         "tie strength": 0.25117862050197887,
         "vader positivity": 0.30660000000000004
        },
        {
         "_deepnote_index_column": 578,
         "chat hash": "nan",
         "comment frequency": 17,
         "days since being friends": 1550.7083333333333,
         "days since last communication": 1550.7083333333333,
         "empath": 0,
         "name": "GUG.HBYUEYL",
         "number of messages": 0,
         "post frequency": 0,
         "tie strength": 0.247204629080335,
         "vader positivity": 0
        },
        {
         "_deepnote_index_column": 465,
         "chat hash": "nan",
         "comment frequency": 16,
         "days since being friends": 1492.75,
         "days since last communication": 1492.75,
         "empath": 0,
         "name": "SMGIHX.ZIB",
         "number of messages": 0,
         "post frequency": 0,
         "tie strength": 0.24434495565500053,
         "vader positivity": 0
        },
        {
         "_deepnote_index_column": 319,
         "chat hash": "fvlfcwewjg",
         "comment frequency": 0,
         "days since being friends": 1211.375,
         "days since last communication": 1211.375,
         "empath": 0,
         "name": "OUSOMB.DUNYF",
         "number of messages": 2,
         "post frequency": 0,
         "tie strength": 0.24342654971965808,
         "vader positivity": 0.157
        },
        {
         "_deepnote_index_column": 1285,
         "chat hash": "nan",
         "comment frequency": 36,
         "days since being friends": 3962.75,
         "days since last communication": 3962.75,
         "empath": 0,
         "name": "HIG.ULCGY",
         "number of messages": 0,
         "post frequency": 0,
         "tie strength": 0.23983814280584756,
         "vader positivity": 0
        },
        {
         "_deepnote_index_column": 536,
         "chat hash": "nan",
         "comment frequency": 15,
         "days since being friends": 1533.9583333333333,
         "days since last communication": 1533.9583333333333,
         "empath": 0,
         "name": "XIY.FSUH",
         "number of messages": 0,
         "post frequency": 0,
         "tie strength": 0.23681755592238993,
         "vader positivity": 0
        },
        {
         "_deepnote_index_column": 588,
         "chat hash": "nan",
         "comment frequency": 15,
         "days since being friends": 1552.7083333333333,
         "days since last communication": 1552.7083333333333,
         "empath": 0,
         "name": "RIG.QFULE",
         "number of messages": 0,
         "post frequency": 0,
         "tie strength": 0.2359350026289974,
         "vader positivity": 0
        },
        {
         "_deepnote_index_column": 1240,
         "chat hash": "nan",
         "comment frequency": 31,
         "days since being friends": 3879.625,
         "days since last communication": 3879.625,
         "empath": 0,
         "name": "OFCMNUCL.ZOXFYS",
         "number of messages": 0,
         "post frequency": 0,
         "tie strength": 0.2158120771564484,
         "vader positivity": 0
        },
        {
         "_deepnote_index_column": 176,
         "chat hash": "nan",
         "comment frequency": 5,
         "days since being friends": 823.9583333333334,
         "days since last communication": 823.9583333333334,
         "empath": 0,
         "name": "VULLS.PLSULM",
         "number of messages": 0,
         "post frequency": 0,
         "tie strength": 0.2143594701319753,
         "vader positivity": 0
        },
        {
         "_deepnote_index_column": 570,
         "chat hash": "nan",
         "comment frequency": 11,
         "days since being friends": 1546.75,
         "days since last communication": 1546.75,
         "empath": 0,
         "name": "BYX.RUPCYM",
         "number of messages": 0,
         "post frequency": 0,
         "tie strength": 0.2138644835865906,
         "vader positivity": 0
        },
        {
         "_deepnote_index_column": 610,
         "chat hash": "nan",
         "comment frequency": 11,
         "days since being friends": 1557.8333333333333,
         "days since last communication": 1557.8333333333333,
         "empath": 0,
         "name": "GUG.VOXMIH",
         "number of messages": 0,
         "post frequency": 0,
         "tie strength": 0.21334279652871857,
         "vader positivity": 0
        },
        {
         "_deepnote_index_column": 0,
         "chat hash": "nan",
         "comment frequency": 0,
         "days since being friends": 300.375,
         "days since last communication": 300.375,
         "empath": 0,
         "name": "AUR.YYNNYLYL",
         "number of messages": 0,
         "post frequency": 0,
         "tie strength": 0.21106556195913737,
         "vader positivity": 0
        },
        {
         "_deepnote_index_column": 1,
         "chat hash": "nan",
         "comment frequency": 0,
         "days since being friends": 307.875,
         "days since last communication": 307.875,
         "empath": 0,
         "name": "DYNYL.KUFFCWB",
         "number of messages": 0,
         "post frequency": 0,
         "tie strength": 0.21071254064178033,
         "vader positivity": 0
        },
        {
         "_deepnote_index_column": 2,
         "chat hash": "nan",
         "comment frequency": 0,
         "days since being friends": 311.6666666666667,
         "days since last communication": 311.6666666666667,
         "empath": 0,
         "name": "YSFY.ZUSFUHX",
         "number of messages": 0,
         "post frequency": 0,
         "tie strength": 0.21053406875356095,
         "vader positivity": 0
        },
        {
         "_deepnote_index_column": 3,
         "chat hash": "nan",
         "comment frequency": 0,
         "days since being friends": 314.8333333333333,
         "days since last communication": 314.8333333333333,
         "empath": 0,
         "name": "GUGOYF.KCFECHMIH",
         "number of messages": 0,
         "post frequency": 0,
         "tie strength": 0.21038501530845466,
         "vader positivity": 0
        },
        {
         "_deepnote_index_column": 6,
         "chat hash": "nan",
         "comment frequency": 0,
         "days since being friends": 316,
         "days since last communication": 316,
         "empath": 0,
         "name": "RUFY.YCLE",
         "number of messages": 0,
         "post frequency": 0,
         "tie strength": 0.21033010088131024,
         "vader positivity": 0
        },
        {
         "_deepnote_index_column": 5,
         "chat hash": "nan",
         "comment frequency": 0,
         "days since being friends": 316,
         "days since last communication": 316,
         "empath": 0,
         "name": "SGCF.PYHXYL.ZUMMYH",
         "number of messages": 0,
         "post frequency": 0,
         "tie strength": 0.21033010088131024,
         "vader positivity": 0
        },
        {
         "_deepnote_index_column": 4,
         "chat hash": "nan",
         "comment frequency": 0,
         "days since being friends": 316,
         "days since last communication": 316,
         "empath": 0,
         "name": "FUXO.OMUHXYC",
         "number of messages": 0,
         "post frequency": 0,
         "tie strength": 0.21033010088131024,
         "vader positivity": 0
        },
        {
         "_deepnote_index_column": 7,
         "chat hash": "nan",
         "comment frequency": 0,
         "days since being friends": 321.6666666666667,
         "days since last communication": 321.6666666666667,
         "empath": 0,
         "name": "GBUHHIH.SAUH",
         "number of messages": 0,
         "post frequency": 0,
         "tie strength": 0.2100633736637516,
         "vader positivity": 0
        },
        {
         "_deepnote_index_column": 8,
         "chat hash": "nan",
         "comment frequency": 0,
         "days since being friends": 332.7083333333333,
         "days since last communication": 332.7083333333333,
         "empath": 0,
         "name": "ZYY.XY.KCN",
         "number of messages": 0,
         "post frequency": 0,
         "tie strength": 0.20954364783542043,
         "vader positivity": 0
        },
        {
         "_deepnote_index_column": 9,
         "chat hash": "nan",
         "comment frequency": 0,
         "days since being friends": 357.8333333333333,
         "days since last communication": 357.8333333333333,
         "empath": 0,
         "name": "YLCMNCHU.YDYFFMMIH",
         "number of messages": 0,
         "post frequency": 0,
         "tie strength": 0.20836102642227441,
         "vader positivity": 0
        },
        {
         "_deepnote_index_column": 10,
         "chat hash": "nan",
         "comment frequency": 0,
         "days since being friends": 365.9166666666667,
         "days since last communication": 365.9166666666667,
         "empath": 0,
         "name": "QUG.PULNFYNN",
         "number of messages": 0,
         "post frequency": 0,
         "tie strength": 0.20798054789134524,
         "vader positivity": 0
        },
        {
         "_deepnote_index_column": 11,
         "chat hash": "nan",
         "comment frequency": 0,
         "days since being friends": 367.3333333333333,
         "days since last communication": 367.3333333333333,
         "empath": 0,
         "name": "AULW.UIFXZLUX",
         "number of messages": 0,
         "post frequency": 0,
         "tie strength": 0.20791386608695558,
         "vader positivity": 0
        },
        {
         "_deepnote_index_column": 12,
         "chat hash": "nan",
         "comment frequency": 0,
         "days since being friends": 367.6666666666667,
         "days since last communication": 367.6666666666667,
         "empath": 0,
         "name": "OHXPO>>WAPO>>UGIF.PIHHYN",
         "number of messages": 0,
         "post frequency": 0,
         "tie strength": 0.20789817625062856,
         "vader positivity": 0
        },
        {
         "_deepnote_index_column": 13,
         "chat hash": "nan",
         "comment frequency": 0,
         "days since being friends": 369,
         "days since last communication": 369,
         "empath": 0,
         "name": "FOVS.DUXZCYFX",
         "number of messages": 0,
         "post frequency": 0,
         "tie strength": 0.20783541690532065,
         "vader positivity": 0
        },
        {
         "_deepnote_index_column": 74,
         "chat hash": "nan",
         "comment frequency": 1,
         "days since being friends": 500.4166666666667,
         "days since last communication": 500.4166666666667,
         "empath": 0,
         "name": "OFGU.WIHYMWO",
         "number of messages": 0,
         "post frequency": 0,
         "tie strength": 0.20723744265009728,
         "vader positivity": 0
        },
        {
         "_deepnote_index_column": 14,
         "chat hash": "nan",
         "comment frequency": 0,
         "days since being friends": 392.2916666666667,
         "days since last communication": 392.2916666666667,
         "empath": 0,
         "name": "SLCW.P.ZYULYMFYS",
         "number of messages": 0,
         "post frequency": 0,
         "tie strength": 0.20673908959197304,
         "vader positivity": 0
        },
        {
         "_deepnote_index_column": 15,
         "chat hash": "nan",
         "comment frequency": 0,
         "days since being friends": 392.3333333333333,
         "days since last communication": 392.3333333333333,
         "empath": 0,
         "name": "QBULFYM.QIIJYL",
         "number of messages": 0,
         "post frequency": 0,
         "tie strength": 0.20673712836243216,
         "vader positivity": 0
        },
        {
         "_deepnote_index_column": 16,
         "chat hash": "nan",
         "comment frequency": 0,
         "days since being friends": 395.0416666666667,
         "days since last communication": 395.0416666666667,
         "empath": 0,
         "name": "XILCM.PO>>WCPO>>U>CGUCNCM",
         "number of messages": 0,
         "post frequency": 0,
         "tie strength": 0.20660964844227545,
         "vader positivity": 0
        },
        {
         "_deepnote_index_column": 17,
         "chat hash": "nan",
         "comment frequency": 0,
         "days since being friends": 398.7083333333333,
         "days since last communication": 398.7083333333333,
         "empath": 0,
         "name": "HIMCH",
         "number of messages": 0,
         "post frequency": 0,
         "tie strength": 0.20643706024267872,
         "vader positivity": 0
        },
        {
         "_deepnote_index_column": 674,
         "chat hash": "nan",
         "comment frequency": 11,
         "days since being friends": 1712.875,
         "days since last communication": 1712.875,
         "empath": 0,
         "name": "HUPCUH.CFUXUJI",
         "number of messages": 0,
         "post frequency": 0,
         "tie strength": 0.20604506140713266,
         "vader positivity": 0
        },
        {
         "_deepnote_index_column": 18,
         "chat hash": "nan",
         "comment frequency": 0,
         "days since being friends": 412.75,
         "days since last communication": 412.75,
         "empath": 0,
         "name": "SGGU.VULXS",
         "number of messages": 0,
         "post frequency": 0,
         "tie strength": 0.20577612588740474,
         "vader positivity": 0
        },
        {
         "_deepnote_index_column": 19,
         "chat hash": "nan",
         "comment frequency": 0,
         "days since being friends": 413.5833333333333,
         "days since last communication": 413.5833333333333,
         "empath": 0,
         "name": "XUWE.KCFFCUGM",
         "number of messages": 0,
         "post frequency": 0,
         "tie strength": 0.20573690129658728,
         "vader positivity": 0
        }
       ]
      },
      "text/html": [
       "<div>\n",
       "<style scoped>\n",
       "    .dataframe tbody tr th:only-of-type {\n",
       "        vertical-align: middle;\n",
       "    }\n",
       "\n",
       "    .dataframe tbody tr th {\n",
       "        vertical-align: top;\n",
       "    }\n",
       "\n",
       "    .dataframe thead th {\n",
       "        text-align: right;\n",
       "    }\n",
       "</style>\n",
       "<table border=\"1\" class=\"dataframe\">\n",
       "  <thead>\n",
       "    <tr style=\"text-align: right;\">\n",
       "      <th></th>\n",
       "      <th>name</th>\n",
       "      <th>days since being friends</th>\n",
       "      <th>comment frequency</th>\n",
       "      <th>post frequency</th>\n",
       "      <th>empath</th>\n",
       "      <th>number of messages</th>\n",
       "      <th>chat hash</th>\n",
       "      <th>vader positivity</th>\n",
       "      <th>days since last communication</th>\n",
       "      <th>tie strength</th>\n",
       "    </tr>\n",
       "  </thead>\n",
       "  <tbody>\n",
       "    <tr>\n",
       "      <th>741</th>\n",
       "      <td>Will O'Brien</td>\n",
       "      <td>1900.041667</td>\n",
       "      <td>0</td>\n",
       "      <td>1</td>\n",
       "      <td>0</td>\n",
       "      <td>0</td>\n",
       "      <td>NaN</td>\n",
       "      <td>0</td>\n",
       "      <td>1900.041667</td>\n",
       "      <td>1</td>\n",
       "    </tr>\n",
       "    <tr>\n",
       "      <th>159</th>\n",
       "      <td>JCNNILCU.SFYHU.AILCHC</td>\n",
       "      <td>805.583333</td>\n",
       "      <td>1</td>\n",
       "      <td>0</td>\n",
       "      <td>0</td>\n",
       "      <td>797</td>\n",
       "      <td>FCLxtGFi0Q</td>\n",
       "      <td>0.18654</td>\n",
       "      <td>344.541667</td>\n",
       "      <td>0.897659</td>\n",
       "    </tr>\n",
       "    <tr>\n",
       "      <th>671</th>\n",
       "      <td>Alex K. Chen</td>\n",
       "      <td>1685.541667</td>\n",
       "      <td>3</td>\n",
       "      <td>0</td>\n",
       "      <td>0</td>\n",
       "      <td>599</td>\n",
       "      <td>1ut-L9BlRA</td>\n",
       "      <td>0.22022</td>\n",
       "      <td>483.625000</td>\n",
       "      <td>0.770177</td>\n",
       "    </tr>\n",
       "    <tr>\n",
       "      <th>637</th>\n",
       "      <td>OXUG.QIR</td>\n",
       "      <td>1561.208333</td>\n",
       "      <td>6</td>\n",
       "      <td>0</td>\n",
       "      <td>0</td>\n",
       "      <td>575</td>\n",
       "      <td>4862ZCQgnQ</td>\n",
       "      <td>0.23542</td>\n",
       "      <td>1017.625000</td>\n",
       "      <td>0.751014</td>\n",
       "    </tr>\n",
       "    <tr>\n",
       "      <th>743</th>\n",
       "      <td>OFYR.QLIMM</td>\n",
       "      <td>1902.375000</td>\n",
       "      <td>95</td>\n",
       "      <td>0</td>\n",
       "      <td>0</td>\n",
       "      <td>0</td>\n",
       "      <td>NaN</td>\n",
       "      <td>0</td>\n",
       "      <td>1902.375000</td>\n",
       "      <td>0.666496</td>\n",
       "    </tr>\n",
       "    <tr>\n",
       "      <th>...</th>\n",
       "      <td>...</td>\n",
       "      <td>...</td>\n",
       "      <td>...</td>\n",
       "      <td>...</td>\n",
       "      <td>...</td>\n",
       "      <td>...</td>\n",
       "      <td>...</td>\n",
       "      <td>...</td>\n",
       "      <td>...</td>\n",
       "      <td>...</td>\n",
       "    </tr>\n",
       "    <tr>\n",
       "      <th>753</th>\n",
       "      <td>VLCMNI.JUMCFYP</td>\n",
       "      <td>1913.958333</td>\n",
       "      <td>8</td>\n",
       "      <td>0</td>\n",
       "      <td>0</td>\n",
       "      <td>0</td>\n",
       "      <td>NaN</td>\n",
       "      <td>0</td>\n",
       "      <td>1913.958333</td>\n",
       "      <td>0.179817</td>\n",
       "    </tr>\n",
       "    <tr>\n",
       "      <th>614</th>\n",
       "      <td>AUNYC.PDIFU</td>\n",
       "      <td>1558.750000</td>\n",
       "      <td>5</td>\n",
       "      <td>0</td>\n",
       "      <td>0</td>\n",
       "      <td>0</td>\n",
       "      <td>NaN</td>\n",
       "      <td>0</td>\n",
       "      <td>1558.750000</td>\n",
       "      <td>0.179773</td>\n",
       "    </tr>\n",
       "    <tr>\n",
       "      <th>362</th>\n",
       "      <td>DUOFCHY.FCYM</td>\n",
       "      <td>1323.875000</td>\n",
       "      <td>3</td>\n",
       "      <td>0</td>\n",
       "      <td>0</td>\n",
       "      <td>0</td>\n",
       "      <td>NaN</td>\n",
       "      <td>0</td>\n",
       "      <td>1323.875000</td>\n",
       "      <td>0.179653</td>\n",
       "    </tr>\n",
       "    <tr>\n",
       "      <th>638</th>\n",
       "      <td>AULE.HOLHYL</td>\n",
       "      <td>1561.500000</td>\n",
       "      <td>5</td>\n",
       "      <td>0</td>\n",
       "      <td>0</td>\n",
       "      <td>0</td>\n",
       "      <td>NaN</td>\n",
       "      <td>0</td>\n",
       "      <td>1561.500000</td>\n",
       "      <td>0.179644</td>\n",
       "    </tr>\n",
       "    <tr>\n",
       "      <th>238</th>\n",
       "      <td>BHUGXC.IEUYAVO</td>\n",
       "      <td>969.541667</td>\n",
       "      <td>0</td>\n",
       "      <td>0</td>\n",
       "      <td>0</td>\n",
       "      <td>0</td>\n",
       "      <td>NaN</td>\n",
       "      <td>0</td>\n",
       "      <td>969.541667</td>\n",
       "      <td>0.179568</td>\n",
       "    </tr>\n",
       "  </tbody>\n",
       "</table>\n",
       "<p>300 rows × 10 columns</p>\n",
       "</div>"
      ],
      "text/plain": [
       "                      name  days since being friends  comment frequency  \\\n",
       "741           Will O'Brien               1900.041667                  0   \n",
       "159  JCNNILCU.SFYHU.AILCHC                805.583333                  1   \n",
       "671           Alex K. Chen               1685.541667                  3   \n",
       "637               OXUG.QIR               1561.208333                  6   \n",
       "743             OFYR.QLIMM               1902.375000                 95   \n",
       "..                     ...                       ...                ...   \n",
       "753         VLCMNI.JUMCFYP               1913.958333                  8   \n",
       "614            AUNYC.PDIFU               1558.750000                  5   \n",
       "362           DUOFCHY.FCYM               1323.875000                  3   \n",
       "638            AULE.HOLHYL               1561.500000                  5   \n",
       "238         BHUGXC.IEUYAVO                969.541667                  0   \n",
       "\n",
       "     post frequency  empath  number of messages   chat hash vader positivity  \\\n",
       "741               1       0                   0         NaN                0   \n",
       "159               0       0                 797  FCLxtGFi0Q          0.18654   \n",
       "671               0       0                 599  1ut-L9BlRA          0.22022   \n",
       "637               0       0                 575  4862ZCQgnQ          0.23542   \n",
       "743               0       0                   0         NaN                0   \n",
       "..              ...     ...                 ...         ...              ...   \n",
       "753               0       0                   0         NaN                0   \n",
       "614               0       0                   0         NaN                0   \n",
       "362               0       0                   0         NaN                0   \n",
       "638               0       0                   0         NaN                0   \n",
       "238               0       0                   0         NaN                0   \n",
       "\n",
       "     days since last communication tie strength  \n",
       "741                    1900.041667            1  \n",
       "159                     344.541667     0.897659  \n",
       "671                     483.625000     0.770177  \n",
       "637                    1017.625000     0.751014  \n",
       "743                    1902.375000     0.666496  \n",
       "..                             ...          ...  \n",
       "753                    1913.958333     0.179817  \n",
       "614                    1558.750000     0.179773  \n",
       "362                    1323.875000     0.179653  \n",
       "638                    1561.500000     0.179644  \n",
       "238                     969.541667     0.179568  \n",
       "\n",
       "[300 rows x 10 columns]"
      ]
     },
     "execution_count": 16,
     "metadata": {},
     "output_type": "execute_result"
    }
   ],
   "source": [
    "df['tie strength'] = linear_regression(df)\n",
    "df = df.sort_values(by = ['tie strength'], ascending = False) # sort by the tie strength\n",
    "df = df.head(300) # cap at 300 'closest' friends\n",
    "df"
   ]
  },
  {
   "cell_type": "markdown",
   "metadata": {
    "cell_id": "00064-fa63f115-b2e5-4ae9-9389-b836f9baf089",
    "deepnote_cell_type": "markdown",
    "output_cleared": false,
    "tags": []
   },
   "source": [
    "## Tone Analyzer"
   ]
  },
  {
   "cell_type": "code",
   "execution_count": 17,
   "metadata": {
    "cell_id": "00065-fa6eb683-9161-409d-9134-19ca8cff3d3a",
    "deepnote_cell_type": "code",
    "deepnote_to_be_reexecuted": false,
    "execution_millis": 477,
    "execution_start": 1609665801903,
    "output_cleared": false,
    "source_hash": "45a4fcdb",
    "tags": []
   },
   "outputs": [],
   "source": [
    "apikey = ''\n",
    "url = 'https://api.jp-tok.tone-analyzer.watson.cloud.ibm.com/instances/4c2d9078-27dd-48c9-985c-7ceedd475c06'\n",
    "\n",
    "import json\n",
    "from ibm_watson import ToneAnalyzerV3\n",
    "from ibm_cloud_sdk_core.authenticators import IAMAuthenticator\n",
    "\n",
    "authenticator = IAMAuthenticator(apikey)\n",
    "ta = ToneAnalyzerV3(version='2017-09-21', authenticator=authenticator)\n",
    "ta.set_service_url(url)"
   ]
  },
  {
   "cell_type": "code",
   "execution_count": 18,
   "metadata": {
    "cell_id": "00066-fee36915-c99b-4d3f-a159-35847d1ba624",
    "deepnote_cell_type": "code",
    "deepnote_to_be_reexecuted": false,
    "execution_millis": 52,
    "execution_start": 1609665802388,
    "output_cleared": false,
    "source_hash": "5e9d6eb4",
    "tags": []
   },
   "outputs": [
    {
     "data": {
      "text/plain": [
       "['JCNNILCU.SFYHU.AILCHC',\n",
       " 'Alex K. Chen',\n",
       " 'OXUG.QIR',\n",
       " 'KCFF.DOLMYL',\n",
       " 'NUE.UBUTC;HILVUNC',\n",
       " 'OULIH.QBOAAYL',\n",
       " 'KCFF.DUAY',\n",
       " 'KCFF.GFUNYL',\n",
       " 'OFYR.VUMNCHAM',\n",
       " 'OXUG.AUOHXYL',\n",
       " 'OUSOMB.DUNYF']"
      ]
     },
     "execution_count": 18,
     "metadata": {},
     "output_type": "execute_result"
    }
   ],
   "source": [
    "# This is the friend you select to be analyzed\n",
    "friend_analyze = df[df['number of messages'] != 0]['name'].values.tolist()\n",
    "friend_analyze"
   ]
  },
  {
   "cell_type": "code",
   "execution_count": 19,
   "metadata": {
    "cell_id": "00067-1b5b028e-2ac2-4cd7-8ff4-3ab09139fb0c",
    "deepnote_cell_type": "code",
    "deepnote_to_be_reexecuted": false,
    "execution_millis": 49,
    "execution_start": 1609665802459,
    "output_cleared": false,
    "source_hash": "f1304f54",
    "tags": []
   },
   "outputs": [],
   "source": [
    "possible_tones = ['Anger','Fear','Joy','Sadness','Analytical','Confident','Tentative']\n",
    "for tone in possible_tones:\n",
    "    df[tone] = -1\n",
    "\n",
    "def update_friend_tone(inbox_path,friend_analyze):\n",
    "    \n",
    "    ind = df.loc[df.name == friend_analyze].index\n",
    "    if len(ind) == 1: # checks if the friend's name is in the dataframe and if it is unique\n",
    "        row_num = ind[0]\n",
    "        hash = df.at[row_num,'chat hash'] \n",
    "\n",
    "        chat_path = open(os.path.join(inbox_path,hash,'message_1.json'))\n",
    "        chat_data = json.load(chat_path)\n",
    "        chat_to_analyze = []\n",
    "        counter = 0    \n",
    "        for message in chat_data['messages']:\n",
    "            if 'content' in message:\n",
    "                chat_to_analyze.append(message['content'])\n",
    "                counter += 1\n",
    "            if counter == 50:\n",
    "                break\n",
    "        \n",
    "        sentences_to_analyze = ' '.join(chat_to_analyze)\n",
    "        paragraph = {\"text\":sentences_to_analyze}\n",
    "        if (len(paragraph['text']) > 0):\n",
    "            chat_results_tone = ta.tone(paragraph).get_result()['document_tone']['tones']\n",
    "            \n",
    "            overall_tone = ''\n",
    "            overall_tone_score = 0\n",
    "            for tone in possible_tones:\n",
    "                for each in chat_results_tone:\n",
    "                    if (each['tone_name'] == tone):\n",
    "                        df.loc[row_num,tone] = each['score']\n",
    "                    if (each['score'] > overall_tone_score):\n",
    "                        overall_tone_score = each['score']\n",
    "                        overall_tone = each['tone_name']\n",
    "            df.at[row_num,'tone'] = overall_tone\n",
    "            df.at[row_num,'score'] = overall_tone_score"
   ]
  },
  {
   "cell_type": "code",
   "execution_count": 20,
   "metadata": {
    "cell_id": "00068-e8fcebfc-fe86-4eff-b4ac-75d6da3d733d",
    "deepnote_cell_type": "code",
    "deepnote_to_be_reexecuted": false,
    "execution_millis": 9513,
    "execution_start": 1609665802512,
    "output_cleared": false,
    "source_hash": "2e4d7f46",
    "tags": []
   },
   "outputs": [],
   "source": [
    "for friend in friend_analyze:\n",
    "    update_friend_tone(os.path.join(startpath,'messages','inbox'),friend)"
   ]
  },
  {
   "cell_type": "markdown",
   "metadata": {
    "cell_id": "00032-89016586-bf92-4448-9d73-d081f2066f7c",
    "deepnote_cell_type": "markdown",
    "tags": []
   },
   "source": [
    "## Data Pre-processing for Visualization"
   ]
  },
  {
   "cell_type": "code",
   "execution_count": 21,
   "metadata": {
    "cell_id": "00070-40feb6d5-06c0-414a-9fe7-567367ee9a4f",
    "deepnote_cell_type": "code",
    "deepnote_to_be_reexecuted": false,
    "execution_millis": 297,
    "execution_start": 1609665812030,
    "source_hash": "282d5f8e",
    "tags": []
   },
   "outputs": [
    {
     "data": {
      "application/vnd.deepnote.dataframe.v2+json": {
       "column_count": 14,
       "columns": [
        {
         "dtype": "object",
         "name": "name",
         "stats": {
          "categories": [
           {
            "count": 1,
            "name": "Will O'Brien"
           },
           {
            "count": 1,
            "name": "JCNNILCU.SFYHU.AILCHC"
           },
           {
            "count": 298,
            "name": "298 others"
           }
          ],
          "nan_count": 0,
          "unique_count": 300
         }
        },
        {
         "dtype": "int64",
         "name": "days since being friends",
         "stats": {
          "histogram": [
           {
            "bin_end": 666.2,
            "bin_start": 300,
            "count": 105
           },
           {
            "bin_end": 1032.4,
            "bin_start": 666.2,
            "count": 135
           },
           {
            "bin_end": 1398.6,
            "bin_start": 1032.4,
            "count": 15
           },
           {
            "bin_end": 1764.8,
            "bin_start": 1398.6,
            "count": 36
           },
           {
            "bin_end": 2131,
            "bin_start": 1764.8,
            "count": 4
           },
           {
            "bin_end": 2497.2,
            "bin_start": 2131,
            "count": 0
           },
           {
            "bin_end": 2863.4,
            "bin_start": 2497.2,
            "count": 0
           },
           {
            "bin_end": 3229.6,
            "bin_start": 2863.4,
            "count": 0
           },
           {
            "bin_end": 3595.7999999999997,
            "bin_start": 3229.6,
            "count": 2
           },
           {
            "bin_end": 3962,
            "bin_start": 3595.7999999999997,
            "count": 3
           }
          ],
          "max": 3962,
          "min": 300,
          "nan_count": 0,
          "unique_count": 209
         }
        },
        {
         "dtype": "int64",
         "name": "number of messages",
         "stats": {
          "histogram": [
           {
            "bin_end": 79.7,
            "bin_start": 0,
            "count": 295
           },
           {
            "bin_end": 159.4,
            "bin_start": 79.7,
            "count": 2
           },
           {
            "bin_end": 239.10000000000002,
            "bin_start": 159.4,
            "count": 0
           },
           {
            "bin_end": 318.8,
            "bin_start": 239.10000000000002,
            "count": 0
           },
           {
            "bin_end": 398.5,
            "bin_start": 318.8,
            "count": 0
           },
           {
            "bin_end": 478.20000000000005,
            "bin_start": 398.5,
            "count": 0
           },
           {
            "bin_end": 557.9,
            "bin_start": 478.20000000000005,
            "count": 0
           },
           {
            "bin_end": 637.6,
            "bin_start": 557.9,
            "count": 2
           },
           {
            "bin_end": 717.3000000000001,
            "bin_start": 637.6,
            "count": 0
           },
           {
            "bin_end": 797,
            "bin_start": 717.3000000000001,
            "count": 1
           }
          ],
          "max": 797,
          "min": 0,
          "nan_count": 0,
          "unique_count": 12
         }
        },
        {
         "dtype": "int64",
         "name": "days since last communication",
         "stats": {
          "histogram": [
           {
            "bin_end": 666.2,
            "bin_start": 300,
            "count": 109
           },
           {
            "bin_end": 1032.4,
            "bin_start": 666.2,
            "count": 135
           },
           {
            "bin_end": 1398.6,
            "bin_start": 1032.4,
            "count": 16
           },
           {
            "bin_end": 1764.8,
            "bin_start": 1398.6,
            "count": 32
           },
           {
            "bin_end": 2131,
            "bin_start": 1764.8,
            "count": 4
           },
           {
            "bin_end": 2497.2,
            "bin_start": 2131,
            "count": 0
           },
           {
            "bin_end": 2863.4,
            "bin_start": 2497.2,
            "count": 1
           },
           {
            "bin_end": 3229.6,
            "bin_start": 2863.4,
            "count": 0
           },
           {
            "bin_end": 3595.7999999999997,
            "bin_start": 3229.6,
            "count": 0
           },
           {
            "bin_end": 3962,
            "bin_start": 3595.7999999999997,
            "count": 3
           }
          ],
          "max": 3962,
          "min": 300,
          "nan_count": 0,
          "unique_count": 210
         }
        },
        {
         "dtype": "float64",
         "name": "tie strength",
         "stats": {
          "histogram": [
           {
            "bin_end": 0.262,
            "bin_start": 0.18,
            "count": 285
           },
           {
            "bin_end": 0.344,
            "bin_start": 0.262,
            "count": 5
           },
           {
            "bin_end": 0.426,
            "bin_start": 0.344,
            "count": 4
           },
           {
            "bin_end": 0.508,
            "bin_start": 0.426,
            "count": 0
           },
           {
            "bin_end": 0.5900000000000001,
            "bin_start": 0.508,
            "count": 1
           },
           {
            "bin_end": 0.6719999999999999,
            "bin_start": 0.5900000000000001,
            "count": 1
           },
           {
            "bin_end": 0.754,
            "bin_start": 0.6719999999999999,
            "count": 1
           },
           {
            "bin_end": 0.8360000000000001,
            "bin_start": 0.754,
            "count": 1
           },
           {
            "bin_end": 0.9179999999999999,
            "bin_start": 0.8360000000000001,
            "count": 1
           },
           {
            "bin_end": 1,
            "bin_start": 0.9179999999999999,
            "count": 1
           }
          ],
          "max": 1,
          "min": 0.18,
          "nan_count": 0,
          "unique_count": 21
         }
        },
        {
         "dtype": "float64",
         "name": "Anger",
         "stats": {
          "histogram": [
           {
            "bin_end": -1.4,
            "bin_start": -1.5,
            "count": 0
           },
           {
            "bin_end": -1.3,
            "bin_start": -1.4,
            "count": 0
           },
           {
            "bin_end": -1.2,
            "bin_start": -1.3,
            "count": 0
           },
           {
            "bin_end": -1.1,
            "bin_start": -1.2,
            "count": 0
           },
           {
            "bin_end": -1,
            "bin_start": -1.1,
            "count": 0
           },
           {
            "bin_end": -0.8999999999999999,
            "bin_start": -1,
            "count": 300
           },
           {
            "bin_end": -0.7999999999999999,
            "bin_start": -0.8999999999999999,
            "count": 0
           },
           {
            "bin_end": -0.7,
            "bin_start": -0.7999999999999999,
            "count": 0
           },
           {
            "bin_end": -0.6,
            "bin_start": -0.7,
            "count": 0
           },
           {
            "bin_end": -0.5,
            "bin_start": -0.6,
            "count": 0
           }
          ],
          "max": -1,
          "min": -1,
          "nan_count": 0,
          "unique_count": 1
         }
        },
        {
         "dtype": "float64",
         "name": "Fear",
         "stats": {
          "histogram": [
           {
            "bin_end": -0.847,
            "bin_start": -1,
            "count": 299
           },
           {
            "bin_end": -0.694,
            "bin_start": -0.847,
            "count": 0
           },
           {
            "bin_end": -0.541,
            "bin_start": -0.694,
            "count": 0
           },
           {
            "bin_end": -0.388,
            "bin_start": -0.541,
            "count": 0
           },
           {
            "bin_end": -0.235,
            "bin_start": -0.388,
            "count": 0
           },
           {
            "bin_end": -0.08200000000000007,
            "bin_start": -0.235,
            "count": 0
           },
           {
            "bin_end": 0.07099999999999995,
            "bin_start": -0.08200000000000007,
            "count": 0
           },
           {
            "bin_end": 0.22399999999999998,
            "bin_start": 0.07099999999999995,
            "count": 0
           },
           {
            "bin_end": 0.377,
            "bin_start": 0.22399999999999998,
            "count": 0
           },
           {
            "bin_end": 0.53,
            "bin_start": 0.377,
            "count": 1
           }
          ],
          "max": 0.53,
          "min": -1,
          "nan_count": 0,
          "unique_count": 2
         }
        },
        {
         "dtype": "float64",
         "name": "Joy",
         "stats": {
          "histogram": [
           {
            "bin_end": -0.806,
            "bin_start": -1,
            "count": 289
           },
           {
            "bin_end": -0.612,
            "bin_start": -0.806,
            "count": 0
           },
           {
            "bin_end": -0.4179999999999999,
            "bin_start": -0.612,
            "count": 0
           },
           {
            "bin_end": -0.22399999999999998,
            "bin_start": -0.4179999999999999,
            "count": 0
           },
           {
            "bin_end": -0.030000000000000027,
            "bin_start": -0.22399999999999998,
            "count": 0
           },
           {
            "bin_end": 0.16400000000000015,
            "bin_start": -0.030000000000000027,
            "count": 0
           },
           {
            "bin_end": 0.3580000000000001,
            "bin_start": 0.16400000000000015,
            "count": 0
           },
           {
            "bin_end": 0.552,
            "bin_start": 0.3580000000000001,
            "count": 0
           },
           {
            "bin_end": 0.746,
            "bin_start": 0.552,
            "count": 10
           },
           {
            "bin_end": 0.94,
            "bin_start": 0.746,
            "count": 1
           }
          ],
          "max": 0.94,
          "min": -1,
          "nan_count": 0,
          "unique_count": 10
         }
        },
        {
         "dtype": "float64",
         "name": "Sadness",
         "stats": {
          "histogram": [
           {
            "bin_end": -0.842,
            "bin_start": -1,
            "count": 297
           },
           {
            "bin_end": -0.6839999999999999,
            "bin_start": -0.842,
            "count": 0
           },
           {
            "bin_end": -0.526,
            "bin_start": -0.6839999999999999,
            "count": 0
           },
           {
            "bin_end": -0.368,
            "bin_start": -0.526,
            "count": 0
           },
           {
            "bin_end": -0.20999999999999996,
            "bin_start": -0.368,
            "count": 0
           },
           {
            "bin_end": -0.052000000000000046,
            "bin_start": -0.20999999999999996,
            "count": 0
           },
           {
            "bin_end": 0.1060000000000001,
            "bin_start": -0.052000000000000046,
            "count": 0
           },
           {
            "bin_end": 0.264,
            "bin_start": 0.1060000000000001,
            "count": 0
           },
           {
            "bin_end": 0.42199999999999993,
            "bin_start": 0.264,
            "count": 0
           },
           {
            "bin_end": 0.58,
            "bin_start": 0.42199999999999993,
            "count": 3
           }
          ],
          "max": 0.58,
          "min": -1,
          "nan_count": 0,
          "unique_count": 4
         }
        },
        {
         "dtype": "float64",
         "name": "Analytical",
         "stats": {
          "histogram": [
           {
            "bin_end": -1.4,
            "bin_start": -1.5,
            "count": 0
           },
           {
            "bin_end": -1.3,
            "bin_start": -1.4,
            "count": 0
           },
           {
            "bin_end": -1.2,
            "bin_start": -1.3,
            "count": 0
           },
           {
            "bin_end": -1.1,
            "bin_start": -1.2,
            "count": 0
           },
           {
            "bin_end": -1,
            "bin_start": -1.1,
            "count": 0
           },
           {
            "bin_end": -0.8999999999999999,
            "bin_start": -1,
            "count": 300
           },
           {
            "bin_end": -0.7999999999999999,
            "bin_start": -0.8999999999999999,
            "count": 0
           },
           {
            "bin_end": -0.7,
            "bin_start": -0.7999999999999999,
            "count": 0
           },
           {
            "bin_end": -0.6,
            "bin_start": -0.7,
            "count": 0
           },
           {
            "bin_end": -0.5,
            "bin_start": -0.6,
            "count": 0
           }
          ],
          "max": -1,
          "min": -1,
          "nan_count": 0,
          "unique_count": 1
         }
        },
        {
         "dtype": "float64",
         "name": "Confident",
         "stats": {
          "histogram": [
           {
            "bin_end": -1.4,
            "bin_start": -1.5,
            "count": 0
           },
           {
            "bin_end": -1.3,
            "bin_start": -1.4,
            "count": 0
           },
           {
            "bin_end": -1.2,
            "bin_start": -1.3,
            "count": 0
           },
           {
            "bin_end": -1.1,
            "bin_start": -1.2,
            "count": 0
           },
           {
            "bin_end": -1,
            "bin_start": -1.1,
            "count": 0
           },
           {
            "bin_end": -0.8999999999999999,
            "bin_start": -1,
            "count": 300
           },
           {
            "bin_end": -0.7999999999999999,
            "bin_start": -0.8999999999999999,
            "count": 0
           },
           {
            "bin_end": -0.7,
            "bin_start": -0.7999999999999999,
            "count": 0
           },
           {
            "bin_end": -0.6,
            "bin_start": -0.7,
            "count": 0
           },
           {
            "bin_end": -0.5,
            "bin_start": -0.6,
            "count": 0
           }
          ],
          "max": -1,
          "min": -1,
          "nan_count": 0,
          "unique_count": 1
         }
        },
        {
         "dtype": "float64",
         "name": "Tentative",
         "stats": {
          "histogram": [
           {
            "bin_end": -0.804,
            "bin_start": -1,
            "count": 294
           },
           {
            "bin_end": -0.608,
            "bin_start": -0.804,
            "count": 0
           },
           {
            "bin_end": -0.4119999999999999,
            "bin_start": -0.608,
            "count": 0
           },
           {
            "bin_end": -0.21599999999999997,
            "bin_start": -0.4119999999999999,
            "count": 0
           },
           {
            "bin_end": -0.020000000000000018,
            "bin_start": -0.21599999999999997,
            "count": 0
           },
           {
            "bin_end": 0.17600000000000016,
            "bin_start": -0.020000000000000018,
            "count": 0
           },
           {
            "bin_end": 0.3720000000000001,
            "bin_start": 0.17600000000000016,
            "count": 0
           },
           {
            "bin_end": 0.5680000000000001,
            "bin_start": 0.3720000000000001,
            "count": 0
           },
           {
            "bin_end": 0.764,
            "bin_start": 0.5680000000000001,
            "count": 1
           },
           {
            "bin_end": 0.96,
            "bin_start": 0.764,
            "count": 5
           }
          ],
          "max": 0.96,
          "min": -1,
          "nan_count": 0,
          "unique_count": 7
         }
        },
        {
         "dtype": "object",
         "name": "tone",
         "stats": {
          "categories": [
           {
            "count": 289,
            "name": "Neutral"
           },
           {
            "count": 6,
            "name": "Joy"
           },
           {
            "count": 5,
            "name": "Tentative"
           }
          ],
          "nan_count": 0,
          "unique_count": 3
         }
        },
        {
         "dtype": "float64",
         "name": "score",
         "stats": {
          "histogram": [
           {
            "bin_end": 0.627,
            "bin_start": 0.59,
            "count": 3
           },
           {
            "bin_end": 0.6639999999999999,
            "bin_start": 0.627,
            "count": 1
           },
           {
            "bin_end": 0.701,
            "bin_start": 0.6639999999999999,
            "count": 2
           },
           {
            "bin_end": 0.738,
            "bin_start": 0.701,
            "count": 0
           },
           {
            "bin_end": 0.7749999999999999,
            "bin_start": 0.738,
            "count": 0
           },
           {
            "bin_end": 0.8119999999999999,
            "bin_start": 0.7749999999999999,
            "count": 2
           },
           {
            "bin_end": 0.849,
            "bin_start": 0.8119999999999999,
            "count": 1
           },
           {
            "bin_end": 0.8859999999999999,
            "bin_start": 0.849,
            "count": 0
           },
           {
            "bin_end": 0.9229999999999999,
            "bin_start": 0.8859999999999999,
            "count": 1
           },
           {
            "bin_end": 0.96,
            "bin_start": 0.9229999999999999,
            "count": 1
           }
          ],
          "max": 0.96,
          "min": 0.59,
          "nan_count": 289,
          "unique_count": 11
         }
        },
        {
         "dtype": "int64",
         "name": "_deepnote_index_column"
        }
       ],
       "row_count": 300,
       "rows_bottom": [
        {
         "Analytical": -1,
         "Anger": -1,
         "Confident": -1,
         "Fear": -1,
         "Joy": -1,
         "Sadness": -1,
         "Tentative": -1,
         "_deepnote_index_column": 214,
         "days since being friends": 907,
         "days since last communication": 907,
         "name": "GUWBU.PLYLYNIH",
         "number of messages": 0,
         "score": "nan",
         "tie strength": 0.18,
         "tone": "Neutral"
        },
        {
         "Analytical": -1,
         "Anger": -1,
         "Confident": -1,
         "Fear": -1,
         "Joy": -1,
         "Sadness": -1,
         "Tentative": -1,
         "_deepnote_index_column": 216,
         "days since being friends": 909,
         "days since last communication": 909,
         "name": "YBIL.SOAYHY",
         "number of messages": 0,
         "score": "nan",
         "tie strength": 0.18,
         "tone": "Neutral"
        },
        {
         "Analytical": -1,
         "Anger": -1,
         "Confident": -1,
         "Fear": -1,
         "Joy": -1,
         "Sadness": -1,
         "Tentative": -1,
         "_deepnote_index_column": 217,
         "days since being friends": 910,
         "days since last communication": 910,
         "name": "XUWE.DIQYFF",
         "number of messages": 0,
         "score": "nan",
         "tie strength": 0.18,
         "tone": "Neutral"
        },
        {
         "Analytical": -1,
         "Anger": -1,
         "Confident": -1,
         "Fear": -1,
         "Joy": -1,
         "Sadness": -1,
         "Tentative": -1,
         "_deepnote_index_column": 218,
         "days since being friends": 910,
         "days since last communication": 910,
         "name": "BCAYF.DOHNYL",
         "number of messages": 0,
         "score": "nan",
         "tie strength": 0.18,
         "tone": "Neutral"
        },
        {
         "Analytical": -1,
         "Anger": -1,
         "Confident": -1,
         "Fear": -1,
         "Joy": -1,
         "Sadness": -1,
         "Tentative": -1,
         "_deepnote_index_column": 219,
         "days since being friends": 910,
         "days since last communication": 910,
         "name": "SGGU.KCFFCUGM",
         "number of messages": 0,
         "score": "nan",
         "tie strength": 0.18,
         "tone": "Neutral"
        },
        {
         "Analytical": -1,
         "Anger": -1,
         "Confident": -1,
         "Fear": -1,
         "Joy": -1,
         "Sadness": -1,
         "Tentative": -1,
         "_deepnote_index_column": 221,
         "days since being friends": 910,
         "days since last communication": 910,
         "name": "VUHHUB.ZCVVCY",
         "number of messages": 0,
         "score": "nan",
         "tie strength": 0.18,
         "tone": "Neutral"
        },
        {
         "Analytical": -1,
         "Anger": -1,
         "Confident": -1,
         "Fear": -1,
         "Joy": -1,
         "Sadness": -1,
         "Tentative": -1,
         "_deepnote_index_column": 220,
         "days since being friends": 910,
         "days since last communication": 910,
         "name": "SFFYH.NYBLU.XUFY",
         "number of messages": 0,
         "score": "nan",
         "tie strength": 0.18,
         "tone": "Neutral"
        },
        {
         "Analytical": -1,
         "Anger": -1,
         "Confident": -1,
         "Fear": -1,
         "Joy": -1,
         "Sadness": -1,
         "Tentative": -1,
         "_deepnote_index_column": 247,
         "days since being friends": 1031,
         "days since last communication": 1031,
         "name": "UCUWIGI.DIFC",
         "number of messages": 0,
         "score": "nan",
         "tie strength": 0.18,
         "tone": "Neutral"
        },
        {
         "Analytical": -1,
         "Anger": -1,
         "Confident": -1,
         "Fear": -1,
         "Joy": -1,
         "Sadness": -1,
         "Tentative": -1,
         "_deepnote_index_column": 222,
         "days since being friends": 917,
         "days since last communication": 917,
         "name": "SFFU.PLSUHN",
         "number of messages": 0,
         "score": "nan",
         "tie strength": 0.18,
         "tone": "Neutral"
        },
        {
         "Analytical": -1,
         "Anger": -1,
         "Confident": -1,
         "Fear": -1,
         "Joy": -1,
         "Sadness": -1,
         "Tentative": -1,
         "_deepnote_index_column": 252,
         "days since being friends": 1045,
         "days since last communication": 1045,
         "name": "AULE.BYFMIH",
         "number of messages": 0,
         "score": "nan",
         "tie strength": 0.18,
         "tone": "Neutral"
        },
        {
         "Analytical": -1,
         "Anger": -1,
         "Confident": -1,
         "Fear": -1,
         "Joy": -1,
         "Sadness": -1,
         "Tentative": -1,
         "_deepnote_index_column": 293,
         "days since being friends": 1164,
         "days since last communication": 1164,
         "name": "YIFUXY.OQIVIQUFY",
         "number of messages": 0,
         "score": "nan",
         "tie strength": 0.18,
         "tone": "Neutral"
        },
        {
         "Analytical": -1,
         "Anger": -1,
         "Confident": -1,
         "Fear": -1,
         "Joy": -1,
         "Sadness": -1,
         "Tentative": -1,
         "_deepnote_index_column": 294,
         "days since being friends": 1164,
         "days since last communication": 1164,
         "name": "HLYPIL.YYHHCMB",
         "number of messages": 0,
         "score": "nan",
         "tie strength": 0.18,
         "tone": "Neutral"
        },
        {
         "Analytical": -1,
         "Anger": -1,
         "Confident": -1,
         "Fear": -1,
         "Joy": -1,
         "Sadness": -1,
         "Tentative": -1,
         "_deepnote_index_column": 223,
         "days since being friends": 931,
         "days since last communication": 931,
         "name": "XUWE.AYLFCH.DIIFY",
         "number of messages": 0,
         "score": "nan",
         "tie strength": 0.18,
         "tone": "Neutral"
        },
        {
         "Analytical": -1,
         "Anger": -1,
         "Confident": -1,
         "Fear": -1,
         "Joy": -1,
         "Sadness": -1,
         "Tentative": -1,
         "_deepnote_index_column": 224,
         "days since being friends": 935,
         "days since last communication": 935,
         "name": "CLCU.RIFAOCLYPU",
         "number of messages": 0,
         "score": "nan",
         "tie strength": 0.18,
         "tone": "Neutral"
        },
        {
         "Analytical": -1,
         "Anger": -1,
         "Confident": -1,
         "Fear": -1,
         "Joy": -1,
         "Sadness": -1,
         "Tentative": -1,
         "_deepnote_index_column": 727,
         "days since being friends": 1886,
         "days since last communication": 1886,
         "name": "KCFF.UUFFIQUS",
         "number of messages": 0,
         "score": "nan",
         "tie strength": 0.18,
         "tone": "Neutral"
        },
        {
         "Analytical": -1,
         "Anger": -1,
         "Confident": -1,
         "Fear": -1,
         "Joy": -1,
         "Sadness": -1,
         "Tentative": -1,
         "_deepnote_index_column": 225,
         "days since being friends": 937,
         "days since last communication": 937,
         "name": "XIHUNBUH.TYGC.KCFFCUGMIH;HUSFIL",
         "number of messages": 0,
         "score": "nan",
         "tie strength": 0.18,
         "tone": "Neutral"
        },
        {
         "Analytical": -1,
         "Anger": -1,
         "Confident": -1,
         "Fear": -1,
         "Joy": -1,
         "Sadness": -1,
         "Tentative": -1,
         "_deepnote_index_column": 528,
         "days since being friends": 1531,
         "days since last communication": 1531,
         "name": "GUVLCHU.OBGYX",
         "number of messages": 0,
         "score": "nan",
         "tie strength": 0.18,
         "tone": "Neutral"
        },
        {
         "Analytical": -1,
         "Anger": -1,
         "Confident": -1,
         "Fear": -1,
         "Joy": -1,
         "Sadness": -1,
         "Tentative": -1,
         "_deepnote_index_column": 226,
         "days since being friends": 939,
         "days since last communication": 939,
         "name": "FYHOEU.YUXCLEUGUHUNBUH",
         "number of messages": 0,
         "score": "nan",
         "tie strength": 0.18,
         "tone": "Neutral"
        },
        {
         "Analytical": -1,
         "Anger": -1,
         "Confident": -1,
         "Fear": -1,
         "Joy": -1,
         "Sadness": -1,
         "Tentative": -1,
         "_deepnote_index_column": 227,
         "days since being friends": 939,
         "days since last communication": 939,
         "name": "BCEC.GBUB",
         "number of messages": 0,
         "score": "nan",
         "tie strength": 0.18,
         "tone": "Neutral"
        },
        {
         "Analytical": -1,
         "Anger": -1,
         "Confident": -1,
         "Fear": -1,
         "Joy": -1,
         "Sadness": -1,
         "Tentative": -1,
         "_deepnote_index_column": 228,
         "days since being friends": 939,
         "days since last communication": 939,
         "name": "GCGLUH.FUC",
         "number of messages": 0,
         "score": "nan",
         "tie strength": 0.18,
         "tone": "Neutral"
        },
        {
         "Analytical": -1,
         "Anger": -1,
         "Confident": -1,
         "Fear": -1,
         "Joy": -1,
         "Sadness": -1,
         "Tentative": -1,
         "_deepnote_index_column": 230,
         "days since being friends": 941,
         "days since last communication": 941,
         "name": "SPU.QBYH",
         "number of messages": 0,
         "score": "nan",
         "tie strength": 0.18,
         "tone": "Neutral"
        },
        {
         "Analytical": -1,
         "Anger": -1,
         "Confident": -1,
         "Fear": -1,
         "Joy": -1,
         "Sadness": -1,
         "Tentative": -1,
         "_deepnote_index_column": 229,
         "days since being friends": 941,
         "days since last communication": 941,
         "name": "GCFPCU.OHMYFGC",
         "number of messages": 0,
         "score": "nan",
         "tie strength": 0.18,
         "tone": "Neutral"
        },
        {
         "Analytical": -1,
         "Anger": -1,
         "Confident": -1,
         "Fear": -1,
         "Joy": -1,
         "Sadness": -1,
         "Tentative": -1,
         "_deepnote_index_column": 540,
         "days since being friends": 1535,
         "days since last communication": 1535,
         "name": "TYLAOM.KCFFM",
         "number of messages": 0,
         "score": "nan",
         "tie strength": 0.18,
         "tone": "Neutral"
        },
        {
         "Analytical": -1,
         "Anger": -1,
         "Confident": -1,
         "Fear": -1,
         "Joy": -1,
         "Sadness": -1,
         "Tentative": -1,
         "_deepnote_index_column": 231,
         "days since being friends": 947,
         "days since last communication": 947,
         "name": "BCWWIFPO>>WAPO>>V@.DUHCTTULXC",
         "number of messages": 0,
         "score": "nan",
         "tie strength": 0.18,
         "tone": "Neutral"
        },
        {
         "Analytical": -1,
         "Anger": -1,
         "Confident": -1,
         "Fear": -1,
         "Joy": -1,
         "Sadness": -1,
         "Tentative": -1,
         "_deepnote_index_column": 232,
         "days since being friends": 947,
         "days since last communication": 947,
         "name": "OLCUHHU.POLUNNI",
         "number of messages": 0,
         "score": "nan",
         "tie strength": 0.18,
         "tone": "Neutral"
        },
        {
         "Analytical": -1,
         "Anger": -1,
         "Confident": -1,
         "Fear": -1,
         "Joy": -1,
         "Sadness": -1,
         "Tentative": -1,
         "_deepnote_index_column": 233,
         "days since being friends": 947,
         "days since last communication": 947,
         "name": "GIZCU.UUFFI",
         "number of messages": 0,
         "score": "nan",
         "tie strength": 0.18,
         "tone": "Neutral"
        },
        {
         "Analytical": -1,
         "Anger": -1,
         "Confident": -1,
         "Fear": -1,
         "Joy": -1,
         "Sadness": -1,
         "Tentative": -1,
         "_deepnote_index_column": 234,
         "days since being friends": 949,
         "days since last communication": 949,
         "name": "OHHU.JYLXY",
         "number of messages": 0,
         "score": "nan",
         "tie strength": 0.18,
         "tone": "Neutral"
        },
        {
         "Analytical": -1,
         "Anger": -1,
         "Confident": -1,
         "Fear": -1,
         "Joy": -1,
         "Sadness": -1,
         "Tentative": -1,
         "_deepnote_index_column": 235,
         "days since being friends": 950,
         "days since last communication": 950,
         "name": "QFULU.AUCFFULX",
         "number of messages": 0,
         "score": "nan",
         "tie strength": 0.18,
         "tone": "Neutral"
        },
        {
         "Analytical": -1,
         "Anger": -1,
         "Confident": -1,
         "Fear": -1,
         "Joy": -1,
         "Sadness": -1,
         "Tentative": -1,
         "_deepnote_index_column": 236,
         "days since being friends": 951,
         "days since last communication": 951,
         "name": "QUGCFU.XY.FU.DULLU",
         "number of messages": 0,
         "score": "nan",
         "tie strength": 0.18,
         "tone": "Neutral"
        },
        {
         "Analytical": -1,
         "Anger": -1,
         "Confident": -1,
         "Fear": -1,
         "Joy": -1,
         "Sadness": -1,
         "Tentative": -1,
         "_deepnote_index_column": 268,
         "days since being friends": 1078,
         "days since last communication": 1078,
         "name": "TCHVUL.OBYLHY",
         "number of messages": 0,
         "score": "nan",
         "tie strength": 0.18,
         "tone": "Neutral"
        },
        {
         "Analytical": -1,
         "Anger": -1,
         "Confident": -1,
         "Fear": -1,
         "Joy": -1,
         "Sadness": -1,
         "Tentative": -1,
         "_deepnote_index_column": 599,
         "days since being friends": 1555,
         "days since last communication": 1555,
         "name": "PYH.RCEY",
         "number of messages": 0,
         "score": "nan",
         "tie strength": 0.18,
         "tone": "Neutral"
        },
        {
         "Analytical": -1,
         "Anger": -1,
         "Confident": -1,
         "Fear": -1,
         "Joy": -1,
         "Sadness": -1,
         "Tentative": -1,
         "_deepnote_index_column": 753,
         "days since being friends": 1913,
         "days since last communication": 1913,
         "name": "VLCMNI.JUMCFYP",
         "number of messages": 0,
         "score": "nan",
         "tie strength": 0.18,
         "tone": "Neutral"
        },
        {
         "Analytical": -1,
         "Anger": -1,
         "Confident": -1,
         "Fear": -1,
         "Joy": -1,
         "Sadness": -1,
         "Tentative": -1,
         "_deepnote_index_column": 614,
         "days since being friends": 1558,
         "days since last communication": 1558,
         "name": "AUNYC.PDIFU",
         "number of messages": 0,
         "score": "nan",
         "tie strength": 0.18,
         "tone": "Neutral"
        },
        {
         "Analytical": -1,
         "Anger": -1,
         "Confident": -1,
         "Fear": -1,
         "Joy": -1,
         "Sadness": -1,
         "Tentative": -1,
         "_deepnote_index_column": 362,
         "days since being friends": 1323,
         "days since last communication": 1323,
         "name": "DUOFCHY.FCYM",
         "number of messages": 0,
         "score": "nan",
         "tie strength": 0.18,
         "tone": "Neutral"
        },
        {
         "Analytical": -1,
         "Anger": -1,
         "Confident": -1,
         "Fear": -1,
         "Joy": -1,
         "Sadness": -1,
         "Tentative": -1,
         "_deepnote_index_column": 638,
         "days since being friends": 1561,
         "days since last communication": 1561,
         "name": "AULE.HOLHYL",
         "number of messages": 0,
         "score": "nan",
         "tie strength": 0.18,
         "tone": "Neutral"
        },
        {
         "Analytical": -1,
         "Anger": -1,
         "Confident": -1,
         "Fear": -1,
         "Joy": -1,
         "Sadness": -1,
         "Tentative": -1,
         "_deepnote_index_column": 238,
         "days since being friends": 969,
         "days since last communication": 969,
         "name": "BHUGXC.IEUYAVO",
         "number of messages": 0,
         "score": "nan",
         "tie strength": 0.18,
         "tone": "Neutral"
        }
       ],
       "rows_top": [
        {
         "Analytical": -1,
         "Anger": -1,
         "Confident": -1,
         "Fear": -1,
         "Joy": -1,
         "Sadness": -1,
         "Tentative": -1,
         "_deepnote_index_column": 741,
         "days since being friends": 1900,
         "days since last communication": 1900,
         "name": "Will O'Brien",
         "number of messages": 0,
         "score": "nan",
         "tie strength": 1,
         "tone": "Neutral"
        },
        {
         "Analytical": -1,
         "Anger": -1,
         "Confident": -1,
         "Fear": 0.53,
         "Joy": 0.66,
         "Sadness": 0.53,
         "Tentative": -1,
         "_deepnote_index_column": 159,
         "days since being friends": 805,
         "days since last communication": 344,
         "name": "JCNNILCU.SFYHU.AILCHC",
         "number of messages": 797,
         "score": "0.66",
         "tie strength": 0.9,
         "tone": "Joy"
        },
        {
         "Analytical": -1,
         "Anger": -1,
         "Confident": -1,
         "Fear": -1,
         "Joy": 0.61,
         "Sadness": 0.54,
         "Tentative": -1,
         "_deepnote_index_column": 671,
         "days since being friends": 1685,
         "days since last communication": 483,
         "name": "Alex K. Chen",
         "number of messages": 599,
         "score": "0.61",
         "tie strength": 0.77,
         "tone": "Joy"
        },
        {
         "Analytical": -1,
         "Anger": -1,
         "Confident": -1,
         "Fear": -1,
         "Joy": 0.58,
         "Sadness": 0.58,
         "Tentative": 0.8,
         "_deepnote_index_column": 637,
         "days since being friends": 1561,
         "days since last communication": 1017,
         "name": "OXUG.QIR",
         "number of messages": 575,
         "score": "0.8",
         "tie strength": 0.75,
         "tone": "Tentative"
        },
        {
         "Analytical": -1,
         "Anger": -1,
         "Confident": -1,
         "Fear": -1,
         "Joy": -1,
         "Sadness": -1,
         "Tentative": -1,
         "_deepnote_index_column": 743,
         "days since being friends": 1902,
         "days since last communication": 1902,
         "name": "OFYR.QLIMM",
         "number of messages": 0,
         "score": "nan",
         "tie strength": 0.67,
         "tone": "Neutral"
        },
        {
         "Analytical": -1,
         "Anger": -1,
         "Confident": -1,
         "Fear": -1,
         "Joy": -1,
         "Sadness": -1,
         "Tentative": -1,
         "_deepnote_index_column": 458,
         "days since being friends": 1483,
         "days since last communication": 1483,
         "name": "XIMBOU.GQYYHYS",
         "number of messages": 0,
         "score": "nan",
         "tie strength": 0.52,
         "tone": "Neutral"
        },
        {
         "Analytical": -1,
         "Anger": -1,
         "Confident": -1,
         "Fear": -1,
         "Joy": 0.68,
         "Sadness": -1,
         "Tentative": 0.83,
         "_deepnote_index_column": 306,
         "days since being friends": 1189,
         "days since last communication": 413,
         "name": "KCFF.DOLMYL",
         "number of messages": 81,
         "score": "0.83",
         "tie strength": 0.39,
         "tone": "Tentative"
        },
        {
         "Analytical": -1,
         "Anger": -1,
         "Confident": -1,
         "Fear": -1,
         "Joy": -1,
         "Sadness": -1,
         "Tentative": -1,
         "_deepnote_index_column": 626,
         "days since being friends": 1560,
         "days since last communication": 1560,
         "name": "BUNBUHCYF.TLCYX",
         "number of messages": 0,
         "score": "nan",
         "tie strength": 0.39,
         "tone": "Neutral"
        },
        {
         "Analytical": -1,
         "Anger": -1,
         "Confident": -1,
         "Fear": -1,
         "Joy": 0.94,
         "Sadness": -1,
         "Tentative": 0.96,
         "_deepnote_index_column": 130,
         "days since being friends": 762,
         "days since last communication": 762,
         "name": "NUE.UBUTC;HILVUNC",
         "number of messages": 3,
         "score": "0.96",
         "tie strength": 0.37,
         "tone": "Tentative"
        },
        {
         "Analytical": -1,
         "Anger": -1,
         "Confident": -1,
         "Fear": -1,
         "Joy": 0.67,
         "Sadness": -1,
         "Tentative": 0.6,
         "_deepnote_index_column": 620,
         "days since being friends": 1559,
         "days since last communication": 493,
         "name": "OULIH.QBOAAYL",
         "number of messages": 89,
         "score": "0.67",
         "tie strength": 0.35,
         "tone": "Joy"
        },
        {
         "Analytical": -1,
         "Anger": -1,
         "Confident": -1,
         "Fear": -1,
         "Joy": -1,
         "Sadness": -1,
         "Tentative": -1,
         "_deepnote_index_column": 81,
         "days since being friends": 572,
         "days since last communication": 572,
         "name": "XUGYM.KBYFUH",
         "number of messages": 0,
         "score": "nan",
         "tie strength": 0.33,
         "tone": "Neutral"
        },
        {
         "Analytical": -1,
         "Anger": -1,
         "Confident": -1,
         "Fear": -1,
         "Joy": 0.59,
         "Sadness": -1,
         "Tentative": -1,
         "_deepnote_index_column": 374,
         "days since being friends": 1359,
         "days since last communication": 1359,
         "name": "KCFF.DUAY",
         "number of messages": 1,
         "score": "0.59",
         "tie strength": 0.31,
         "tone": "Joy"
        },
        {
         "Analytical": -1,
         "Anger": -1,
         "Confident": -1,
         "Fear": -1,
         "Joy": -1,
         "Sadness": -1,
         "Tentative": -1,
         "_deepnote_index_column": 658,
         "days since being friends": 1620,
         "days since last communication": 1620,
         "name": "GUG.PULLYNN",
         "number of messages": 0,
         "score": "nan",
         "tie strength": 0.3,
         "tone": "Neutral"
        },
        {
         "Analytical": -1,
         "Anger": -1,
         "Confident": -1,
         "Fear": -1,
         "Joy": -1,
         "Sadness": -1,
         "Tentative": -1,
         "_deepnote_index_column": 513,
         "days since being friends": 1525,
         "days since last communication": 1525,
         "name": "YUSIXY.OQIVIQUFY",
         "number of messages": 0,
         "score": "nan",
         "tie strength": 0.27,
         "tone": "Neutral"
        },
        {
         "Analytical": -1,
         "Anger": -1,
         "Confident": -1,
         "Fear": -1,
         "Joy": -1,
         "Sadness": -1,
         "Tentative": -1,
         "_deepnote_index_column": 613,
         "days since being friends": 1558,
         "days since last communication": 1558,
         "name": "DODUH.UIL",
         "number of messages": 0,
         "score": "nan",
         "tie strength": 0.27,
         "tone": "Neutral"
        },
        {
         "Analytical": -1,
         "Anger": -1,
         "Confident": -1,
         "Fear": -1,
         "Joy": 0.63,
         "Sadness": -1,
         "Tentative": 0.78,
         "_deepnote_index_column": 668,
         "days since being friends": 1656,
         "days since last communication": 1376,
         "name": "KCFF.GFUNYL",
         "number of messages": 30,
         "score": "0.78",
         "tie strength": 0.26,
         "tone": "Tentative"
        },
        {
         "Analytical": -1,
         "Anger": -1,
         "Confident": -1,
         "Fear": -1,
         "Joy": 0.68,
         "Sadness": -1,
         "Tentative": -1,
         "_deepnote_index_column": 1101,
         "days since being friends": 3501,
         "days since last communication": 1099,
         "name": "OFYR.VUMNCHAM",
         "number of messages": 13,
         "score": "0.68",
         "tie strength": 0.26,
         "tone": "Joy"
        },
        {
         "Analytical": -1,
         "Anger": -1,
         "Confident": -1,
         "Fear": -1,
         "Joy": 0.67,
         "Sadness": -1,
         "Tentative": 0.9,
         "_deepnote_index_column": 1085,
         "days since being friends": 3427,
         "days since last communication": 2682,
         "name": "OXUG.AUOHXYL",
         "number of messages": 11,
         "score": "0.9",
         "tie strength": 0.25,
         "tone": "Tentative"
        },
        {
         "Analytical": -1,
         "Anger": -1,
         "Confident": -1,
         "Fear": -1,
         "Joy": -1,
         "Sadness": -1,
         "Tentative": -1,
         "_deepnote_index_column": 578,
         "days since being friends": 1550,
         "days since last communication": 1550,
         "name": "GUG.HBYUEYL",
         "number of messages": 0,
         "score": "nan",
         "tie strength": 0.25,
         "tone": "Neutral"
        },
        {
         "Analytical": -1,
         "Anger": -1,
         "Confident": -1,
         "Fear": -1,
         "Joy": -1,
         "Sadness": -1,
         "Tentative": -1,
         "_deepnote_index_column": 465,
         "days since being friends": 1492,
         "days since last communication": 1492,
         "name": "SMGIHX.ZIB",
         "number of messages": 0,
         "score": "nan",
         "tie strength": 0.24,
         "tone": "Neutral"
        },
        {
         "Analytical": -1,
         "Anger": -1,
         "Confident": -1,
         "Fear": -1,
         "Joy": 0.6,
         "Sadness": -1,
         "Tentative": -1,
         "_deepnote_index_column": 319,
         "days since being friends": 1211,
         "days since last communication": 1211,
         "name": "OUSOMB.DUNYF",
         "number of messages": 2,
         "score": "0.6",
         "tie strength": 0.24,
         "tone": "Joy"
        },
        {
         "Analytical": -1,
         "Anger": -1,
         "Confident": -1,
         "Fear": -1,
         "Joy": -1,
         "Sadness": -1,
         "Tentative": -1,
         "_deepnote_index_column": 1285,
         "days since being friends": 3962,
         "days since last communication": 3962,
         "name": "HIG.ULCGY",
         "number of messages": 0,
         "score": "nan",
         "tie strength": 0.24,
         "tone": "Neutral"
        },
        {
         "Analytical": -1,
         "Anger": -1,
         "Confident": -1,
         "Fear": -1,
         "Joy": -1,
         "Sadness": -1,
         "Tentative": -1,
         "_deepnote_index_column": 536,
         "days since being friends": 1533,
         "days since last communication": 1533,
         "name": "XIY.FSUH",
         "number of messages": 0,
         "score": "nan",
         "tie strength": 0.24,
         "tone": "Neutral"
        },
        {
         "Analytical": -1,
         "Anger": -1,
         "Confident": -1,
         "Fear": -1,
         "Joy": -1,
         "Sadness": -1,
         "Tentative": -1,
         "_deepnote_index_column": 588,
         "days since being friends": 1552,
         "days since last communication": 1552,
         "name": "RIG.QFULE",
         "number of messages": 0,
         "score": "nan",
         "tie strength": 0.24,
         "tone": "Neutral"
        },
        {
         "Analytical": -1,
         "Anger": -1,
         "Confident": -1,
         "Fear": -1,
         "Joy": -1,
         "Sadness": -1,
         "Tentative": -1,
         "_deepnote_index_column": 1240,
         "days since being friends": 3879,
         "days since last communication": 3879,
         "name": "OFCMNUCL.ZOXFYS",
         "number of messages": 0,
         "score": "nan",
         "tie strength": 0.22,
         "tone": "Neutral"
        },
        {
         "Analytical": -1,
         "Anger": -1,
         "Confident": -1,
         "Fear": -1,
         "Joy": -1,
         "Sadness": -1,
         "Tentative": -1,
         "_deepnote_index_column": 176,
         "days since being friends": 823,
         "days since last communication": 823,
         "name": "VULLS.PLSULM",
         "number of messages": 0,
         "score": "nan",
         "tie strength": 0.21,
         "tone": "Neutral"
        },
        {
         "Analytical": -1,
         "Anger": -1,
         "Confident": -1,
         "Fear": -1,
         "Joy": -1,
         "Sadness": -1,
         "Tentative": -1,
         "_deepnote_index_column": 570,
         "days since being friends": 1546,
         "days since last communication": 1546,
         "name": "BYX.RUPCYM",
         "number of messages": 0,
         "score": "nan",
         "tie strength": 0.21,
         "tone": "Neutral"
        },
        {
         "Analytical": -1,
         "Anger": -1,
         "Confident": -1,
         "Fear": -1,
         "Joy": -1,
         "Sadness": -1,
         "Tentative": -1,
         "_deepnote_index_column": 610,
         "days since being friends": 1557,
         "days since last communication": 1557,
         "name": "GUG.VOXMIH",
         "number of messages": 0,
         "score": "nan",
         "tie strength": 0.21,
         "tone": "Neutral"
        },
        {
         "Analytical": -1,
         "Anger": -1,
         "Confident": -1,
         "Fear": -1,
         "Joy": -1,
         "Sadness": -1,
         "Tentative": -1,
         "_deepnote_index_column": 0,
         "days since being friends": 300,
         "days since last communication": 300,
         "name": "AUR.YYNNYLYL",
         "number of messages": 0,
         "score": "nan",
         "tie strength": 0.21,
         "tone": "Neutral"
        },
        {
         "Analytical": -1,
         "Anger": -1,
         "Confident": -1,
         "Fear": -1,
         "Joy": -1,
         "Sadness": -1,
         "Tentative": -1,
         "_deepnote_index_column": 1,
         "days since being friends": 307,
         "days since last communication": 307,
         "name": "DYNYL.KUFFCWB",
         "number of messages": 0,
         "score": "nan",
         "tie strength": 0.21,
         "tone": "Neutral"
        },
        {
         "Analytical": -1,
         "Anger": -1,
         "Confident": -1,
         "Fear": -1,
         "Joy": -1,
         "Sadness": -1,
         "Tentative": -1,
         "_deepnote_index_column": 2,
         "days since being friends": 311,
         "days since last communication": 311,
         "name": "YSFY.ZUSFUHX",
         "number of messages": 0,
         "score": "nan",
         "tie strength": 0.21,
         "tone": "Neutral"
        },
        {
         "Analytical": -1,
         "Anger": -1,
         "Confident": -1,
         "Fear": -1,
         "Joy": -1,
         "Sadness": -1,
         "Tentative": -1,
         "_deepnote_index_column": 3,
         "days since being friends": 314,
         "days since last communication": 314,
         "name": "GUGOYF.KCFECHMIH",
         "number of messages": 0,
         "score": "nan",
         "tie strength": 0.21,
         "tone": "Neutral"
        },
        {
         "Analytical": -1,
         "Anger": -1,
         "Confident": -1,
         "Fear": -1,
         "Joy": -1,
         "Sadness": -1,
         "Tentative": -1,
         "_deepnote_index_column": 6,
         "days since being friends": 316,
         "days since last communication": 316,
         "name": "RUFY.YCLE",
         "number of messages": 0,
         "score": "nan",
         "tie strength": 0.21,
         "tone": "Neutral"
        },
        {
         "Analytical": -1,
         "Anger": -1,
         "Confident": -1,
         "Fear": -1,
         "Joy": -1,
         "Sadness": -1,
         "Tentative": -1,
         "_deepnote_index_column": 5,
         "days since being friends": 316,
         "days since last communication": 316,
         "name": "SGCF.PYHXYL.ZUMMYH",
         "number of messages": 0,
         "score": "nan",
         "tie strength": 0.21,
         "tone": "Neutral"
        },
        {
         "Analytical": -1,
         "Anger": -1,
         "Confident": -1,
         "Fear": -1,
         "Joy": -1,
         "Sadness": -1,
         "Tentative": -1,
         "_deepnote_index_column": 4,
         "days since being friends": 316,
         "days since last communication": 316,
         "name": "FUXO.OMUHXYC",
         "number of messages": 0,
         "score": "nan",
         "tie strength": 0.21,
         "tone": "Neutral"
        }
       ]
      },
      "text/html": [
       "<div>\n",
       "<style scoped>\n",
       "    .dataframe tbody tr th:only-of-type {\n",
       "        vertical-align: middle;\n",
       "    }\n",
       "\n",
       "    .dataframe tbody tr th {\n",
       "        vertical-align: top;\n",
       "    }\n",
       "\n",
       "    .dataframe thead th {\n",
       "        text-align: right;\n",
       "    }\n",
       "</style>\n",
       "<table border=\"1\" class=\"dataframe\">\n",
       "  <thead>\n",
       "    <tr style=\"text-align: right;\">\n",
       "      <th></th>\n",
       "      <th>name</th>\n",
       "      <th>days since being friends</th>\n",
       "      <th>number of messages</th>\n",
       "      <th>days since last communication</th>\n",
       "      <th>tie strength</th>\n",
       "      <th>Anger</th>\n",
       "      <th>Fear</th>\n",
       "      <th>Joy</th>\n",
       "      <th>Sadness</th>\n",
       "      <th>Analytical</th>\n",
       "      <th>Confident</th>\n",
       "      <th>Tentative</th>\n",
       "      <th>tone</th>\n",
       "      <th>score</th>\n",
       "    </tr>\n",
       "  </thead>\n",
       "  <tbody>\n",
       "    <tr>\n",
       "      <th>741</th>\n",
       "      <td>Will O'Brien</td>\n",
       "      <td>1900</td>\n",
       "      <td>0</td>\n",
       "      <td>1900</td>\n",
       "      <td>1.00</td>\n",
       "      <td>-1.0</td>\n",
       "      <td>-1.00</td>\n",
       "      <td>-1.00</td>\n",
       "      <td>-1.00</td>\n",
       "      <td>-1.0</td>\n",
       "      <td>-1.0</td>\n",
       "      <td>-1.0</td>\n",
       "      <td>Neutral</td>\n",
       "      <td>NaN</td>\n",
       "    </tr>\n",
       "    <tr>\n",
       "      <th>159</th>\n",
       "      <td>JCNNILCU.SFYHU.AILCHC</td>\n",
       "      <td>805</td>\n",
       "      <td>797</td>\n",
       "      <td>344</td>\n",
       "      <td>0.90</td>\n",
       "      <td>-1.0</td>\n",
       "      <td>0.53</td>\n",
       "      <td>0.66</td>\n",
       "      <td>0.53</td>\n",
       "      <td>-1.0</td>\n",
       "      <td>-1.0</td>\n",
       "      <td>-1.0</td>\n",
       "      <td>Joy</td>\n",
       "      <td>0.66</td>\n",
       "    </tr>\n",
       "    <tr>\n",
       "      <th>671</th>\n",
       "      <td>Alex K. Chen</td>\n",
       "      <td>1685</td>\n",
       "      <td>599</td>\n",
       "      <td>483</td>\n",
       "      <td>0.77</td>\n",
       "      <td>-1.0</td>\n",
       "      <td>-1.00</td>\n",
       "      <td>0.61</td>\n",
       "      <td>0.54</td>\n",
       "      <td>-1.0</td>\n",
       "      <td>-1.0</td>\n",
       "      <td>-1.0</td>\n",
       "      <td>Joy</td>\n",
       "      <td>0.61</td>\n",
       "    </tr>\n",
       "    <tr>\n",
       "      <th>637</th>\n",
       "      <td>OXUG.QIR</td>\n",
       "      <td>1561</td>\n",
       "      <td>575</td>\n",
       "      <td>1017</td>\n",
       "      <td>0.75</td>\n",
       "      <td>-1.0</td>\n",
       "      <td>-1.00</td>\n",
       "      <td>0.58</td>\n",
       "      <td>0.58</td>\n",
       "      <td>-1.0</td>\n",
       "      <td>-1.0</td>\n",
       "      <td>0.8</td>\n",
       "      <td>Tentative</td>\n",
       "      <td>0.80</td>\n",
       "    </tr>\n",
       "    <tr>\n",
       "      <th>743</th>\n",
       "      <td>OFYR.QLIMM</td>\n",
       "      <td>1902</td>\n",
       "      <td>0</td>\n",
       "      <td>1902</td>\n",
       "      <td>0.67</td>\n",
       "      <td>-1.0</td>\n",
       "      <td>-1.00</td>\n",
       "      <td>-1.00</td>\n",
       "      <td>-1.00</td>\n",
       "      <td>-1.0</td>\n",
       "      <td>-1.0</td>\n",
       "      <td>-1.0</td>\n",
       "      <td>Neutral</td>\n",
       "      <td>NaN</td>\n",
       "    </tr>\n",
       "    <tr>\n",
       "      <th>...</th>\n",
       "      <td>...</td>\n",
       "      <td>...</td>\n",
       "      <td>...</td>\n",
       "      <td>...</td>\n",
       "      <td>...</td>\n",
       "      <td>...</td>\n",
       "      <td>...</td>\n",
       "      <td>...</td>\n",
       "      <td>...</td>\n",
       "      <td>...</td>\n",
       "      <td>...</td>\n",
       "      <td>...</td>\n",
       "      <td>...</td>\n",
       "      <td>...</td>\n",
       "    </tr>\n",
       "    <tr>\n",
       "      <th>753</th>\n",
       "      <td>VLCMNI.JUMCFYP</td>\n",
       "      <td>1913</td>\n",
       "      <td>0</td>\n",
       "      <td>1913</td>\n",
       "      <td>0.18</td>\n",
       "      <td>-1.0</td>\n",
       "      <td>-1.00</td>\n",
       "      <td>-1.00</td>\n",
       "      <td>-1.00</td>\n",
       "      <td>-1.0</td>\n",
       "      <td>-1.0</td>\n",
       "      <td>-1.0</td>\n",
       "      <td>Neutral</td>\n",
       "      <td>NaN</td>\n",
       "    </tr>\n",
       "    <tr>\n",
       "      <th>614</th>\n",
       "      <td>AUNYC.PDIFU</td>\n",
       "      <td>1558</td>\n",
       "      <td>0</td>\n",
       "      <td>1558</td>\n",
       "      <td>0.18</td>\n",
       "      <td>-1.0</td>\n",
       "      <td>-1.00</td>\n",
       "      <td>-1.00</td>\n",
       "      <td>-1.00</td>\n",
       "      <td>-1.0</td>\n",
       "      <td>-1.0</td>\n",
       "      <td>-1.0</td>\n",
       "      <td>Neutral</td>\n",
       "      <td>NaN</td>\n",
       "    </tr>\n",
       "    <tr>\n",
       "      <th>362</th>\n",
       "      <td>DUOFCHY.FCYM</td>\n",
       "      <td>1323</td>\n",
       "      <td>0</td>\n",
       "      <td>1323</td>\n",
       "      <td>0.18</td>\n",
       "      <td>-1.0</td>\n",
       "      <td>-1.00</td>\n",
       "      <td>-1.00</td>\n",
       "      <td>-1.00</td>\n",
       "      <td>-1.0</td>\n",
       "      <td>-1.0</td>\n",
       "      <td>-1.0</td>\n",
       "      <td>Neutral</td>\n",
       "      <td>NaN</td>\n",
       "    </tr>\n",
       "    <tr>\n",
       "      <th>638</th>\n",
       "      <td>AULE.HOLHYL</td>\n",
       "      <td>1561</td>\n",
       "      <td>0</td>\n",
       "      <td>1561</td>\n",
       "      <td>0.18</td>\n",
       "      <td>-1.0</td>\n",
       "      <td>-1.00</td>\n",
       "      <td>-1.00</td>\n",
       "      <td>-1.00</td>\n",
       "      <td>-1.0</td>\n",
       "      <td>-1.0</td>\n",
       "      <td>-1.0</td>\n",
       "      <td>Neutral</td>\n",
       "      <td>NaN</td>\n",
       "    </tr>\n",
       "    <tr>\n",
       "      <th>238</th>\n",
       "      <td>BHUGXC.IEUYAVO</td>\n",
       "      <td>969</td>\n",
       "      <td>0</td>\n",
       "      <td>969</td>\n",
       "      <td>0.18</td>\n",
       "      <td>-1.0</td>\n",
       "      <td>-1.00</td>\n",
       "      <td>-1.00</td>\n",
       "      <td>-1.00</td>\n",
       "      <td>-1.0</td>\n",
       "      <td>-1.0</td>\n",
       "      <td>-1.0</td>\n",
       "      <td>Neutral</td>\n",
       "      <td>NaN</td>\n",
       "    </tr>\n",
       "  </tbody>\n",
       "</table>\n",
       "<p>300 rows × 14 columns</p>\n",
       "</div>"
      ],
      "text/plain": [
       "                      name  days since being friends  number of messages  \\\n",
       "741           Will O'Brien                      1900                   0   \n",
       "159  JCNNILCU.SFYHU.AILCHC                       805                 797   \n",
       "671           Alex K. Chen                      1685                 599   \n",
       "637               OXUG.QIR                      1561                 575   \n",
       "743             OFYR.QLIMM                      1902                   0   \n",
       "..                     ...                       ...                 ...   \n",
       "753         VLCMNI.JUMCFYP                      1913                   0   \n",
       "614            AUNYC.PDIFU                      1558                   0   \n",
       "362           DUOFCHY.FCYM                      1323                   0   \n",
       "638            AULE.HOLHYL                      1561                   0   \n",
       "238         BHUGXC.IEUYAVO                       969                   0   \n",
       "\n",
       "     days since last communication  tie strength  Anger  Fear   Joy  Sadness  \\\n",
       "741                           1900          1.00   -1.0 -1.00 -1.00    -1.00   \n",
       "159                            344          0.90   -1.0  0.53  0.66     0.53   \n",
       "671                            483          0.77   -1.0 -1.00  0.61     0.54   \n",
       "637                           1017          0.75   -1.0 -1.00  0.58     0.58   \n",
       "743                           1902          0.67   -1.0 -1.00 -1.00    -1.00   \n",
       "..                             ...           ...    ...   ...   ...      ...   \n",
       "753                           1913          0.18   -1.0 -1.00 -1.00    -1.00   \n",
       "614                           1558          0.18   -1.0 -1.00 -1.00    -1.00   \n",
       "362                           1323          0.18   -1.0 -1.00 -1.00    -1.00   \n",
       "638                           1561          0.18   -1.0 -1.00 -1.00    -1.00   \n",
       "238                            969          0.18   -1.0 -1.00 -1.00    -1.00   \n",
       "\n",
       "     Analytical  Confident  Tentative       tone  score  \n",
       "741        -1.0       -1.0       -1.0    Neutral    NaN  \n",
       "159        -1.0       -1.0       -1.0        Joy   0.66  \n",
       "671        -1.0       -1.0       -1.0        Joy   0.61  \n",
       "637        -1.0       -1.0        0.8  Tentative   0.80  \n",
       "743        -1.0       -1.0       -1.0    Neutral    NaN  \n",
       "..          ...        ...        ...        ...    ...  \n",
       "753        -1.0       -1.0       -1.0    Neutral    NaN  \n",
       "614        -1.0       -1.0       -1.0    Neutral    NaN  \n",
       "362        -1.0       -1.0       -1.0    Neutral    NaN  \n",
       "638        -1.0       -1.0       -1.0    Neutral    NaN  \n",
       "238        -1.0       -1.0       -1.0    Neutral    NaN  \n",
       "\n",
       "[300 rows x 14 columns]"
      ]
     },
     "execution_count": 21,
     "metadata": {},
     "output_type": "execute_result"
    }
   ],
   "source": [
    "# change nan and \"\" values for tone to neutral\n",
    "df['tone'] = df['tone'].fillna('Neutral')\n",
    "df['tone'] = df['tone'].replace(\"\", 'Neutral')\n",
    "# drop unneeded metrics for visualization\n",
    "df.drop(columns=['comment frequency', 'post frequency', 'empath', 'chat hash', 'vader positivity'], inplace = True) \n",
    "# change some of the type of the values for visualization\n",
    "int_metrics = ['days since being friends', 'days since last communication']\n",
    "for metric in int_metrics:\n",
    "    df[metric] = df[metric].astype(int)\n",
    "decimal_metrics = ['tie strength','Anger','Fear','Joy','Sadness','Analytical','Confident','Tentative', 'score']\n",
    "for metric in decimal_metrics:\n",
    "    df[metric] = df[metric].astype(float).round(decimals = 2)\n",
    "\n",
    "df"
   ]
  },
  {
   "cell_type": "code",
   "execution_count": 22,
   "metadata": {
    "cell_id": "00035-9f308d19-56ee-4296-8d3c-d76d59aac2e1",
    "deepnote_cell_type": "code",
    "deepnote_to_be_reexecuted": false,
    "execution_millis": 31,
    "execution_start": 1609665812348,
    "source_hash": "631240a6",
    "tags": []
   },
   "outputs": [],
   "source": [
    "df_ten = df.copy()\n",
    "df_ten = df_ten.head(10)\n",
    "df_ten = df_ten[['name', 'tone', 'tie strength']]\n",
    "df_ten.columns = ['Name', 'Tone', 'Tie Strength']\n",
    "df_ten.to_csv('df_ten.csv',index=False)"
   ]
  },
  {
   "cell_type": "code",
   "execution_count": 23,
   "metadata": {
    "cell_id": "00034-48900d18-3da3-42ec-b576-5fc7ac6ef890",
    "deepnote_cell_type": "code",
    "deepnote_to_be_reexecuted": false,
    "execution_millis": 211,
    "execution_start": 1609665812382,
    "source_hash": "eb6c2c2a",
    "tags": []
   },
   "outputs": [
    {
     "data": {
      "application/vnd.deepnote.dataframe.v2+json": {
       "column_count": 14,
       "columns": [
        {
         "dtype": "object",
         "name": "name",
         "stats": {
          "categories": [
           {
            "count": 1,
            "name": "Select a friend!"
           },
           {
            "count": 1,
            "name": "AULCIH.DUHUACINIJIOFIO"
           },
           {
            "count": 299,
            "name": "299 others"
           }
          ],
          "nan_count": 0,
          "unique_count": 301
         }
        },
        {
         "dtype": "float64",
         "name": "days since being friends",
         "stats": {
          "histogram": [
           {
            "bin_end": 666.2,
            "bin_start": 300,
            "count": 105
           },
           {
            "bin_end": 1032.4,
            "bin_start": 666.2,
            "count": 135
           },
           {
            "bin_end": 1398.6,
            "bin_start": 1032.4,
            "count": 15
           },
           {
            "bin_end": 1764.8,
            "bin_start": 1398.6,
            "count": 36
           },
           {
            "bin_end": 2131,
            "bin_start": 1764.8,
            "count": 4
           },
           {
            "bin_end": 2497.2,
            "bin_start": 2131,
            "count": 0
           },
           {
            "bin_end": 2863.4,
            "bin_start": 2497.2,
            "count": 0
           },
           {
            "bin_end": 3229.6,
            "bin_start": 2863.4,
            "count": 0
           },
           {
            "bin_end": 3595.7999999999997,
            "bin_start": 3229.6,
            "count": 2
           },
           {
            "bin_end": 3962,
            "bin_start": 3595.7999999999997,
            "count": 3
           }
          ],
          "max": 3962,
          "min": 300,
          "nan_count": 1,
          "unique_count": 209
         }
        },
        {
         "dtype": "float64",
         "name": "number of messages",
         "stats": {
          "histogram": [
           {
            "bin_end": 79.7,
            "bin_start": 0,
            "count": 295
           },
           {
            "bin_end": 159.4,
            "bin_start": 79.7,
            "count": 2
           },
           {
            "bin_end": 239.10000000000002,
            "bin_start": 159.4,
            "count": 0
           },
           {
            "bin_end": 318.8,
            "bin_start": 239.10000000000002,
            "count": 0
           },
           {
            "bin_end": 398.5,
            "bin_start": 318.8,
            "count": 0
           },
           {
            "bin_end": 478.20000000000005,
            "bin_start": 398.5,
            "count": 0
           },
           {
            "bin_end": 557.9,
            "bin_start": 478.20000000000005,
            "count": 0
           },
           {
            "bin_end": 637.6,
            "bin_start": 557.9,
            "count": 2
           },
           {
            "bin_end": 717.3000000000001,
            "bin_start": 637.6,
            "count": 0
           },
           {
            "bin_end": 797,
            "bin_start": 717.3000000000001,
            "count": 1
           }
          ],
          "max": 797,
          "min": 0,
          "nan_count": 1,
          "unique_count": 12
         }
        },
        {
         "dtype": "float64",
         "name": "days since last communication",
         "stats": {
          "histogram": [
           {
            "bin_end": 666.2,
            "bin_start": 300,
            "count": 109
           },
           {
            "bin_end": 1032.4,
            "bin_start": 666.2,
            "count": 135
           },
           {
            "bin_end": 1398.6,
            "bin_start": 1032.4,
            "count": 16
           },
           {
            "bin_end": 1764.8,
            "bin_start": 1398.6,
            "count": 32
           },
           {
            "bin_end": 2131,
            "bin_start": 1764.8,
            "count": 4
           },
           {
            "bin_end": 2497.2,
            "bin_start": 2131,
            "count": 0
           },
           {
            "bin_end": 2863.4,
            "bin_start": 2497.2,
            "count": 1
           },
           {
            "bin_end": 3229.6,
            "bin_start": 2863.4,
            "count": 0
           },
           {
            "bin_end": 3595.7999999999997,
            "bin_start": 3229.6,
            "count": 0
           },
           {
            "bin_end": 3962,
            "bin_start": 3595.7999999999997,
            "count": 3
           }
          ],
          "max": 3962,
          "min": 300,
          "nan_count": 1,
          "unique_count": 210
         }
        },
        {
         "dtype": "float64",
         "name": "tie strength",
         "stats": {
          "histogram": [
           {
            "bin_end": 0.262,
            "bin_start": 0.18,
            "count": 285
           },
           {
            "bin_end": 0.344,
            "bin_start": 0.262,
            "count": 5
           },
           {
            "bin_end": 0.426,
            "bin_start": 0.344,
            "count": 4
           },
           {
            "bin_end": 0.508,
            "bin_start": 0.426,
            "count": 0
           },
           {
            "bin_end": 0.5900000000000001,
            "bin_start": 0.508,
            "count": 1
           },
           {
            "bin_end": 0.6719999999999999,
            "bin_start": 0.5900000000000001,
            "count": 1
           },
           {
            "bin_end": 0.754,
            "bin_start": 0.6719999999999999,
            "count": 1
           },
           {
            "bin_end": 0.8360000000000001,
            "bin_start": 0.754,
            "count": 1
           },
           {
            "bin_end": 0.9179999999999999,
            "bin_start": 0.8360000000000001,
            "count": 1
           },
           {
            "bin_end": 1,
            "bin_start": 0.9179999999999999,
            "count": 1
           }
          ],
          "max": 1,
          "min": 0.18,
          "nan_count": 1,
          "unique_count": 21
         }
        },
        {
         "dtype": "float64",
         "name": "Anger",
         "stats": {
          "histogram": [
           {
            "bin_end": -1.4,
            "bin_start": -1.5,
            "count": 0
           },
           {
            "bin_end": -1.3,
            "bin_start": -1.4,
            "count": 0
           },
           {
            "bin_end": -1.2,
            "bin_start": -1.3,
            "count": 0
           },
           {
            "bin_end": -1.1,
            "bin_start": -1.2,
            "count": 0
           },
           {
            "bin_end": -1,
            "bin_start": -1.1,
            "count": 0
           },
           {
            "bin_end": -0.8999999999999999,
            "bin_start": -1,
            "count": 300
           },
           {
            "bin_end": -0.7999999999999999,
            "bin_start": -0.8999999999999999,
            "count": 0
           },
           {
            "bin_end": -0.7,
            "bin_start": -0.7999999999999999,
            "count": 0
           },
           {
            "bin_end": -0.6,
            "bin_start": -0.7,
            "count": 0
           },
           {
            "bin_end": -0.5,
            "bin_start": -0.6,
            "count": 0
           }
          ],
          "max": -1,
          "min": -1,
          "nan_count": 1,
          "unique_count": 1
         }
        },
        {
         "dtype": "float64",
         "name": "Fear",
         "stats": {
          "histogram": [
           {
            "bin_end": -0.847,
            "bin_start": -1,
            "count": 299
           },
           {
            "bin_end": -0.694,
            "bin_start": -0.847,
            "count": 0
           },
           {
            "bin_end": -0.541,
            "bin_start": -0.694,
            "count": 0
           },
           {
            "bin_end": -0.388,
            "bin_start": -0.541,
            "count": 0
           },
           {
            "bin_end": -0.235,
            "bin_start": -0.388,
            "count": 0
           },
           {
            "bin_end": -0.08200000000000007,
            "bin_start": -0.235,
            "count": 0
           },
           {
            "bin_end": 0.07099999999999995,
            "bin_start": -0.08200000000000007,
            "count": 0
           },
           {
            "bin_end": 0.22399999999999998,
            "bin_start": 0.07099999999999995,
            "count": 0
           },
           {
            "bin_end": 0.377,
            "bin_start": 0.22399999999999998,
            "count": 0
           },
           {
            "bin_end": 0.53,
            "bin_start": 0.377,
            "count": 1
           }
          ],
          "max": 0.53,
          "min": -1,
          "nan_count": 1,
          "unique_count": 2
         }
        },
        {
         "dtype": "float64",
         "name": "Joy",
         "stats": {
          "histogram": [
           {
            "bin_end": -0.806,
            "bin_start": -1,
            "count": 289
           },
           {
            "bin_end": -0.612,
            "bin_start": -0.806,
            "count": 0
           },
           {
            "bin_end": -0.4179999999999999,
            "bin_start": -0.612,
            "count": 0
           },
           {
            "bin_end": -0.22399999999999998,
            "bin_start": -0.4179999999999999,
            "count": 0
           },
           {
            "bin_end": -0.030000000000000027,
            "bin_start": -0.22399999999999998,
            "count": 0
           },
           {
            "bin_end": 0.16400000000000015,
            "bin_start": -0.030000000000000027,
            "count": 0
           },
           {
            "bin_end": 0.3580000000000001,
            "bin_start": 0.16400000000000015,
            "count": 0
           },
           {
            "bin_end": 0.552,
            "bin_start": 0.3580000000000001,
            "count": 0
           },
           {
            "bin_end": 0.746,
            "bin_start": 0.552,
            "count": 10
           },
           {
            "bin_end": 0.94,
            "bin_start": 0.746,
            "count": 1
           }
          ],
          "max": 0.94,
          "min": -1,
          "nan_count": 1,
          "unique_count": 10
         }
        },
        {
         "dtype": "float64",
         "name": "Sadness",
         "stats": {
          "histogram": [
           {
            "bin_end": -0.842,
            "bin_start": -1,
            "count": 297
           },
           {
            "bin_end": -0.6839999999999999,
            "bin_start": -0.842,
            "count": 0
           },
           {
            "bin_end": -0.526,
            "bin_start": -0.6839999999999999,
            "count": 0
           },
           {
            "bin_end": -0.368,
            "bin_start": -0.526,
            "count": 0
           },
           {
            "bin_end": -0.20999999999999996,
            "bin_start": -0.368,
            "count": 0
           },
           {
            "bin_end": -0.052000000000000046,
            "bin_start": -0.20999999999999996,
            "count": 0
           },
           {
            "bin_end": 0.1060000000000001,
            "bin_start": -0.052000000000000046,
            "count": 0
           },
           {
            "bin_end": 0.264,
            "bin_start": 0.1060000000000001,
            "count": 0
           },
           {
            "bin_end": 0.42199999999999993,
            "bin_start": 0.264,
            "count": 0
           },
           {
            "bin_end": 0.58,
            "bin_start": 0.42199999999999993,
            "count": 3
           }
          ],
          "max": 0.58,
          "min": -1,
          "nan_count": 1,
          "unique_count": 4
         }
        },
        {
         "dtype": "float64",
         "name": "Analytical",
         "stats": {
          "histogram": [
           {
            "bin_end": -1.4,
            "bin_start": -1.5,
            "count": 0
           },
           {
            "bin_end": -1.3,
            "bin_start": -1.4,
            "count": 0
           },
           {
            "bin_end": -1.2,
            "bin_start": -1.3,
            "count": 0
           },
           {
            "bin_end": -1.1,
            "bin_start": -1.2,
            "count": 0
           },
           {
            "bin_end": -1,
            "bin_start": -1.1,
            "count": 0
           },
           {
            "bin_end": -0.8999999999999999,
            "bin_start": -1,
            "count": 300
           },
           {
            "bin_end": -0.7999999999999999,
            "bin_start": -0.8999999999999999,
            "count": 0
           },
           {
            "bin_end": -0.7,
            "bin_start": -0.7999999999999999,
            "count": 0
           },
           {
            "bin_end": -0.6,
            "bin_start": -0.7,
            "count": 0
           },
           {
            "bin_end": -0.5,
            "bin_start": -0.6,
            "count": 0
           }
          ],
          "max": -1,
          "min": -1,
          "nan_count": 1,
          "unique_count": 1
         }
        },
        {
         "dtype": "float64",
         "name": "Confident",
         "stats": {
          "histogram": [
           {
            "bin_end": -1.4,
            "bin_start": -1.5,
            "count": 0
           },
           {
            "bin_end": -1.3,
            "bin_start": -1.4,
            "count": 0
           },
           {
            "bin_end": -1.2,
            "bin_start": -1.3,
            "count": 0
           },
           {
            "bin_end": -1.1,
            "bin_start": -1.2,
            "count": 0
           },
           {
            "bin_end": -1,
            "bin_start": -1.1,
            "count": 0
           },
           {
            "bin_end": -0.8999999999999999,
            "bin_start": -1,
            "count": 300
           },
           {
            "bin_end": -0.7999999999999999,
            "bin_start": -0.8999999999999999,
            "count": 0
           },
           {
            "bin_end": -0.7,
            "bin_start": -0.7999999999999999,
            "count": 0
           },
           {
            "bin_end": -0.6,
            "bin_start": -0.7,
            "count": 0
           },
           {
            "bin_end": -0.5,
            "bin_start": -0.6,
            "count": 0
           }
          ],
          "max": -1,
          "min": -1,
          "nan_count": 1,
          "unique_count": 1
         }
        },
        {
         "dtype": "float64",
         "name": "Tentative",
         "stats": {
          "histogram": [
           {
            "bin_end": -0.804,
            "bin_start": -1,
            "count": 294
           },
           {
            "bin_end": -0.608,
            "bin_start": -0.804,
            "count": 0
           },
           {
            "bin_end": -0.4119999999999999,
            "bin_start": -0.608,
            "count": 0
           },
           {
            "bin_end": -0.21599999999999997,
            "bin_start": -0.4119999999999999,
            "count": 0
           },
           {
            "bin_end": -0.020000000000000018,
            "bin_start": -0.21599999999999997,
            "count": 0
           },
           {
            "bin_end": 0.17600000000000016,
            "bin_start": -0.020000000000000018,
            "count": 0
           },
           {
            "bin_end": 0.3720000000000001,
            "bin_start": 0.17600000000000016,
            "count": 0
           },
           {
            "bin_end": 0.5680000000000001,
            "bin_start": 0.3720000000000001,
            "count": 0
           },
           {
            "bin_end": 0.764,
            "bin_start": 0.5680000000000001,
            "count": 1
           },
           {
            "bin_end": 0.96,
            "bin_start": 0.764,
            "count": 5
           }
          ],
          "max": 0.96,
          "min": -1,
          "nan_count": 1,
          "unique_count": 7
         }
        },
        {
         "dtype": "object",
         "name": "tone",
         "stats": {
          "categories": [
           {
            "count": 289,
            "name": "Neutral"
           },
           {
            "count": 11,
            "name": "2 others"
           },
           {
            "count": 1,
            "name": "Missing"
           }
          ],
          "nan_count": 1,
          "unique_count": 3
         }
        },
        {
         "dtype": "float64",
         "name": "score",
         "stats": {
          "histogram": [
           {
            "bin_end": 0.627,
            "bin_start": 0.59,
            "count": 3
           },
           {
            "bin_end": 0.6639999999999999,
            "bin_start": 0.627,
            "count": 1
           },
           {
            "bin_end": 0.701,
            "bin_start": 0.6639999999999999,
            "count": 2
           },
           {
            "bin_end": 0.738,
            "bin_start": 0.701,
            "count": 0
           },
           {
            "bin_end": 0.7749999999999999,
            "bin_start": 0.738,
            "count": 0
           },
           {
            "bin_end": 0.8119999999999999,
            "bin_start": 0.7749999999999999,
            "count": 2
           },
           {
            "bin_end": 0.849,
            "bin_start": 0.8119999999999999,
            "count": 1
           },
           {
            "bin_end": 0.8859999999999999,
            "bin_start": 0.849,
            "count": 0
           },
           {
            "bin_end": 0.9229999999999999,
            "bin_start": 0.8859999999999999,
            "count": 1
           },
           {
            "bin_end": 0.96,
            "bin_start": 0.9229999999999999,
            "count": 1
           }
          ],
          "max": 0.96,
          "min": 0.59,
          "nan_count": 290,
          "unique_count": 11
         }
        },
        {
         "dtype": "int64",
         "name": "_deepnote_index_column"
        }
       ],
       "row_count": 301,
       "rows_bottom": [
        {
         "Analytical": -1,
         "Anger": -1,
         "Confident": -1,
         "Fear": -1,
         "Joy": -1,
         "Sadness": -1,
         "Tentative": -1,
         "_deepnote_index_column": 265,
         "days since being friends": 897,
         "days since last communication": 897,
         "name": "XUS.UIXBUHCU",
         "number of messages": 0,
         "score": "nan",
         "tie strength": 0.18,
         "tone": "Neutral"
        },
        {
         "Analytical": -1,
         "Anger": -1,
         "Confident": -1,
         "Fear": -1,
         "Joy": -1,
         "Sadness": -1,
         "Tentative": -1,
         "_deepnote_index_column": 266,
         "days since being friends": 931,
         "days since last communication": 931,
         "name": "XUWE.AYLFCH.DIIFY",
         "number of messages": 0,
         "score": "nan",
         "tie strength": 0.18,
         "tone": "Neutral"
        },
        {
         "Analytical": -1,
         "Anger": -1,
         "Confident": -1,
         "Fear": -1,
         "Joy": -1,
         "Sadness": -1,
         "Tentative": -1,
         "_deepnote_index_column": 267,
         "days since being friends": 910,
         "days since last communication": 910,
         "name": "XUWE.DIQYFF",
         "number of messages": 0,
         "score": "nan",
         "tie strength": 0.18,
         "tone": "Neutral"
        },
        {
         "Analytical": -1,
         "Anger": -1,
         "Confident": -1,
         "Fear": -1,
         "Joy": -1,
         "Sadness": -1,
         "Tentative": -1,
         "_deepnote_index_column": 268,
         "days since being friends": 413,
         "days since last communication": 413,
         "name": "XUWE.KCFFCUGM",
         "number of messages": 0,
         "score": "nan",
         "tie strength": 0.21,
         "tone": "Neutral"
        },
        {
         "Analytical": -1,
         "Anger": -1,
         "Confident": -1,
         "Fear": -1,
         "Joy": -1,
         "Sadness": -1,
         "Tentative": -1,
         "_deepnote_index_column": 269,
         "days since being friends": 753,
         "days since last communication": 753,
         "name": "XYGGU.PFUTCHU",
         "number of messages": 0,
         "score": "nan",
         "tie strength": 0.19,
         "tone": "Neutral"
        },
        {
         "Analytical": -1,
         "Anger": -1,
         "Confident": -1,
         "Fear": -1,
         "Joy": -1,
         "Sadness": -1,
         "Tentative": -1,
         "_deepnote_index_column": 270,
         "days since being friends": 823,
         "days since last communication": 823,
         "name": "XYLIGY.GWBY",
         "number of messages": 0,
         "score": "nan",
         "tie strength": 0.19,
         "tone": "Neutral"
        },
        {
         "Analytical": -1,
         "Anger": -1,
         "Confident": -1,
         "Fear": -1,
         "Joy": -1,
         "Sadness": -1,
         "Tentative": -1,
         "_deepnote_index_column": 271,
         "days since being friends": 888,
         "days since last communication": 888,
         "name": "XYMM.FCFYS",
         "number of messages": 0,
         "score": "nan",
         "tie strength": 0.18,
         "tone": "Neutral"
        },
        {
         "Analytical": -1,
         "Anger": -1,
         "Confident": -1,
         "Fear": -1,
         "Joy": -1,
         "Sadness": -1,
         "Tentative": -1,
         "_deepnote_index_column": 272,
         "days since being friends": 909,
         "days since last communication": 909,
         "name": "YBIL.SOAYHY",
         "number of messages": 0,
         "score": "nan",
         "tie strength": 0.18,
         "tone": "Neutral"
        },
        {
         "Analytical": -1,
         "Anger": -1,
         "Confident": -1,
         "Fear": -1,
         "Joy": -1,
         "Sadness": -1,
         "Tentative": -1,
         "_deepnote_index_column": 273,
         "days since being friends": 1164,
         "days since last communication": 1164,
         "name": "YIFUXY.OQIVIQUFY",
         "number of messages": 0,
         "score": "nan",
         "tie strength": 0.18,
         "tone": "Neutral"
        },
        {
         "Analytical": -1,
         "Anger": -1,
         "Confident": -1,
         "Fear": -1,
         "Joy": -1,
         "Sadness": -1,
         "Tentative": -1,
         "_deepnote_index_column": 274,
         "days since being friends": 357,
         "days since last communication": 357,
         "name": "YLCMNCHU.YDYFFMMIH",
         "number of messages": 0,
         "score": "nan",
         "tie strength": 0.21,
         "tone": "Neutral"
        },
        {
         "Analytical": -1,
         "Anger": -1,
         "Confident": -1,
         "Fear": -1,
         "Joy": -1,
         "Sadness": -1,
         "Tentative": -1,
         "_deepnote_index_column": 275,
         "days since being friends": 864,
         "days since last communication": 864,
         "name": "YLCMNIZZYL.ZUHXMHYM",
         "number of messages": 0,
         "score": "nan",
         "tie strength": 0.18,
         "tone": "Neutral"
        },
        {
         "Analytical": -1,
         "Anger": -1,
         "Confident": -1,
         "Fear": -1,
         "Joy": -1,
         "Sadness": -1,
         "Tentative": -1,
         "_deepnote_index_column": 276,
         "days since being friends": 826,
         "days since last communication": 826,
         "name": "YOMBUF.GIBUF",
         "number of messages": 0,
         "score": "nan",
         "tie strength": 0.19,
         "tone": "Neutral"
        },
        {
         "Analytical": -1,
         "Anger": -1,
         "Confident": -1,
         "Fear": -1,
         "Joy": -1,
         "Sadness": -1,
         "Tentative": -1,
         "_deepnote_index_column": 277,
         "days since being friends": 311,
         "days since last communication": 311,
         "name": "YSFY.ZUSFUHX",
         "number of messages": 0,
         "score": "nan",
         "tie strength": 0.21,
         "tone": "Neutral"
        },
        {
         "Analytical": -1,
         "Anger": -1,
         "Confident": -1,
         "Fear": -1,
         "Joy": -1,
         "Sadness": -1,
         "Tentative": -1,
         "_deepnote_index_column": 278,
         "days since being friends": 1525,
         "days since last communication": 1525,
         "name": "YUSIXY.OQIVIQUFY",
         "number of messages": 0,
         "score": "nan",
         "tie strength": 0.27,
         "tone": "Neutral"
        },
        {
         "Analytical": -1,
         "Anger": -1,
         "Confident": -1,
         "Fear": -1,
         "Joy": -1,
         "Sadness": -1,
         "Tentative": -1,
         "_deepnote_index_column": 279,
         "days since being friends": 472,
         "days since last communication": 472,
         "name": "YUVCLU.GOFYGUH",
         "number of messages": 0,
         "score": "nan",
         "tie strength": 0.2,
         "tone": "Neutral"
        },
        {
         "Analytical": -1,
         "Anger": -1,
         "Confident": -1,
         "Fear": -1,
         "Joy": -1,
         "Sadness": -1,
         "Tentative": -1,
         "_deepnote_index_column": 280,
         "days since being friends": 458,
         "days since last communication": 458,
         "name": "YUYLH.PMLUU",
         "number of messages": 0,
         "score": "nan",
         "tie strength": 0.2,
         "tone": "Neutral"
        },
        {
         "Analytical": -1,
         "Anger": -1,
         "Confident": -1,
         "Fear": -1,
         "Joy": -1,
         "Sadness": -1,
         "Tentative": -1,
         "_deepnote_index_column": 281,
         "days since being friends": 1656,
         "days since last communication": 1656,
         "name": "YYCEI.YIVUSUMBC",
         "number of messages": 0,
         "score": "nan",
         "tie strength": 0.2,
         "tone": "Neutral"
        },
        {
         "Analytical": -1,
         "Anger": -1,
         "Confident": -1,
         "Fear": -1,
         "Joy": -1,
         "Sadness": -1,
         "Tentative": -1,
         "_deepnote_index_column": 282,
         "days since being friends": 659,
         "days since last communication": 659,
         "name": "YYLIFIOM.VUHHU",
         "number of messages": 0,
         "score": "nan",
         "tie strength": 0.19,
         "tone": "Neutral"
        },
        {
         "Analytical": -1,
         "Anger": -1,
         "Confident": -1,
         "Fear": -1,
         "Joy": -1,
         "Sadness": -1,
         "Tentative": -1,
         "_deepnote_index_column": 283,
         "days since being friends": 966,
         "days since last communication": 966,
         "name": "YYPCH.QIFYGUH",
         "number of messages": 0,
         "score": "nan",
         "tie strength": 0.19,
         "tone": "Neutral"
        },
        {
         "Analytical": -1,
         "Anger": -1,
         "Confident": -1,
         "Fear": -1,
         "Joy": -1,
         "Sadness": -1,
         "Tentative": -1,
         "_deepnote_index_column": 284,
         "days since being friends": 463,
         "days since last communication": 463,
         "name": "ZCMMS.AIGYH",
         "number of messages": 0,
         "score": "nan",
         "tie strength": 0.2,
         "tone": "Neutral"
        },
        {
         "Analytical": -1,
         "Anger": -1,
         "Confident": -1,
         "Fear": -1,
         "Joy": -1,
         "Sadness": -1,
         "Tentative": -1,
         "_deepnote_index_column": 285,
         "days since being friends": 511,
         "days since last communication": 511,
         "name": "ZCP.PLIQH",
         "number of messages": 0,
         "score": "nan",
         "tie strength": 0.2,
         "tone": "Neutral"
        },
        {
         "Analytical": -1,
         "Anger": -1,
         "Confident": -1,
         "Fear": -1,
         "Joy": -1,
         "Sadness": -1,
         "Tentative": -1,
         "_deepnote_index_column": 286,
         "days since being friends": 704,
         "days since last communication": 704,
         "name": "ZCTTCY.ACYMYHVIYWE",
         "number of messages": 0,
         "score": "nan",
         "tie strength": 0.19,
         "tone": "Neutral"
        },
        {
         "Analytical": -1,
         "Anger": -1,
         "Confident": -1,
         "Fear": -1,
         "Joy": -1,
         "Sadness": -1,
         "Tentative": -1,
         "_deepnote_index_column": 287,
         "days since being friends": 451,
         "days since last communication": 451,
         "name": "ZCUG.AWBYCF",
         "number of messages": 0,
         "score": "nan",
         "tie strength": 0.2,
         "tone": "Neutral"
        },
        {
         "Analytical": -1,
         "Anger": -1,
         "Confident": -1,
         "Fear": -1,
         "Joy": -1,
         "Sadness": -1,
         "Tentative": -1,
         "_deepnote_index_column": 288,
         "days since being friends": 461,
         "days since last communication": 461,
         "name": "ZFISX.DBCFFCJM",
         "number of messages": 0,
         "score": "nan",
         "tie strength": 0.2,
         "tone": "Neutral"
        },
        {
         "Analytical": -1,
         "Anger": -1,
         "Confident": -1,
         "Fear": -1,
         "Joy": -1,
         "Sadness": -1,
         "Tentative": -1,
         "_deepnote_index_column": 289,
         "days since being friends": 450,
         "days since last communication": 450,
         "name": "ZILHU.HUSFIL",
         "number of messages": 0,
         "score": "nan",
         "tie strength": 0.2,
         "tone": "Neutral"
        },
        {
         "Analytical": -1,
         "Anger": -1,
         "Confident": -1,
         "Fear": -1,
         "Joy": -1,
         "Sadness": -1,
         "Tentative": -1,
         "_deepnote_index_column": 290,
         "days since being friends": 774,
         "days since last communication": 774,
         "name": "ZO.HULJFYY",
         "number of messages": 0,
         "score": "nan",
         "tie strength": 0.19,
         "tone": "Neutral"
        },
        {
         "Analytical": -1,
         "Anger": -1,
         "Confident": -1,
         "Fear": -1,
         "Joy": -1,
         "Sadness": -1,
         "Tentative": -1,
         "_deepnote_index_column": 291,
         "days since being friends": 677,
         "days since last communication": 677,
         "name": "ZOEY.UIHHYFFU",
         "number of messages": 0,
         "score": "nan",
         "tie strength": 0.19,
         "tone": "Neutral"
        },
        {
         "Analytical": -1,
         "Anger": -1,
         "Confident": -1,
         "Fear": -1,
         "Joy": -1,
         "Sadness": -1,
         "Tentative": -1,
         "_deepnote_index_column": 292,
         "days since being friends": 1149,
         "days since last communication": 1149,
         "name": "ZOEY.ULYYH",
         "number of messages": 0,
         "score": "nan",
         "tie strength": 0.19,
         "tone": "Neutral"
        },
        {
         "Analytical": -1,
         "Anger": -1,
         "Confident": -1,
         "Fear": -1,
         "Joy": -1,
         "Sadness": -1,
         "Tentative": -1,
         "_deepnote_index_column": 293,
         "days since being friends": 452,
         "days since last communication": 452,
         "name": "ZPO>>WAPO>>UGI.ZY.PFYCM",
         "number of messages": 0,
         "score": "nan",
         "tie strength": 0.2,
         "tone": "Neutral"
        },
        {
         "Analytical": -1,
         "Anger": -1,
         "Confident": -1,
         "Fear": -1,
         "Joy": -1,
         "Sadness": -1,
         "Tentative": -1,
         "_deepnote_index_column": 294,
         "days since being friends": 585,
         "days since last communication": 585,
         "name": "ZUFC.AUMNYLNIH",
         "number of messages": 0,
         "score": "nan",
         "tie strength": 0.2,
         "tone": "Neutral"
        },
        {
         "Analytical": -1,
         "Anger": -1,
         "Confident": -1,
         "Fear": -1,
         "Joy": -1,
         "Sadness": -1,
         "Tentative": -1,
         "_deepnote_index_column": 295,
         "days since being friends": 660,
         "days since last communication": 660,
         "name": "ZUOLYH.KUFEYL",
         "number of messages": 0,
         "score": "nan",
         "tie strength": 0.19,
         "tone": "Neutral"
        },
        {
         "Analytical": -1,
         "Anger": -1,
         "Confident": -1,
         "Fear": -1,
         "Joy": -1,
         "Sadness": -1,
         "Tentative": -1,
         "_deepnote_index_column": 296,
         "days since being friends": 457,
         "days since last communication": 457,
         "name": "ZUOLYH.OLGMNLIHA",
         "number of messages": 0,
         "score": "nan",
         "tie strength": 0.2,
         "tone": "Neutral"
        },
        {
         "Analytical": -1,
         "Anger": -1,
         "Confident": -1,
         "Fear": -1,
         "Joy": -1,
         "Sadness": -1,
         "Tentative": -1,
         "_deepnote_index_column": 297,
         "days since being friends": 449,
         "days since last communication": 449,
         "name": "ZUOLYH.YCHA",
         "number of messages": 0,
         "score": "nan",
         "tie strength": 0.2,
         "tone": "Neutral"
        },
        {
         "Analytical": -1,
         "Anger": -1,
         "Confident": -1,
         "Fear": -1,
         "Joy": -1,
         "Sadness": -1,
         "Tentative": -1,
         "_deepnote_index_column": 298,
         "days since being friends": 585,
         "days since last communication": 585,
         "name": "ZYIHULX.GXM",
         "number of messages": 0,
         "score": "nan",
         "tie strength": 0.2,
         "tone": "Neutral"
        },
        {
         "Analytical": -1,
         "Anger": -1,
         "Confident": -1,
         "Fear": -1,
         "Joy": -1,
         "Sadness": -1,
         "Tentative": -1,
         "_deepnote_index_column": 299,
         "days since being friends": 498,
         "days since last communication": 498,
         "name": "ZYQCM.FBSM",
         "number of messages": 0,
         "score": "nan",
         "tie strength": 0.2,
         "tone": "Neutral"
        },
        {
         "Analytical": -1,
         "Anger": -1,
         "Confident": -1,
         "Fear": -1,
         "Joy": -1,
         "Sadness": -1,
         "Tentative": -1,
         "_deepnote_index_column": 300,
         "days since being friends": 332,
         "days since last communication": 332,
         "name": "ZYY.XY.KCN",
         "number of messages": 0,
         "score": "nan",
         "tie strength": 0.21,
         "tone": "Neutral"
        }
       ],
       "rows_top": [
        {
         "Analytical": "nan",
         "Anger": "nan",
         "Confident": "nan",
         "Fear": "nan",
         "Joy": "nan",
         "Sadness": "nan",
         "Tentative": "nan",
         "_deepnote_index_column": 0,
         "days since being friends": "nan",
         "days since last communication": "nan",
         "name": "Select a friend!",
         "number of messages": "nan",
         "score": "nan",
         "tie strength": "nan",
         "tone": "nan"
        },
        {
         "Analytical": "-1.0",
         "Anger": "-1.0",
         "Confident": "-1.0",
         "Fear": "-1.0",
         "Joy": "-1.0",
         "Sadness": "-1.0",
         "Tentative": "-1.0",
         "_deepnote_index_column": 1,
         "days since being friends": "456.0",
         "days since last communication": "456.0",
         "name": "AULCIH.DUHUACINIJIOFIO",
         "number of messages": "0.0",
         "score": "nan",
         "tie strength": "0.2",
         "tone": "Neutral"
        },
        {
         "Analytical": "-1.0",
         "Anger": "-1.0",
         "Confident": "-1.0",
         "Fear": "-1.0",
         "Joy": "-1.0",
         "Sadness": "-1.0",
         "Tentative": "-1.0",
         "_deepnote_index_column": 2,
         "days since being friends": "636.0",
         "days since last communication": "636.0",
         "name": "AULDIFYCH.VYYGMEYLE",
         "number of messages": "0.0",
         "score": "nan",
         "tie strength": "0.2",
         "tone": "Neutral"
        },
        {
         "Analytical": "-1.0",
         "Anger": "-1.0",
         "Confident": "-1.0",
         "Fear": "-1.0",
         "Joy": "-1.0",
         "Sadness": "-1.0",
         "Tentative": "-1.0",
         "_deepnote_index_column": 3,
         "days since being friends": "1045.0",
         "days since last communication": "1045.0",
         "name": "AULE.BYFMIH",
         "number of messages": "0.0",
         "score": "nan",
         "tie strength": "0.18",
         "tone": "Neutral"
        },
        {
         "Analytical": "-1.0",
         "Anger": "-1.0",
         "Confident": "-1.0",
         "Fear": "-1.0",
         "Joy": "-1.0",
         "Sadness": "-1.0",
         "Tentative": "-1.0",
         "_deepnote_index_column": 4,
         "days since being friends": "1561.0",
         "days since last communication": "1561.0",
         "name": "AULE.HOLHYL",
         "number of messages": "0.0",
         "score": "nan",
         "tie strength": "0.18",
         "tone": "Neutral"
        },
        {
         "Analytical": "-1.0",
         "Anger": "-1.0",
         "Confident": "-1.0",
         "Fear": "-1.0",
         "Joy": "-1.0",
         "Sadness": "-1.0",
         "Tentative": "-1.0",
         "_deepnote_index_column": 5,
         "days since being friends": "1598.0",
         "days since last communication": "1598.0",
         "name": "AULFIH.SCVF",
         "number of messages": "0.0",
         "score": "nan",
         "tie strength": "0.19",
         "tone": "Neutral"
        },
        {
         "Analytical": "-1.0",
         "Anger": "-1.0",
         "Confident": "-1.0",
         "Fear": "-1.0",
         "Joy": "-1.0",
         "Sadness": "-1.0",
         "Tentative": "-1.0",
         "_deepnote_index_column": 6,
         "days since being friends": "367.0",
         "days since last communication": "367.0",
         "name": "AULW.UIFXZLUX",
         "number of messages": "0.0",
         "score": "nan",
         "tie strength": "0.21",
         "tone": "Neutral"
        },
        {
         "Analytical": "-1.0",
         "Anger": "-1.0",
         "Confident": "-1.0",
         "Fear": "-1.0",
         "Joy": "-1.0",
         "Sadness": "-1.0",
         "Tentative": "-1.0",
         "_deepnote_index_column": 7,
         "days since being friends": "704.0",
         "days since last communication": "704.0",
         "name": "AUNBCFXY.YULU",
         "number of messages": "0.0",
         "score": "nan",
         "tie strength": "0.19",
         "tone": "Neutral"
        },
        {
         "Analytical": "-1.0",
         "Anger": "-1.0",
         "Confident": "-1.0",
         "Fear": "-1.0",
         "Joy": "-1.0",
         "Sadness": "-1.0",
         "Tentative": "-1.0",
         "_deepnote_index_column": 8,
         "days since being friends": "459.0",
         "days since last communication": "459.0",
         "name": "AUNN.KBYYFYL",
         "number of messages": "0.0",
         "score": "nan",
         "tie strength": "0.2",
         "tone": "Neutral"
        },
        {
         "Analytical": "-1.0",
         "Anger": "-1.0",
         "Confident": "-1.0",
         "Fear": "-1.0",
         "Joy": "-1.0",
         "Sadness": "-1.0",
         "Tentative": "-1.0",
         "_deepnote_index_column": 9,
         "days since being friends": "686.0",
         "days since last communication": "686.0",
         "name": "AUNN.XIHYM",
         "number of messages": "0.0",
         "score": "nan",
         "tie strength": "0.19",
         "tone": "Neutral"
        },
        {
         "Analytical": "-1.0",
         "Anger": "-1.0",
         "Confident": "-1.0",
         "Fear": "-1.0",
         "Joy": "-1.0",
         "Sadness": "-1.0",
         "Tentative": "-1.0",
         "_deepnote_index_column": 10,
         "days since being friends": "1558.0",
         "days since last communication": "1558.0",
         "name": "AUNYC.PDIFU",
         "number of messages": "0.0",
         "score": "nan",
         "tie strength": "0.18",
         "tone": "Neutral"
        },
        {
         "Analytical": "-1.0",
         "Anger": "-1.0",
         "Confident": "-1.0",
         "Fear": "-1.0",
         "Joy": "-1.0",
         "Sadness": "-1.0",
         "Tentative": "-1.0",
         "_deepnote_index_column": 11,
         "days since being friends": "1548.0",
         "days since last communication": "1548.0",
         "name": "AUR.GJIBH",
         "number of messages": "0.0",
         "score": "nan",
         "tie strength": "0.19",
         "tone": "Neutral"
        },
        {
         "Analytical": "-1.0",
         "Anger": "-1.0",
         "Confident": "-1.0",
         "Fear": "-1.0",
         "Joy": "-1.0",
         "Sadness": "-1.0",
         "Tentative": "-1.0",
         "_deepnote_index_column": 12,
         "days since being friends": "849.0",
         "days since last communication": "849.0",
         "name": "AUR.PCHHM",
         "number of messages": "0.0",
         "score": "nan",
         "tie strength": "0.19",
         "tone": "Neutral"
        },
        {
         "Analytical": "-1.0",
         "Anger": "-1.0",
         "Confident": "-1.0",
         "Fear": "-1.0",
         "Joy": "-1.0",
         "Sadness": "-1.0",
         "Tentative": "-1.0",
         "_deepnote_index_column": 13,
         "days since being friends": "300.0",
         "days since last communication": "300.0",
         "name": "AUR.YYNNYLYL",
         "number of messages": "0.0",
         "score": "nan",
         "tie strength": "0.21",
         "tone": "Neutral"
        },
        {
         "Analytical": "-1.0",
         "Anger": "-1.0",
         "Confident": "-1.0",
         "Fear": "-1.0",
         "Joy": "-1.0",
         "Sadness": "-1.0",
         "Tentative": "-1.0",
         "_deepnote_index_column": 14,
         "days since being friends": "1104.0",
         "days since last communication": "1104.0",
         "name": "AUSU.GOABUCSYL",
         "number of messages": "0.0",
         "score": "nan",
         "tie strength": "0.18",
         "tone": "Neutral"
        },
        {
         "Analytical": "-1.0",
         "Anger": "-1.0",
         "Confident": "-1.0",
         "Fear": "-1.0",
         "Joy": "-1.0",
         "Sadness": "-1.0",
         "Tentative": "-1.0",
         "_deepnote_index_column": 15,
         "days since being friends": "882.0",
         "days since last communication": "882.0",
         "name": "AYBYL.YBOMBUF",
         "number of messages": "0.0",
         "score": "nan",
         "tie strength": "0.18",
         "tone": "Neutral"
        },
        {
         "Analytical": "-1.0",
         "Anger": "-1.0",
         "Confident": "-1.0",
         "Fear": "-1.0",
         "Joy": "-1.0",
         "Sadness": "-1.0",
         "Tentative": "-1.0",
         "_deepnote_index_column": 16,
         "days since being friends": "804.0",
         "days since last communication": "804.0",
         "name": "AYFCMMU.FIMM",
         "number of messages": "0.0",
         "score": "nan",
         "tie strength": "0.19",
         "tone": "Neutral"
        },
        {
         "Analytical": "-1.0",
         "Anger": "-1.0",
         "Confident": "-1.0",
         "Fear": "-1.0",
         "Joy": "-1.0",
         "Sadness": "-1.0",
         "Tentative": "-1.0",
         "_deepnote_index_column": 17,
         "days since being friends": "473.0",
         "days since last communication": "473.0",
         "name": "AYFIXS.MOY",
         "number of messages": "0.0",
         "score": "nan",
         "tie strength": "0.2",
         "tone": "Neutral"
        },
        {
         "Analytical": "-1.0",
         "Anger": "-1.0",
         "Confident": "-1.0",
         "Fear": "-1.0",
         "Joy": "0.61",
         "Sadness": "0.54",
         "Tentative": "-1.0",
         "_deepnote_index_column": 18,
         "days since being friends": "1685.0",
         "days since last communication": "483.0",
         "name": "Alex K. Chen",
         "number of messages": "599.0",
         "score": "0.61",
         "tie strength": "0.77",
         "tone": "Joy"
        },
        {
         "Analytical": "-1.0",
         "Anger": "-1.0",
         "Confident": "-1.0",
         "Fear": "-1.0",
         "Joy": "-1.0",
         "Sadness": "-1.0",
         "Tentative": "-1.0",
         "_deepnote_index_column": 19,
         "days since being friends": "910.0",
         "days since last communication": "910.0",
         "name": "BCAYF.DOHNYL",
         "number of messages": "0.0",
         "score": "nan",
         "tie strength": "0.18",
         "tone": "Neutral"
        },
        {
         "Analytical": "-1.0",
         "Anger": "-1.0",
         "Confident": "-1.0",
         "Fear": "-1.0",
         "Joy": "-1.0",
         "Sadness": "-1.0",
         "Tentative": "-1.0",
         "_deepnote_index_column": 20,
         "days since being friends": "896.0",
         "days since last communication": "896.0",
         "name": "BCEBCF.YLCMBHU",
         "number of messages": "0.0",
         "score": "nan",
         "tie strength": "0.18",
         "tone": "Neutral"
        },
        {
         "Analytical": "-1.0",
         "Anger": "-1.0",
         "Confident": "-1.0",
         "Fear": "-1.0",
         "Joy": "-1.0",
         "Sadness": "-1.0",
         "Tentative": "-1.0",
         "_deepnote_index_column": 21,
         "days since being friends": "939.0",
         "days since last communication": "939.0",
         "name": "BCEC.GBUB",
         "number of messages": "0.0",
         "score": "nan",
         "tie strength": "0.18",
         "tone": "Neutral"
        },
        {
         "Analytical": "-1.0",
         "Anger": "-1.0",
         "Confident": "-1.0",
         "Fear": "-1.0",
         "Joy": "-1.0",
         "Sadness": "-1.0",
         "Tentative": "-1.0",
         "_deepnote_index_column": 22,
         "days since being friends": "788.0",
         "days since last communication": "788.0",
         "name": "BCEI.XUHULYE",
         "number of messages": "0.0",
         "score": "nan",
         "tie strength": "0.19",
         "tone": "Neutral"
        },
        {
         "Analytical": "-1.0",
         "Anger": "-1.0",
         "Confident": "-1.0",
         "Fear": "-1.0",
         "Joy": "-1.0",
         "Sadness": "-1.0",
         "Tentative": "-1.0",
         "_deepnote_index_column": 23,
         "days since being friends": "888.0",
         "days since last communication": "888.0",
         "name": "BCW.JUH.KYYFXY",
         "number of messages": "0.0",
         "score": "nan",
         "tie strength": "0.18",
         "tone": "Neutral"
        },
        {
         "Analytical": "-1.0",
         "Anger": "-1.0",
         "Confident": "-1.0",
         "Fear": "-1.0",
         "Joy": "-1.0",
         "Sadness": "-1.0",
         "Tentative": "-1.0",
         "_deepnote_index_column": 24,
         "days since being friends": "741.0",
         "days since last communication": "741.0",
         "name": "BCWBIFUM.SFFCINN",
         "number of messages": "0.0",
         "score": "nan",
         "tie strength": "0.19",
         "tone": "Neutral"
        },
        {
         "Analytical": "-1.0",
         "Anger": "-1.0",
         "Confident": "-1.0",
         "Fear": "-1.0",
         "Joy": "-1.0",
         "Sadness": "-1.0",
         "Tentative": "-1.0",
         "_deepnote_index_column": 25,
         "days since being friends": "826.0",
         "days since last communication": "826.0",
         "name": "BCWE.CVUHE",
         "number of messages": "0.0",
         "score": "nan",
         "tie strength": "0.19",
         "tone": "Neutral"
        },
        {
         "Analytical": "-1.0",
         "Anger": "-1.0",
         "Confident": "-1.0",
         "Fear": "-1.0",
         "Joy": "-1.0",
         "Sadness": "-1.0",
         "Tentative": "-1.0",
         "_deepnote_index_column": 26,
         "days since being friends": "947.0",
         "days since last communication": "947.0",
         "name": "BCWWIFPO>>WAPO>>V@.DUHCTTULXC",
         "number of messages": "0.0",
         "score": "nan",
         "tie strength": "0.18",
         "tone": "Neutral"
        },
        {
         "Analytical": "-1.0",
         "Anger": "-1.0",
         "Confident": "-1.0",
         "Fear": "-1.0",
         "Joy": "-1.0",
         "Sadness": "-1.0",
         "Tentative": "-1.0",
         "_deepnote_index_column": 27,
         "days since being friends": "969.0",
         "days since last communication": "969.0",
         "name": "BHUGXC.IEUYAVO",
         "number of messages": "0.0",
         "score": "nan",
         "tie strength": "0.18",
         "tone": "Neutral"
        },
        {
         "Analytical": "-1.0",
         "Anger": "-1.0",
         "Confident": "-1.0",
         "Fear": "-1.0",
         "Joy": "-1.0",
         "Sadness": "-1.0",
         "Tentative": "-1.0",
         "_deepnote_index_column": 28,
         "days since being friends": "504.0",
         "days since last communication": "504.0",
         "name": "BIY.ULYYHQIIX",
         "number of messages": "0.0",
         "score": "nan",
         "tie strength": "0.2",
         "tone": "Neutral"
        },
        {
         "Analytical": "-1.0",
         "Anger": "-1.0",
         "Confident": "-1.0",
         "Fear": "-1.0",
         "Joy": "-1.0",
         "Sadness": "-1.0",
         "Tentative": "-1.0",
         "_deepnote_index_column": 29,
         "days since being friends": "1560.0",
         "days since last communication": "1560.0",
         "name": "BUNBUHCYF.TLCYX",
         "number of messages": "0.0",
         "score": "nan",
         "tie strength": "0.39",
         "tone": "Neutral"
        },
        {
         "Analytical": "-1.0",
         "Anger": "-1.0",
         "Confident": "-1.0",
         "Fear": "-1.0",
         "Joy": "-1.0",
         "Sadness": "-1.0",
         "Tentative": "-1.0",
         "_deepnote_index_column": 30,
         "days since being friends": "1546.0",
         "days since last communication": "1546.0",
         "name": "BYX.RUPCYM",
         "number of messages": "0.0",
         "score": "nan",
         "tie strength": "0.21",
         "tone": "Neutral"
        },
        {
         "Analytical": "-1.0",
         "Anger": "-1.0",
         "Confident": "-1.0",
         "Fear": "-1.0",
         "Joy": "-1.0",
         "Sadness": "-1.0",
         "Tentative": "-1.0",
         "_deepnote_index_column": 31,
         "days since being friends": "802.0",
         "days since last communication": "802.0",
         "name": "Billy O'Neill",
         "number of messages": "0.0",
         "score": "nan",
         "tie strength": "0.19",
         "tone": "Neutral"
        },
        {
         "Analytical": "-1.0",
         "Anger": "-1.0",
         "Confident": "-1.0",
         "Fear": "-1.0",
         "Joy": "-1.0",
         "Sadness": "-1.0",
         "Tentative": "-1.0",
         "_deepnote_index_column": 32,
         "days since being friends": "588.0",
         "days since last communication": "588.0",
         "name": "CFCPCYL.ZYMDIHAULX",
         "number of messages": "0.0",
         "score": "nan",
         "tie strength": "0.2",
         "tone": "Neutral"
        },
        {
         "Analytical": "-1.0",
         "Anger": "-1.0",
         "Confident": "-1.0",
         "Fear": "-1.0",
         "Joy": "-1.0",
         "Sadness": "-1.0",
         "Tentative": "-1.0",
         "_deepnote_index_column": 33,
         "days since being friends": "468.0",
         "days since last communication": "468.0",
         "name": "CFCPYL.PLYXMEC",
         "number of messages": "0.0",
         "score": "nan",
         "tie strength": "0.2",
         "tone": "Neutral"
        },
        {
         "Analytical": "-1.0",
         "Anger": "-1.0",
         "Confident": "-1.0",
         "Fear": "-1.0",
         "Joy": "-1.0",
         "Sadness": "-1.0",
         "Tentative": "-1.0",
         "_deepnote_index_column": 34,
         "days since being friends": "758.0",
         "days since last communication": "758.0",
         "name": "CFCPYL.TIR",
         "number of messages": "0.0",
         "score": "nan",
         "tie strength": "0.19",
         "tone": "Neutral"
        }
       ]
      },
      "text/html": [
       "<div>\n",
       "<style scoped>\n",
       "    .dataframe tbody tr th:only-of-type {\n",
       "        vertical-align: middle;\n",
       "    }\n",
       "\n",
       "    .dataframe tbody tr th {\n",
       "        vertical-align: top;\n",
       "    }\n",
       "\n",
       "    .dataframe thead th {\n",
       "        text-align: right;\n",
       "    }\n",
       "</style>\n",
       "<table border=\"1\" class=\"dataframe\">\n",
       "  <thead>\n",
       "    <tr style=\"text-align: right;\">\n",
       "      <th></th>\n",
       "      <th>name</th>\n",
       "      <th>days since being friends</th>\n",
       "      <th>number of messages</th>\n",
       "      <th>days since last communication</th>\n",
       "      <th>tie strength</th>\n",
       "      <th>Anger</th>\n",
       "      <th>Fear</th>\n",
       "      <th>Joy</th>\n",
       "      <th>Sadness</th>\n",
       "      <th>Analytical</th>\n",
       "      <th>Confident</th>\n",
       "      <th>Tentative</th>\n",
       "      <th>tone</th>\n",
       "      <th>score</th>\n",
       "    </tr>\n",
       "  </thead>\n",
       "  <tbody>\n",
       "    <tr>\n",
       "      <th>0</th>\n",
       "      <td>Select a friend!</td>\n",
       "      <td>NaN</td>\n",
       "      <td>NaN</td>\n",
       "      <td>NaN</td>\n",
       "      <td>NaN</td>\n",
       "      <td>NaN</td>\n",
       "      <td>NaN</td>\n",
       "      <td>NaN</td>\n",
       "      <td>NaN</td>\n",
       "      <td>NaN</td>\n",
       "      <td>NaN</td>\n",
       "      <td>NaN</td>\n",
       "      <td>NaN</td>\n",
       "      <td>NaN</td>\n",
       "    </tr>\n",
       "    <tr>\n",
       "      <th>1</th>\n",
       "      <td>AULCIH.DUHUACINIJIOFIO</td>\n",
       "      <td>456.0</td>\n",
       "      <td>0.0</td>\n",
       "      <td>456.0</td>\n",
       "      <td>0.20</td>\n",
       "      <td>-1.0</td>\n",
       "      <td>-1.0</td>\n",
       "      <td>-1.0</td>\n",
       "      <td>-1.0</td>\n",
       "      <td>-1.0</td>\n",
       "      <td>-1.0</td>\n",
       "      <td>-1.0</td>\n",
       "      <td>Neutral</td>\n",
       "      <td>NaN</td>\n",
       "    </tr>\n",
       "    <tr>\n",
       "      <th>2</th>\n",
       "      <td>AULDIFYCH.VYYGMEYLE</td>\n",
       "      <td>636.0</td>\n",
       "      <td>0.0</td>\n",
       "      <td>636.0</td>\n",
       "      <td>0.20</td>\n",
       "      <td>-1.0</td>\n",
       "      <td>-1.0</td>\n",
       "      <td>-1.0</td>\n",
       "      <td>-1.0</td>\n",
       "      <td>-1.0</td>\n",
       "      <td>-1.0</td>\n",
       "      <td>-1.0</td>\n",
       "      <td>Neutral</td>\n",
       "      <td>NaN</td>\n",
       "    </tr>\n",
       "    <tr>\n",
       "      <th>3</th>\n",
       "      <td>AULE.BYFMIH</td>\n",
       "      <td>1045.0</td>\n",
       "      <td>0.0</td>\n",
       "      <td>1045.0</td>\n",
       "      <td>0.18</td>\n",
       "      <td>-1.0</td>\n",
       "      <td>-1.0</td>\n",
       "      <td>-1.0</td>\n",
       "      <td>-1.0</td>\n",
       "      <td>-1.0</td>\n",
       "      <td>-1.0</td>\n",
       "      <td>-1.0</td>\n",
       "      <td>Neutral</td>\n",
       "      <td>NaN</td>\n",
       "    </tr>\n",
       "    <tr>\n",
       "      <th>4</th>\n",
       "      <td>AULE.HOLHYL</td>\n",
       "      <td>1561.0</td>\n",
       "      <td>0.0</td>\n",
       "      <td>1561.0</td>\n",
       "      <td>0.18</td>\n",
       "      <td>-1.0</td>\n",
       "      <td>-1.0</td>\n",
       "      <td>-1.0</td>\n",
       "      <td>-1.0</td>\n",
       "      <td>-1.0</td>\n",
       "      <td>-1.0</td>\n",
       "      <td>-1.0</td>\n",
       "      <td>Neutral</td>\n",
       "      <td>NaN</td>\n",
       "    </tr>\n",
       "    <tr>\n",
       "      <th>...</th>\n",
       "      <td>...</td>\n",
       "      <td>...</td>\n",
       "      <td>...</td>\n",
       "      <td>...</td>\n",
       "      <td>...</td>\n",
       "      <td>...</td>\n",
       "      <td>...</td>\n",
       "      <td>...</td>\n",
       "      <td>...</td>\n",
       "      <td>...</td>\n",
       "      <td>...</td>\n",
       "      <td>...</td>\n",
       "      <td>...</td>\n",
       "      <td>...</td>\n",
       "    </tr>\n",
       "    <tr>\n",
       "      <th>296</th>\n",
       "      <td>ZUOLYH.OLGMNLIHA</td>\n",
       "      <td>457.0</td>\n",
       "      <td>0.0</td>\n",
       "      <td>457.0</td>\n",
       "      <td>0.20</td>\n",
       "      <td>-1.0</td>\n",
       "      <td>-1.0</td>\n",
       "      <td>-1.0</td>\n",
       "      <td>-1.0</td>\n",
       "      <td>-1.0</td>\n",
       "      <td>-1.0</td>\n",
       "      <td>-1.0</td>\n",
       "      <td>Neutral</td>\n",
       "      <td>NaN</td>\n",
       "    </tr>\n",
       "    <tr>\n",
       "      <th>297</th>\n",
       "      <td>ZUOLYH.YCHA</td>\n",
       "      <td>449.0</td>\n",
       "      <td>0.0</td>\n",
       "      <td>449.0</td>\n",
       "      <td>0.20</td>\n",
       "      <td>-1.0</td>\n",
       "      <td>-1.0</td>\n",
       "      <td>-1.0</td>\n",
       "      <td>-1.0</td>\n",
       "      <td>-1.0</td>\n",
       "      <td>-1.0</td>\n",
       "      <td>-1.0</td>\n",
       "      <td>Neutral</td>\n",
       "      <td>NaN</td>\n",
       "    </tr>\n",
       "    <tr>\n",
       "      <th>298</th>\n",
       "      <td>ZYIHULX.GXM</td>\n",
       "      <td>585.0</td>\n",
       "      <td>0.0</td>\n",
       "      <td>585.0</td>\n",
       "      <td>0.20</td>\n",
       "      <td>-1.0</td>\n",
       "      <td>-1.0</td>\n",
       "      <td>-1.0</td>\n",
       "      <td>-1.0</td>\n",
       "      <td>-1.0</td>\n",
       "      <td>-1.0</td>\n",
       "      <td>-1.0</td>\n",
       "      <td>Neutral</td>\n",
       "      <td>NaN</td>\n",
       "    </tr>\n",
       "    <tr>\n",
       "      <th>299</th>\n",
       "      <td>ZYQCM.FBSM</td>\n",
       "      <td>498.0</td>\n",
       "      <td>0.0</td>\n",
       "      <td>498.0</td>\n",
       "      <td>0.20</td>\n",
       "      <td>-1.0</td>\n",
       "      <td>-1.0</td>\n",
       "      <td>-1.0</td>\n",
       "      <td>-1.0</td>\n",
       "      <td>-1.0</td>\n",
       "      <td>-1.0</td>\n",
       "      <td>-1.0</td>\n",
       "      <td>Neutral</td>\n",
       "      <td>NaN</td>\n",
       "    </tr>\n",
       "    <tr>\n",
       "      <th>300</th>\n",
       "      <td>ZYY.XY.KCN</td>\n",
       "      <td>332.0</td>\n",
       "      <td>0.0</td>\n",
       "      <td>332.0</td>\n",
       "      <td>0.21</td>\n",
       "      <td>-1.0</td>\n",
       "      <td>-1.0</td>\n",
       "      <td>-1.0</td>\n",
       "      <td>-1.0</td>\n",
       "      <td>-1.0</td>\n",
       "      <td>-1.0</td>\n",
       "      <td>-1.0</td>\n",
       "      <td>Neutral</td>\n",
       "      <td>NaN</td>\n",
       "    </tr>\n",
       "  </tbody>\n",
       "</table>\n",
       "<p>301 rows × 14 columns</p>\n",
       "</div>"
      ],
      "text/plain": [
       "                       name  days since being friends  number of messages  \\\n",
       "0          Select a friend!                       NaN                 NaN   \n",
       "1    AULCIH.DUHUACINIJIOFIO                     456.0                 0.0   \n",
       "2       AULDIFYCH.VYYGMEYLE                     636.0                 0.0   \n",
       "3               AULE.BYFMIH                    1045.0                 0.0   \n",
       "4               AULE.HOLHYL                    1561.0                 0.0   \n",
       "..                      ...                       ...                 ...   \n",
       "296        ZUOLYH.OLGMNLIHA                     457.0                 0.0   \n",
       "297             ZUOLYH.YCHA                     449.0                 0.0   \n",
       "298             ZYIHULX.GXM                     585.0                 0.0   \n",
       "299              ZYQCM.FBSM                     498.0                 0.0   \n",
       "300              ZYY.XY.KCN                     332.0                 0.0   \n",
       "\n",
       "     days since last communication  tie strength  Anger  Fear  Joy  Sadness  \\\n",
       "0                              NaN           NaN    NaN   NaN  NaN      NaN   \n",
       "1                            456.0          0.20   -1.0  -1.0 -1.0     -1.0   \n",
       "2                            636.0          0.20   -1.0  -1.0 -1.0     -1.0   \n",
       "3                           1045.0          0.18   -1.0  -1.0 -1.0     -1.0   \n",
       "4                           1561.0          0.18   -1.0  -1.0 -1.0     -1.0   \n",
       "..                             ...           ...    ...   ...  ...      ...   \n",
       "296                          457.0          0.20   -1.0  -1.0 -1.0     -1.0   \n",
       "297                          449.0          0.20   -1.0  -1.0 -1.0     -1.0   \n",
       "298                          585.0          0.20   -1.0  -1.0 -1.0     -1.0   \n",
       "299                          498.0          0.20   -1.0  -1.0 -1.0     -1.0   \n",
       "300                          332.0          0.21   -1.0  -1.0 -1.0     -1.0   \n",
       "\n",
       "     Analytical  Confident  Tentative     tone  score  \n",
       "0           NaN        NaN        NaN      NaN    NaN  \n",
       "1          -1.0       -1.0       -1.0  Neutral    NaN  \n",
       "2          -1.0       -1.0       -1.0  Neutral    NaN  \n",
       "3          -1.0       -1.0       -1.0  Neutral    NaN  \n",
       "4          -1.0       -1.0       -1.0  Neutral    NaN  \n",
       "..          ...        ...        ...      ...    ...  \n",
       "296        -1.0       -1.0       -1.0  Neutral    NaN  \n",
       "297        -1.0       -1.0       -1.0  Neutral    NaN  \n",
       "298        -1.0       -1.0       -1.0  Neutral    NaN  \n",
       "299        -1.0       -1.0       -1.0  Neutral    NaN  \n",
       "300        -1.0       -1.0       -1.0  Neutral    NaN  \n",
       "\n",
       "[301 rows x 14 columns]"
      ]
     },
     "execution_count": 23,
     "metadata": {},
     "output_type": "execute_result"
    }
   ],
   "source": [
    "df = df.sort_values(by = ['name'], ascending = True) # sort alphabetically\n",
    "\n",
    "dummy_row = pd.DataFrame({'name':'Select a friend!'}, index =[0]) \n",
    "# concatenate the dummy row to the top of the dataframe\n",
    "df = pd.concat([dummy_row, df]).reset_index(drop = True) \n",
    "\n",
    "df"
   ]
  },
  {
   "cell_type": "code",
   "execution_count": 24,
   "metadata": {
    "cell_id": "00071-ae3e78e1-ed30-4d80-a8fa-ee142f02df82",
    "deepnote_cell_type": "code",
    "deepnote_to_be_reexecuted": false,
    "execution_millis": 123,
    "execution_start": 1609665812597,
    "source_hash": "6cc2d3ea",
    "tags": []
   },
   "outputs": [],
   "source": [
    "# export the dataframe to csv file\n",
    "df.to_csv('df.csv',index=False)"
   ]
  }
 ],
 "metadata": {
  "colab": {
   "collapsed_sections": [],
   "name": "Facebook data Ethi.ipynb",
   "provenance": [],
   "toc_visible": true
  },
  "deepnote_execution_queue": [],
  "deepnote_notebook_id": "33395788-8456-4f59-831a-a8310f493cae",
  "kernelspec": {
   "display_name": "Python 3",
   "language": "python",
   "name": "python3"
  },
  "language_info": {
   "codemirror_mode": {
    "name": "ipython",
    "version": 3
   },
   "file_extension": ".py",
   "mimetype": "text/x-python",
   "name": "python",
   "nbconvert_exporter": "python",
   "pygments_lexer": "ipython3",
   "version": "3.8.5"
  }
 },
 "nbformat": 4,
 "nbformat_minor": 4
}
